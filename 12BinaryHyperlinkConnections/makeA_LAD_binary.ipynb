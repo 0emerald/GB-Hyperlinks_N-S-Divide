{
 "cells": [
  {
   "cell_type": "markdown",
   "id": "e9cc8be0-fc18-49e4-8e94-ee381bd2e757",
   "metadata": {},
   "source": [
    "make the binary LAD level A matrices from the binary MSOA level A matrices"
   ]
  },
  {
   "cell_type": "code",
   "execution_count": 17,
   "id": "eb477fd8-16e5-4e85-bce9-16015f0b2f8c",
   "metadata": {},
   "outputs": [],
   "source": [
    "import numpy as np\n",
    "import pandas as pd\n",
    "from scipy.sparse import csr_matrix, hstack\n",
    "from scipy.io import mmread, mmwrite\n",
    "from scipy.sparse.linalg import svds\n",
    "import matplotlib.pyplot as plt\n",
    "# from scipy import sparse\n",
    "import plotly.express as px\n",
    "from scipy import sparse\n",
    "import png\n",
    "import math\n",
    "import scipy.linalg as LA\n",
    "import nodevectors\n",
    "from sklearn.decomposition import PCA\n",
    "import seaborn as sns\n",
    "from tabulate import tabulate"
   ]
  },
  {
   "cell_type": "markdown",
   "id": "cceece2b-63c3-4829-b423-9cffc7712050",
   "metadata": {},
   "source": [
    "Read in MSOA node data:"
   ]
  },
  {
   "cell_type": "code",
   "execution_count": 18,
   "id": "7527c31b-ef39-4960-bb25-7f32481d782c",
   "metadata": {},
   "outputs": [],
   "source": [
    "# read in MSOA names (labels for A)\n",
    "nodes = pd.read_csv(\"nodes_MSOA.csv\")\n",
    "nodes = nodes[[\"msoa\", \"index\"]]"
   ]
  },
  {
   "cell_type": "markdown",
   "id": "c0d3a875-4630-4bf2-a2d0-c7ea846ed7e2",
   "metadata": {},
   "source": [
    "Read in lookup table from: \n",
    "\n",
    "https://geoportal.statistics.gov.uk/datasets/middle-layer-super-output-area-2001-to-middle-layer-super-output-area-2011-to-local-authority-district-2011-lookup-in-england-and-wales/explore\n",
    "\n",
    "which goes from MSOA to LAD for England and Wales. It is hard to find a lookup table to go between MSOA and Scotland Local authority districts. \n",
    "\n",
    "**see if i can find LADS for scotland so i drop less NAs a few cells down**"
   ]
  },
  {
   "cell_type": "code",
   "execution_count": 19,
   "id": "1714d805-019a-4682-a2a9-c9edaffb361a",
   "metadata": {
    "tags": []
   },
   "outputs": [],
   "source": [
    "MSOA_LAD_lookup = pd.read_csv(\"MSOA2001_MSOA2011_LAD2011_Lookup_EW.csv\")"
   ]
  },
  {
   "cell_type": "code",
   "execution_count": 20,
   "id": "d1b7bea4-8306-47e1-8fdd-a3e13d8422e9",
   "metadata": {},
   "outputs": [],
   "source": [
    "# only interested in the 2011 MSOA codes (not the 2001)\n",
    "MSOA_LAD_lookup = MSOA_LAD_lookup[[\"MSOA11CD\", \"MSOA11NM\", \"LAD11CD\", \"LAD11NM\"]]"
   ]
  },
  {
   "cell_type": "code",
   "execution_count": 21,
   "id": "830c4e95-ecf5-409e-a3d1-7f07237d7d66",
   "metadata": {},
   "outputs": [],
   "source": [
    "MSOA_LAD_lookup = MSOA_LAD_lookup.drop_duplicates()\n",
    "MSOA_LAD_lookup = MSOA_LAD_lookup.dropna()"
   ]
  },
  {
   "cell_type": "code",
   "execution_count": 22,
   "id": "839d98a0-4364-4496-a1ea-d6cb0252f4a3",
   "metadata": {},
   "outputs": [],
   "source": [
    "nodes_to_LAD = nodes.merge(MSOA_LAD_lookup, left_on=\"msoa\", right_on=\"MSOA11CD\", how = \"left\")"
   ]
  },
  {
   "cell_type": "code",
   "execution_count": 23,
   "id": "cdbe0523-3547-4d8f-889b-09307781b7fb",
   "metadata": {},
   "outputs": [
    {
     "data": {
      "text/plain": [
       "(8483, 6)"
      ]
     },
     "execution_count": 23,
     "metadata": {},
     "output_type": "execute_result"
    }
   ],
   "source": [
    "nodes_to_LAD.shape"
   ]
  },
  {
   "cell_type": "code",
   "execution_count": 24,
   "id": "bd88a539-4d6f-4775-81f6-c89533c778eb",
   "metadata": {},
   "outputs": [],
   "source": [
    "nodes_to_LAD = nodes_to_LAD.dropna()"
   ]
  },
  {
   "cell_type": "code",
   "execution_count": 25,
   "id": "f227e49a-65a0-4e41-8743-039c68c9d0c0",
   "metadata": {},
   "outputs": [
    {
     "data": {
      "text/plain": [
       "(7200, 6)"
      ]
     },
     "execution_count": 25,
     "metadata": {},
     "output_type": "execute_result"
    }
   ],
   "source": [
    "nodes_to_LAD.shape\n",
    "# lose the nodes that are scotland or other MSOAs outside of E&W"
   ]
  },
  {
   "cell_type": "code",
   "execution_count": 26,
   "id": "6bb2d55c-1c90-4d8a-9bab-71830b5e2e6c",
   "metadata": {},
   "outputs": [],
   "source": [
    "# define all the LADs in a np array so that later we can go through these values in a for loop\n",
    "lads = nodes_to_LAD.LAD11NM.unique()"
   ]
  },
  {
   "cell_type": "code",
   "execution_count": 27,
   "id": "606942c9-4ab3-4193-8089-3636f35d0a15",
   "metadata": {},
   "outputs": [
    {
     "data": {
      "text/plain": [
       "(348,)"
      ]
     },
     "execution_count": 27,
     "metadata": {},
     "output_type": "execute_result"
    }
   ],
   "source": [
    "lads.shape\n",
    "# 348 LADs in E&W"
   ]
  },
  {
   "cell_type": "raw",
   "id": "37705138-d5f6-4d5d-a8af-3768b02144da",
   "metadata": {},
   "source": [
    "# Save LADs list to a csv file\n",
    "lads_df = pd.DataFrame(lads)\n",
    "lads_df.to_csv(\"LADS_list.csv\", sep=',')"
   ]
  },
  {
   "cell_type": "markdown",
   "id": "03bfcd52-50db-4497-95d8-4f8f3b034c3d",
   "metadata": {},
   "source": [
    "### Make A matrix of the concatenated 348x348 (LAD by LAD) A matrices, from row and column summing."
   ]
  },
  {
   "cell_type": "code",
   "execution_count": 28,
   "id": "a2f8e8f7-3b58-42b3-8e5f-b100c90eacfa",
   "metadata": {},
   "outputs": [],
   "source": [
    "A_list = []\n",
    "A_LADLAD_list = []\n",
    "year_list = []\n",
    "\n",
    "for year in range(2005,2011):\n",
    "    # does 2005-2010 inclusive\n",
    "    filepath = \"A_for_\" + str(year) + \"_binary.mtx\" # file name to read in \n",
    "    A = mmread(filepath) # temporary\n",
    "    \n",
    "    year_list.append(year)\n",
    "    \n",
    "    A = A.toarray()\n",
    "    \n",
    "    A_LADMSOA = list()\n",
    "    A_LADLAD =list() # empty numpy array to fill, one row\n",
    "    # to make \"LAD by LAD\" version of A - called A_LADLAD\n",
    "    \n",
    "    for lad in lads: \n",
    "        \n",
    "        # find all the indexes for the given reg\n",
    "        row_indexes = nodes_to_LAD.loc[nodes_to_LAD[\"LAD11NM\"] == lad, \"index\"]\n",
    "        # make a numpy array and subtract 1, as python indexes from 0 not 1\n",
    "        row_indexes  = row_indexes.to_numpy()\n",
    "        row_indexes = [x - 1 for x in row_indexes]\n",
    "        column_indexes = row_indexes\n",
    "        \n",
    "        # find all the rows with the indexes for that region, and add them together to make one row \n",
    "        row = A[row_indexes, :]\n",
    "        row = np.sum(row, axis=0)\n",
    "        \n",
    "        # one row for each region in the matrix A_RegMSOA\n",
    "        A_LADMSOA.append(row)\n",
    "        \n",
    "    A_LADMSOA = np.asarray(A_LADMSOA)\n",
    "    \n",
    "    for lad in lads: \n",
    "        \n",
    "        # find all the columns with the indexes for that region, from the already row summed matrix, \n",
    "        # and add them together to make one column \n",
    "        column_indexes = nodes_to_LAD.loc[nodes_to_LAD[\"LAD11NM\"] == lad, \"index\"]\n",
    "        column_indexes = column_indexes.to_numpy()\n",
    "        column_indexes = [x - 1 for x in column_indexes]\n",
    "\n",
    "        column = A_LADMSOA[:, column_indexes]\n",
    "        column = np.sum(column, axis=1)\n",
    "        \n",
    "        A_LADLAD.append(column)\n",
    "    \n",
    "    A_LADLAD = np.asarray(A_LADLAD)\n",
    "    A_LADLAD = sparse.coo_matrix(A_LADLAD)\n",
    "\n",
    "    # add a matrix for each year to the list\n",
    "    A_LADLAD_list.append(A_LADLAD)\n",
    "    \n",
    "#print(A_RegMSOA_list)    \n",
    "A_LADLAD_all = hstack(A_LADLAD_list)"
   ]
  },
  {
   "cell_type": "code",
   "execution_count": 29,
   "id": "43ef7bc8-f6c4-462c-958a-ff0aad3ecda8",
   "metadata": {},
   "outputs": [
    {
     "data": {
      "text/plain": [
       "(348, 2088)"
      ]
     },
     "execution_count": 29,
     "metadata": {},
     "output_type": "execute_result"
    }
   ],
   "source": [
    "A_LADLAD_all.shape\n",
    "# n x 6n "
   ]
  },
  {
   "cell_type": "code",
   "execution_count": 14,
   "id": "a3ad04bd-5f46-458c-9acb-3768a918d5a4",
   "metadata": {},
   "outputs": [],
   "source": [
    "# save all the LAD by LAD matrices\n",
    "\n",
    "for i in range(0,6):\n",
    "    mat = A_LADLAD_list[i]\n",
    "    mmwrite(\"A_LAD_\" + str(i+2005) + \"_binary.mtx\", mat)"
   ]
  },
  {
   "cell_type": "code",
   "execution_count": null,
   "id": "b062f6a0-0221-4e3e-9cc4-02df11cfe653",
   "metadata": {},
   "outputs": [],
   "source": []
  }
 ],
 "metadata": {
  "kernelspec": {
   "display_name": "Python 3 (ipykernel)",
   "language": "python",
   "name": "python3"
  },
  "language_info": {
   "codemirror_mode": {
    "name": "ipython",
    "version": 3
   },
   "file_extension": ".py",
   "mimetype": "text/x-python",
   "name": "python",
   "nbconvert_exporter": "python",
   "pygments_lexer": "ipython3",
   "version": "3.9.7"
  }
 },
 "nbformat": 4,
 "nbformat_minor": 5
}
