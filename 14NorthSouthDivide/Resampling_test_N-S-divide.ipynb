{
 "cells": [
  {
   "cell_type": "code",
   "execution_count": 75,
   "id": "99f771af-169d-4d6b-b145-24b079cbc5b0",
   "metadata": {},
   "outputs": [],
   "source": [
    "import numpy as np\n",
    "import pandas as pd\n",
    "from scipy.sparse import csr_matrix, hstack\n",
    "from scipy.io import mmread, mmwrite\n",
    "import matplotlib.pyplot as plt\n",
    "# from scipy import sparse\n",
    "import plotly.express as px\n",
    "import random\n",
    "import math\n",
    "import seaborn as sns"
   ]
  },
  {
   "cell_type": "code",
   "execution_count": 40,
   "id": "3b1223a3-6797-487c-9c91-92c2a077dc63",
   "metadata": {},
   "outputs": [],
   "source": [
    "df = pd.read_csv(\"animationData.csv\")"
   ]
  },
  {
   "cell_type": "code",
   "execution_count": 41,
   "id": "8726581d-85b8-4b4c-8167-5f6d5f7985c2",
   "metadata": {},
   "outputs": [],
   "source": [
    "df = df.drop(columns=([\"LAD1_2\", \"LAD3_4\"]))"
   ]
  },
  {
   "cell_type": "markdown",
   "id": "c1b7b088-5e07-4186-86b3-706d60d64cd1",
   "metadata": {},
   "source": [
    "### Need to assign each LAD to either North or South\n",
    "\n",
    "Use the region to say:\n",
    "East of England, South West, South East, and London constitute 'South'."
   ]
  },
  {
   "cell_type": "code",
   "execution_count": 42,
   "id": "1c976c96-2bbf-45ca-879b-5f8817bf1de7",
   "metadata": {},
   "outputs": [],
   "source": [
    "LAD_Region_lookup = pd.read_csv(\"LAD_Region_lookup.csv\")"
   ]
  },
  {
   "cell_type": "code",
   "execution_count": 43,
   "id": "8bdb7fc9-6bd5-4bb1-bcce-bc901d4a4815",
   "metadata": {},
   "outputs": [],
   "source": [
    "df = df.merge(LAD_Region_lookup, left_on=\"LAD\", right_on=\"LAD11NM\", how=\"left\")"
   ]
  },
  {
   "cell_type": "code",
   "execution_count": 44,
   "id": "467add1a-3478-4b16-a922-e8f424b1d558",
   "metadata": {},
   "outputs": [],
   "source": [
    "df[\"NorthIndicator\"] = np.where( (df[\"RGN11NM\"] == \"London\") | (df[\"RGN11NM\"] == \"South West\") | (df[\"RGN11NM\"] == \"South East\") | (df[\"RGN11NM\"] == \"East of England\"), 0, 1) "
   ]
  },
  {
   "cell_type": "markdown",
   "id": "02b231ea-cdc5-4294-a721-b3dd118a1a12",
   "metadata": {},
   "source": [
    "This was when I was using longituude to define N/S as I didn't know what to do."
   ]
  },
  {
   "cell_type": "code",
   "execution_count": 45,
   "id": "5a85058e-d354-4a25-995e-6d4784d644d3",
   "metadata": {},
   "outputs": [],
   "source": [
    "df = df.rename(columns={\"LAD_x\": \"LAD\"})\n",
    "df = df.drop(columns=([\"LAD_y\", \"Unnamed: 0\", \"LAD11NM\"]))"
   ]
  },
  {
   "cell_type": "code",
   "execution_count": 46,
   "id": "915f1592-36aa-458a-bbc2-b7c63db7a439",
   "metadata": {},
   "outputs": [
    {
     "data": {
      "text/html": [
       "<div>\n",
       "<style scoped>\n",
       "    .dataframe tbody tr th:only-of-type {\n",
       "        vertical-align: middle;\n",
       "    }\n",
       "\n",
       "    .dataframe tbody tr th {\n",
       "        vertical-align: top;\n",
       "    }\n",
       "\n",
       "    .dataframe thead th {\n",
       "        text-align: right;\n",
       "    }\n",
       "</style>\n",
       "<table border=\"1\" class=\"dataframe\">\n",
       "  <thead>\n",
       "    <tr style=\"text-align: right;\">\n",
       "      <th></th>\n",
       "      <th>dim1</th>\n",
       "      <th>dim2</th>\n",
       "      <th>dim3</th>\n",
       "      <th>dim4</th>\n",
       "      <th>year</th>\n",
       "      <th>Xscaled</th>\n",
       "      <th>Yscaled</th>\n",
       "      <th>LAD</th>\n",
       "      <th>col</th>\n",
       "      <th>index</th>\n",
       "      <th>LAD11CD</th>\n",
       "      <th>RGN11CD</th>\n",
       "      <th>RGN11NM</th>\n",
       "      <th>NorthIndicator</th>\n",
       "    </tr>\n",
       "  </thead>\n",
       "  <tbody>\n",
       "    <tr>\n",
       "      <th>0</th>\n",
       "      <td>-0.107843</td>\n",
       "      <td>1.474271e-01</td>\n",
       "      <td>-0.085918</td>\n",
       "      <td>0.067565</td>\n",
       "      <td>2005</td>\n",
       "      <td>0.784615</td>\n",
       "      <td>0.289551</td>\n",
       "      <td>Westminster</td>\n",
       "      <td>#C8334A</td>\n",
       "      <td>179</td>\n",
       "      <td>E09000033</td>\n",
       "      <td>E12000007</td>\n",
       "      <td>London</td>\n",
       "      <td>0</td>\n",
       "    </tr>\n",
       "    <tr>\n",
       "      <th>1</th>\n",
       "      <td>-0.075522</td>\n",
       "      <td>5.805172e-02</td>\n",
       "      <td>-0.039126</td>\n",
       "      <td>-0.008742</td>\n",
       "      <td>2005</td>\n",
       "      <td>0.795622</td>\n",
       "      <td>0.282016</td>\n",
       "      <td>Southwark</td>\n",
       "      <td>#CB3348</td>\n",
       "      <td>321</td>\n",
       "      <td>E09000028</td>\n",
       "      <td>E12000007</td>\n",
       "      <td>London</td>\n",
       "      <td>0</td>\n",
       "    </tr>\n",
       "    <tr>\n",
       "      <th>2</th>\n",
       "      <td>-0.060125</td>\n",
       "      <td>-3.298477e-07</td>\n",
       "      <td>-0.026208</td>\n",
       "      <td>0.007644</td>\n",
       "      <td>2005</td>\n",
       "      <td>0.800248</td>\n",
       "      <td>0.290575</td>\n",
       "      <td>Tower Hamlets</td>\n",
       "      <td>#CC334A</td>\n",
       "      <td>171</td>\n",
       "      <td>E09000030</td>\n",
       "      <td>E12000007</td>\n",
       "      <td>London</td>\n",
       "      <td>0</td>\n",
       "    </tr>\n",
       "    <tr>\n",
       "      <th>3</th>\n",
       "      <td>-0.073188</td>\n",
       "      <td>5.153974e-02</td>\n",
       "      <td>-0.043687</td>\n",
       "      <td>-0.025779</td>\n",
       "      <td>2005</td>\n",
       "      <td>0.777226</td>\n",
       "      <td>0.285945</td>\n",
       "      <td>Hammersmith and Fulham</td>\n",
       "      <td>#C63349</td>\n",
       "      <td>296</td>\n",
       "      <td>E09000013</td>\n",
       "      <td>E12000007</td>\n",
       "      <td>London</td>\n",
       "      <td>0</td>\n",
       "    </tr>\n",
       "    <tr>\n",
       "      <th>4</th>\n",
       "      <td>-0.055033</td>\n",
       "      <td>-6.681403e-03</td>\n",
       "      <td>-0.044061</td>\n",
       "      <td>0.006443</td>\n",
       "      <td>2005</td>\n",
       "      <td>0.780755</td>\n",
       "      <td>0.287109</td>\n",
       "      <td>Kensington and Chelsea</td>\n",
       "      <td>#C73349</td>\n",
       "      <td>297</td>\n",
       "      <td>E09000020</td>\n",
       "      <td>E12000007</td>\n",
       "      <td>London</td>\n",
       "      <td>0</td>\n",
       "    </tr>\n",
       "  </tbody>\n",
       "</table>\n",
       "</div>"
      ],
      "text/plain": [
       "       dim1          dim2      dim3      dim4  year   Xscaled   Yscaled  \\\n",
       "0 -0.107843  1.474271e-01 -0.085918  0.067565  2005  0.784615  0.289551   \n",
       "1 -0.075522  5.805172e-02 -0.039126 -0.008742  2005  0.795622  0.282016   \n",
       "2 -0.060125 -3.298477e-07 -0.026208  0.007644  2005  0.800248  0.290575   \n",
       "3 -0.073188  5.153974e-02 -0.043687 -0.025779  2005  0.777226  0.285945   \n",
       "4 -0.055033 -6.681403e-03 -0.044061  0.006443  2005  0.780755  0.287109   \n",
       "\n",
       "                      LAD      col  index    LAD11CD    RGN11CD RGN11NM  \\\n",
       "0             Westminster  #C8334A    179  E09000033  E12000007  London   \n",
       "1               Southwark  #CB3348    321  E09000028  E12000007  London   \n",
       "2           Tower Hamlets  #CC334A    171  E09000030  E12000007  London   \n",
       "3  Hammersmith and Fulham  #C63349    296  E09000013  E12000007  London   \n",
       "4  Kensington and Chelsea  #C73349    297  E09000020  E12000007  London   \n",
       "\n",
       "   NorthIndicator  \n",
       "0               0  \n",
       "1               0  \n",
       "2               0  \n",
       "3               0  \n",
       "4               0  "
      ]
     },
     "execution_count": 46,
     "metadata": {},
     "output_type": "execute_result"
    }
   ],
   "source": [
    "df.head()"
   ]
  },
  {
   "cell_type": "code",
   "execution_count": 47,
   "id": "dc590117-4141-4753-8808-f3b433f32d0f",
   "metadata": {},
   "outputs": [],
   "source": [
    "# a = np.where(df[\"Yscaled\"] > 0.5) # longitude value is more than halfway up the range of longitude values in our data"
   ]
  },
  {
   "cell_type": "code",
   "execution_count": 48,
   "id": "b081e809-628a-4098-80bf-71a1a42bee8c",
   "metadata": {},
   "outputs": [],
   "source": [
    "# df.loc[a]"
   ]
  },
  {
   "cell_type": "code",
   "execution_count": 49,
   "id": "0ec3e9bc-152f-4848-858d-afe77f224116",
   "metadata": {},
   "outputs": [],
   "source": [
    "# df[\"NorthIndicator\"] = np.where(df[\"Yscaled\"] > 0.5, 1, 0) \n",
    "# 1 for North, 0 for South"
   ]
  },
  {
   "cell_type": "code",
   "execution_count": 50,
   "id": "7e3d968a-5d12-4f29-994e-a721d47e9110",
   "metadata": {},
   "outputs": [
    {
     "data": {
      "text/plain": [
       "array([2005, 2006, 2007, 2008, 2009, 2010])"
      ]
     },
     "execution_count": 50,
     "metadata": {},
     "output_type": "execute_result"
    }
   ],
   "source": [
    "years = df[\"year\"].unique()\n",
    "years "
   ]
  },
  {
   "cell_type": "raw",
   "id": "027f90a6-a0bb-4e5c-90d7-3cdde0f294f6",
   "metadata": {},
   "source": [
    "indexes = list(range(years.shape[0]))\n",
    "random.shuffle(indexes)\n",
    "a  = indexes[0:3]\n",
    "a"
   ]
  },
  {
   "cell_type": "raw",
   "id": "5cffc573-801f-49ec-949b-9cc58852d888",
   "metadata": {},
   "source": [
    "years[a]"
   ]
  },
  {
   "cell_type": "markdown",
   "id": "f97eaffc-dcd3-413d-b962-b3791bf3bea0",
   "metadata": {},
   "source": [
    "### 04/10/2022"
   ]
  },
  {
   "cell_type": "code",
   "execution_count": 51,
   "id": "0399b0bd-9177-4cf6-a817-cdd0be1b93d7",
   "metadata": {},
   "outputs": [
    {
     "data": {
      "text/plain": [
       "164"
      ]
     },
     "execution_count": 51,
     "metadata": {},
     "output_type": "execute_result"
    }
   ],
   "source": [
    "# how many LADs are in the north\n",
    "n = df[(df[\"year\"]==2005) & (df[\"NorthIndicator\"]==1)].shape[0]\n",
    "# how many LADs are in the south\n",
    "s = df[(df[\"year\"]==2005) & (df[\"NorthIndicator\"]==0)].shape[0]\n",
    "\n",
    "n"
   ]
  },
  {
   "cell_type": "code",
   "execution_count": 52,
   "id": "1fc6dbb8-5fdb-4738-9fe8-870120819cb6",
   "metadata": {},
   "outputs": [],
   "source": [
    "d = 4"
   ]
  },
  {
   "cell_type": "code",
   "execution_count": 53,
   "id": "8bae36af-d3ea-442a-9852-47859d81a39c",
   "metadata": {},
   "outputs": [],
   "source": [
    "earlyYears = years[0:3] # 2005-2007\n",
    "lateYears = years[3:6]  # 2008-2010"
   ]
  },
  {
   "cell_type": "code",
   "execution_count": 54,
   "id": "694d122e-7f37-44c4-b579-f69e2ab6cb9f",
   "metadata": {},
   "outputs": [],
   "source": [
    "mean_diff_early = []\n",
    "mean_diff_late = []"
   ]
  },
  {
   "cell_type": "code",
   "execution_count": 55,
   "id": "6f560157-a585-4d72-b85c-d6243a995a1d",
   "metadata": {},
   "outputs": [],
   "source": [
    "# make a column that is 1 if the year is an \"early year\"\n",
    "df[\"EarlyIndicator\"] = np.where( (df[\"year\"] == earlyYears[0]) | (df[\"year\"] == earlyYears[1]) | (df[\"year\"] == earlyYears[2]), 1, 0) \n",
    "earlyNorthdf = df[ (df[\"EarlyIndicator\"] == 1) & (df[\"NorthIndicator\"] == 1) ]\n",
    "earlySouthdf = df[ (df[\"EarlyIndicator\"] == 1) & (df[\"NorthIndicator\"] == 0) ]\n",
    "lateNorthdf = df[ (df[\"EarlyIndicator\"] == 0) & (df[\"NorthIndicator\"] == 1) ]\n",
    "lateSouthdf = df[ (df[\"EarlyIndicator\"] == 0) & (df[\"NorthIndicator\"] == 0) ]"
   ]
  },
  {
   "cell_type": "code",
   "execution_count": 56,
   "id": "8db48a5d-baeb-49a1-a913-f1a3eb30c269",
   "metadata": {},
   "outputs": [],
   "source": [
    "# calculate values of mean_diff_early_i for all i, i.e. all PCs, and store them in order in a vector\n",
    "# same for mean_diff_late_i\n",
    "\n",
    "for i in range(0,d):\n",
    "    valEarly = (1/3*n) * sum( earlyNorthdf.iloc[: ,i])  -  (1/3*s) * sum( earlySouthdf.iloc[: ,i])\n",
    "    valLate = (1/3*n) * sum( lateNorthdf.iloc[: ,i])  -  (1/3*s) * sum( lateSouthdf.iloc[: ,i])\n",
    "    mean_diff_early.append(valEarly)\n",
    "    mean_diff_late.append(valLate)"
   ]
  },
  {
   "cell_type": "code",
   "execution_count": 57,
   "id": "b4714f71-236d-4d46-b396-d5381862445c",
   "metadata": {},
   "outputs": [
    {
     "data": {
      "text/plain": [
       "array([-30.00939698,  -1.16528904,  52.48779058, 139.49646794])"
      ]
     },
     "execution_count": 57,
     "metadata": {},
     "output_type": "execute_result"
    }
   ],
   "source": [
    "# calculate T_PC_i\n",
    "T_PC = np.subtract(mean_diff_early, mean_diff_late)\n",
    "\n",
    "# length d vector of the subtracted values\n",
    "T_PC"
   ]
  },
  {
   "cell_type": "code",
   "execution_count": 58,
   "id": "54fbef32-546f-432b-a1b7-a69e4a79d0d2",
   "metadata": {},
   "outputs": [
    {
     "data": {
      "text/plain": [
       "23116.154534142952"
      ]
     },
     "execution_count": 58,
     "metadata": {},
     "output_type": "execute_result"
    }
   ],
   "source": [
    "T_full_obs = sum(T_PC**2) # this is T_obs\n",
    "T_obs = T_full_obs # incase I type wrong thing\n",
    "T_full_obs"
   ]
  },
  {
   "cell_type": "markdown",
   "id": "673eea91-c184-47ac-b93f-8e9a3e2fc8a4",
   "metadata": {},
   "source": [
    "#### Permute assignments of LADs into before/after independently\n",
    "\n",
    "If the null hypothesis says that time doesn't matter, the labelling of columns into positions shouldn't matter. So we can permute the assignments.\n",
    "Each LAD is counted exactly 3 times in the early/late groups, which we might label A and B when permuting to avoid confusion. Which groups the LADs columns are assigned to are done **independently** for each LAD."
   ]
  },
  {
   "cell_type": "code",
   "execution_count": 59,
   "id": "9dfd0771-7782-425d-a65c-1d9cf4809b98",
   "metadata": {},
   "outputs": [
    {
     "data": {
      "text/plain": [
       "348"
      ]
     },
     "execution_count": 59,
     "metadata": {},
     "output_type": "execute_result"
    }
   ],
   "source": [
    "ladslist = pd.read_csv(\"LADS_list.csv\", header=None)\n",
    "\n",
    "ladslist = ladslist[1]\n",
    "ladslist = list(ladslist)\n",
    "len(ladslist)"
   ]
  },
  {
   "cell_type": "code",
   "execution_count": 60,
   "id": "62f2110c-2241-4415-8d88-bf00d02a6cb2",
   "metadata": {},
   "outputs": [],
   "source": [
    "# df[(df[\"LAD\"]==\"Leeds\") | (df['LAD']==\"York\")]"
   ]
  },
  {
   "cell_type": "raw",
   "id": "a9eb2bf9-d655-4289-b9bb-81dcc533cca8",
   "metadata": {},
   "source": [
    "rand_ones = np.array([0,0,0,1,1,1])\n",
    "df[\"A_indicator\"] = 0"
   ]
  },
  {
   "cell_type": "raw",
   "id": "560a8f4b-e162-42b7-a2e3-307db046ffd2",
   "metadata": {},
   "source": [
    "for lad in ladslist:\n",
    "    # to pick 3 timepoints at random for group A\n",
    "    random.shuffle(rand_ones)\n",
    "    \n",
    "    df.loc[df[\"LAD\"] == lad,\"A_indicator\"] = rand_ones\n",
    "    "
   ]
  },
  {
   "cell_type": "raw",
   "id": "c2284e7b-3152-4409-9de6-3e1280360059",
   "metadata": {},
   "source": [
    "mean_diff_A_p = []  #A is early, B is late\n",
    "mean_diff_B_p = []"
   ]
  },
  {
   "cell_type": "raw",
   "id": "816fe066-b4ef-4496-8eec-2a93d2a580d4",
   "metadata": {},
   "source": [
    "A_Northdf = df[ (df[\"A_indicator\"] == 1) & (df[\"NorthIndicator\"] == 1) ]\n",
    "A_Southdf = df[ (df[\"A_indicator\"] == 1) & (df[\"NorthIndicator\"] == 0) ]\n",
    "B_Northdf = df[ (df[\"A_indicator\"] == 0) & (df[\"NorthIndicator\"] == 1) ]\n",
    "B_Southdf = df[ (df[\"A_indicator\"] == 0) & (df[\"NorthIndicator\"] == 0) ]"
   ]
  },
  {
   "cell_type": "raw",
   "id": "01a5a3ab-f9f5-4f84-80fd-70fa361d716e",
   "metadata": {},
   "source": [
    "# calculate values of mean_diff_A_i for all i, i.e. all PCs, and store them in order in a vector\n",
    "# same for mean_diff_B_i\n",
    "\n",
    "for i in range(0,d):\n",
    "    valA = (1/3*n) * sum( A_Northdf.iloc[: ,i])  -  (1/3*s) * sum( A_Southdf.iloc[: ,i])\n",
    "    valB = (1/3*n) * sum( B_Northdf.iloc[: ,i])  -  (1/3*s) * sum( B_Southdf.iloc[: ,i])\n",
    "    mean_diff_A_p.append(valA)\n",
    "    mean_diff_B_p.append(valB)"
   ]
  },
  {
   "cell_type": "raw",
   "id": "029434ad-3f04-4dce-a880-55c7bfeeb9eb",
   "metadata": {},
   "source": [
    "# calculate T_PC_i_p\n",
    "T_PC_p = np.subtract(mean_diff_A_p, mean_diff_B_p)\n",
    "\n",
    "# length d vector of the subtracted values\n",
    "T_PC_p"
   ]
  },
  {
   "cell_type": "raw",
   "id": "37fe28a6-1fe7-404f-98b0-91ab11627118",
   "metadata": {},
   "source": [
    "T_full_p = sum(T_PC_p**2) # T for the p-th permutation\n",
    "T_full_p"
   ]
  },
  {
   "cell_type": "markdown",
   "id": "d5037948-6811-44cd-8c17-8a9cbf39c244",
   "metadata": {},
   "source": [
    "### Put it all together in a loop that iterates P times, and stores P items in a `T_full_p_list` item. "
   ]
  },
  {
   "cell_type": "code",
   "execution_count": 61,
   "id": "ef330941-472f-4cab-9fb0-f222330135f1",
   "metadata": {},
   "outputs": [],
   "source": [
    "rand_ones = np.array([0,0,0,1,1,1])\n",
    "df[\"A_indicator\"] = 0\n",
    "\n",
    "T_full_p_list = []\n",
    "P = 5000\n",
    "\n",
    "# for the individual PCs\n",
    "T_PC_p_table = pd.DataFrame(columns=['dim1','dim2','dim3','dim4'])"
   ]
  },
  {
   "cell_type": "code",
   "execution_count": 64,
   "id": "1a3041f3-f7e8-4fbd-8f96-5ccf46f0dfcc",
   "metadata": {},
   "outputs": [],
   "source": [
    "for p in range(P):\n",
    "\n",
    "    for lad in ladslist:\n",
    "        # to pick 3 timepoints at random for group A\n",
    "        random.shuffle(rand_ones)\n",
    "        # populates the \"A_indicator\" column\n",
    "        df.loc[df[\"LAD\"] == lad,\"A_indicator\"] = rand_ones\n",
    "\n",
    "    # split the data into the 4 groups (made up of 2 binary labels, 2*2 = 4)\n",
    "    A_Northdf = df[ (df[\"A_indicator\"] == 1) & (df[\"NorthIndicator\"] == 1) ]\n",
    "    A_Southdf = df[ (df[\"A_indicator\"] == 1) & (df[\"NorthIndicator\"] == 0) ]\n",
    "    B_Northdf = df[ (df[\"A_indicator\"] == 0) & (df[\"NorthIndicator\"] == 1) ]\n",
    "    B_Southdf = df[ (df[\"A_indicator\"] == 0) & (df[\"NorthIndicator\"] == 0) ]\n",
    "\n",
    "    # length d vectors of the difference between the mean locations of the North and South for the 2 groups, A and B \n",
    "    mean_diff_A_p = []  #A is early, B is late\n",
    "    mean_diff_B_p = []\n",
    "    # calculate values of mean_diff_A_i for all i, i.e. all PCs, and store them in order in a vector\n",
    "    # same for mean_diff_B_i\n",
    "    for i in range(0,d):\n",
    "        valA = (1/3*n) * sum( A_Northdf.iloc[: ,i])  -  (1/3*s) * sum( A_Southdf.iloc[: ,i])\n",
    "        valB = (1/3*n) * sum( B_Northdf.iloc[: ,i])  -  (1/3*s) * sum( B_Southdf.iloc[: ,i])\n",
    "        mean_diff_A_p.append(valA)\n",
    "        mean_diff_B_p.append(valB)\n",
    "\n",
    "    # calculate T_PC_i_p\n",
    "    T_PC_p = np.subtract(mean_diff_A_p, mean_diff_B_p)\n",
    "\n",
    "    T_full_p = sum(T_PC_p**2) # this is T_obs\n",
    "\n",
    "    # values for all dimensions statistic \n",
    "    T_full_p_list.append(T_full_p)\n",
    "    \n",
    "    # values for individual dimension statistic\n",
    "    T_PC_p_table.loc[p,:] = T_PC_p"
   ]
  },
  {
   "cell_type": "code",
   "execution_count": 65,
   "id": "333c60d3-fed0-49a0-8b91-913606093d93",
   "metadata": {},
   "outputs": [],
   "source": [
    "counter = 0\n",
    "for p in range(P):\n",
    "    if T_full_p_list[p] > T_obs:\n",
    "        counter += 1\n",
    "    else: \n",
    "        counter = counter"
   ]
  },
  {
   "cell_type": "code",
   "execution_count": 66,
   "id": "b7b451f3-95d3-4b0e-b254-e259b7453cdc",
   "metadata": {},
   "outputs": [
    {
     "data": {
      "text/plain": [
       "19"
      ]
     },
     "execution_count": 66,
     "metadata": {},
     "output_type": "execute_result"
    }
   ],
   "source": [
    "counter"
   ]
  },
  {
   "cell_type": "code",
   "execution_count": 67,
   "id": "7d252162-3dd0-4c02-88b8-c6e8981c69a5",
   "metadata": {},
   "outputs": [
    {
     "data": {
      "text/plain": [
       "40014.08471003582"
      ]
     },
     "execution_count": 67,
     "metadata": {},
     "output_type": "execute_result"
    }
   ],
   "source": [
    "max(T_full_p_list)"
   ]
  },
  {
   "cell_type": "code",
   "execution_count": 68,
   "id": "7da34dc6-4103-446e-b207-241ec4da403f",
   "metadata": {},
   "outputs": [
    {
     "data": {
      "text/plain": [
       "0.003999200159968006"
      ]
     },
     "execution_count": 68,
     "metadata": {},
     "output_type": "execute_result"
    }
   ],
   "source": [
    "# because we consider:\n",
    "# p-value = (1/(P+1)) #test statistics >= T_obs \n",
    "# where T_obs and T_p are all considered.\n",
    "(counter+1)/(P+1)"
   ]
  },
  {
   "cell_type": "code",
   "execution_count": 69,
   "id": "2f58290b-431c-4c57-a96a-98e57bd8769b",
   "metadata": {},
   "outputs": [
    {
     "data": {
      "text/plain": [
       "<matplotlib.lines.Line2D at 0x7f05f70b73a0>"
      ]
     },
     "execution_count": 69,
     "metadata": {},
     "output_type": "execute_result"
    },
    {
     "data": {
      "image/png": "[encoded data removed]",
      "text/plain": [
       "<Figure size 432x288 with 1 Axes>"
      ]
     },
     "metadata": {
      "needs_background": "light"
     },
     "output_type": "display_data"
    }
   ],
   "source": [
    "plt.hist(T_full_p_list, bins=20)\n",
    "plt.axvline(T_obs,color='red')"
   ]
  },
  {
   "cell_type": "markdown",
   "id": "e638d626-0af8-4461-83b3-f14ad78b66a8",
   "metadata": {},
   "source": [
    "This is across all d=4 embedding dimensions. We should split this out now to have 4 T_obs, one for each PC, and then get P replicates of T_PC_i"
   ]
  },
  {
   "cell_type": "markdown",
   "id": "39b5fa1a-5270-4eae-88e3-856cea6db5dc",
   "metadata": {},
   "source": [
    "#### Testing if time matters in each of the 4 dimensions independently\n",
    "I think we can do this as the dimensions are orthogonal"
   ]
  },
  {
   "cell_type": "code",
   "execution_count": 70,
   "id": "90fd4221-f2b3-4526-9a02-ec99cbc76455",
   "metadata": {},
   "outputs": [
    {
     "data": {
      "text/plain": [
       "[0.8926214757048591,\n",
       " 0.5138972205558888,\n",
       " 0.08578284343131373,\n",
       " 0.0003999200159968006]"
      ]
     },
     "execution_count": 70,
     "metadata": {},
     "output_type": "execute_result"
    }
   ],
   "source": [
    "counters_PCs = []\n",
    "for dim in range(d):\n",
    "    counter = 0\n",
    "    for p in range(P):\n",
    "        if T_PC_p_table.iloc[p , dim] > T_PC[dim]:\n",
    "            counter += 1\n",
    "        else: \n",
    "            counter = counter\n",
    "    counters_PCs.append(counter)\n",
    "\n",
    "PC_p_values = [x / (P+1) for x in counters_PCs]\n",
    "PC_p_values"
   ]
  },
  {
   "cell_type": "code",
   "execution_count": 71,
   "id": "03ae1444-50c1-4437-b8fd-4159b0458886",
   "metadata": {},
   "outputs": [
    {
     "data": {
      "text/plain": [
       "array([-30.00939698,  -1.16528904,  52.48779058, 139.49646794])"
      ]
     },
     "execution_count": 71,
     "metadata": {},
     "output_type": "execute_result"
    }
   ],
   "source": [
    "T_PC"
   ]
  },
  {
   "cell_type": "code",
   "execution_count": 72,
   "id": "68f0fd2f-0758-4c16-bfd8-58fc8388fd4f",
   "metadata": {},
   "outputs": [
    {
     "data": {
      "text/plain": [
       "(5000,)"
      ]
     },
     "execution_count": 72,
     "metadata": {},
     "output_type": "execute_result"
    }
   ],
   "source": [
    "T_PC_p_table.iloc[:,0].shape"
   ]
  },
  {
   "cell_type": "code",
   "execution_count": 73,
   "id": "8fb66f2f-d30f-4207-a94d-e3e241013876",
   "metadata": {},
   "outputs": [],
   "source": [
    "# can square all the values in the `T_PC_p_table` table.\n",
    "# This is to say we are looking at the value of   (mean_diff_A_p_i - mean_diff_B_p_i)**2\n",
    "# when we look at row p, column i in the table\n",
    "\n",
    "T_PC_p_table_squared = T_PC_p_table**2 # #square every value in df"
   ]
  },
  {
   "cell_type": "markdown",
   "id": "1294a1ab-b720-4d73-905d-1fc1dffc380f",
   "metadata": {},
   "source": [
    "Histograms for *mean_diff_A_p_i - mean_diff_B_p_i*, where there is a plot for each `i` (the dimension), and `P` counts. "
   ]
  },
  {
   "cell_type": "code",
   "execution_count": 76,
   "id": "555c9d9a-9fb6-4714-a496-906440cb075f",
   "metadata": {},
   "outputs": [
    {
     "data": {
      "image/png": "[encoded data removed]",
      "text/plain": [
       "<Figure size 432x288 with 1 Axes>"
      ]
     },
     "metadata": {
      "needs_background": "light"
     },
     "output_type": "display_data"
    },
    {
     "data": {
      "image/png": "[encoded data removed]",
      "text/plain": [
       "<Figure size 432x288 with 1 Axes>"
      ]
     },
     "metadata": {
      "needs_background": "light"
     },
     "output_type": "display_data"
    },
    {
     "data": {
      "image/png": "[encoded data removed]",
      "text/plain": [
       "<Figure size 432x288 with 1 Axes>"
      ]
     },
     "metadata": {
      "needs_background": "light"
     },
     "output_type": "display_data"
    },
    {
     "data": {
      "image/png": "[encoded data removed]",
      "text/plain": [
       "<Figure size 432x288 with 1 Axes>"
      ]
     },
     "metadata": {
      "needs_background": "light"
     },
     "output_type": "display_data"
    }
   ],
   "source": [
    "for dim in range(d):\n",
    "    f, ax = plt.subplots()\n",
    "    ax = sns.histplot(T_PC_p_table.iloc[:,dim], bins=20)\n",
    "    plt.axvline(T_PC[dim], color=\"red\")\n",
    "    ax.set_title(\"Dimension{}\".format(dim+1))\n",
    "    \n",
    "    fig = ax.get_figure()"
   ]
  },
  {
   "cell_type": "markdown",
   "id": "d77e98da-d8a3-4dc4-a51a-4e63a7df4180",
   "metadata": {},
   "source": [
    "### Histograms for *(mean_diff_A_p_i - mean_diff_B_p_i)$^2$*, where there is a plot for each `i` (the dimension), and `P` counts. "
   ]
  },
  {
   "cell_type": "code",
   "execution_count": 77,
   "id": "448ff08b-4d2c-473a-8711-75ddc0f6f983",
   "metadata": {},
   "outputs": [
    {
     "data": {
      "text/plain": [
       "[0.21355728854229153,\n",
       " 0.9776044791041791,\n",
       " 0.17436512697460507,\n",
       " 0.0003999200159968006]"
      ]
     },
     "execution_count": 77,
     "metadata": {},
     "output_type": "execute_result"
    }
   ],
   "source": [
    "counters_PCs = []\n",
    "for dim in range(d):\n",
    "    counter = 0\n",
    "    for p in range(P):\n",
    "        if T_PC_p_table_squared.iloc[p , dim] > (T_PC[dim])**2:\n",
    "            counter += 1\n",
    "        else: \n",
    "            counter = counter\n",
    "    counters_PCs.append(counter)\n",
    "\n",
    "PC_p_square_values = [x / (P+1) for x in counters_PCs]\n",
    "PC_p_square_values"
   ]
  },
  {
   "cell_type": "markdown",
   "id": "9d2bffb3-e1fc-4fff-9c7a-09360e5631cc",
   "metadata": {},
   "source": [
    "Tells us at the 5% significance level, we can see that only a significant change for PC4 in that we see a change between the \n",
    "**early** years (2005-2007) and the **late** years (2008-2010).\n",
    "\n",
    "* PC3 is latitude (East-West)\n",
    "* PC4 is longitude (North-South)"
   ]
  },
  {
   "cell_type": "code",
   "execution_count": 79,
   "id": "8ecf1f0c-cc5e-495e-a789-1fc340e3941b",
   "metadata": {},
   "outputs": [
    {
     "data": {
      "image/png": "[encoded data removed]",
      "text/plain": [
       "<Figure size 432x288 with 1 Axes>"
      ]
     },
     "metadata": {
      "needs_background": "light"
     },
     "output_type": "display_data"
    },
    {
     "data": {
      "image/png": "[encoded data removed]",
      "text/plain": [
       "<Figure size 432x288 with 1 Axes>"
      ]
     },
     "metadata": {
      "needs_background": "light"
     },
     "output_type": "display_data"
    },
    {
     "data": {
      "image/png": "[encoded data removed]",
      "text/plain": [
       "<Figure size 432x288 with 1 Axes>"
      ]
     },
     "metadata": {
      "needs_background": "light"
     },
     "output_type": "display_data"
    },
    {
     "data": {
      "image/png": "[encoded data removed]",
      "text/plain": [
       "<Figure size 432x288 with 1 Axes>"
      ]
     },
     "metadata": {
      "needs_background": "light"
     },
     "output_type": "display_data"
    }
   ],
   "source": [
    "# squared values of distance between mean diff in groups A and B\n",
    "\n",
    "for dim in range(d):\n",
    "    f, ax = plt.subplots()\n",
    "    ax = sns.histplot(T_PC_p_table_squared.iloc[:,dim], bins=20)\n",
    "    plt.axvline( (T_PC[dim])**2 , color=\"red\")\n",
    "    ax.set_title(\"Dimension{}\".format(dim+1))\n",
    "    \n",
    "    fig = ax.get_figure()"
   ]
  },
  {
   "cell_type": "code",
   "execution_count": null,
   "id": "b40d51e1-cc60-4587-817a-a258b5f420f2",
   "metadata": {},
   "outputs": [],
   "source": []
  },
  {
   "cell_type": "code",
   "execution_count": null,
   "id": "3a884a14-daae-40da-9e3e-5c3270a681f8",
   "metadata": {},
   "outputs": [],
   "source": []
  },
  {
   "cell_type": "code",
   "execution_count": null,
   "id": "ad529d3d-a81a-4849-8864-136b15a94188",
   "metadata": {},
   "outputs": [],
   "source": []
  }
 ],
 "metadata": {
  "kernelspec": {
   "display_name": "Python 3 (ipykernel)",
   "language": "python",
   "name": "python3"
  },
  "language_info": {
   "codemirror_mode": {
    "name": "ipython",
    "version": 3
   },
   "file_extension": ".py",
   "mimetype": "text/x-python",
   "name": "python",
   "nbconvert_exporter": "python",
   "pygments_lexer": "ipython3",
   "version": "3.9.7"
  }
 },
 "nbformat": 4,
 "nbformat_minor": 5
}
