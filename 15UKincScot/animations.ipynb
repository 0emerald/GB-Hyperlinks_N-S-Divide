{
 "cells": [
  {
   "cell_type": "code",
   "execution_count": 2,
   "id": "258843d6-e2ec-4e42-a4e5-138e4448497f",
   "metadata": {},
   "outputs": [],
   "source": [
    "import numpy as np\n",
    "import pandas as pd\n",
    "from scipy.sparse import csr_matrix, hstack\n",
    "from scipy.io import mmread, mmwrite\n",
    "from scipy.sparse.linalg import svds\n",
    "import matplotlib.pyplot as plt\n",
    "# from scipy import sparse\n",
    "import plotly.express as px\n",
    "from scipy import sparse\n",
    "import png\n",
    "import math\n",
    "import scipy.linalg as LA\n",
    "import nodevectors\n",
    "from sklearn.decomposition import PCA\n",
    "import seaborn as sns\n",
    "from tabulate import tabulate"
   ]
  },
  {
   "cell_type": "code",
   "execution_count": 2,
   "id": "842dcdb8-34ac-4689-9f65-c5607dbb8645",
   "metadata": {},
   "outputs": [],
   "source": [
    "animationData = pd.read_csv(\"animationDataUK.csv\")"
   ]
  },
  {
   "cell_type": "code",
   "execution_count": 3,
   "id": "63c3ecc6-5c62-44dc-8fae-3de4323fc803",
   "metadata": {},
   "outputs": [
    {
     "data": {
      "text/plain": [
       "(2280, 12)"
      ]
     },
     "execution_count": 3,
     "metadata": {},
     "output_type": "execute_result"
    }
   ],
   "source": [
    "animationData.shape"
   ]
  },
  {
   "cell_type": "code",
   "execution_count": 4,
   "id": "5771fb7e-7951-49c0-b3b0-12439a822267",
   "metadata": {},
   "outputs": [],
   "source": [
    "fig = px.scatter(animationData, x=\"dim3\", y=\"dim4\",\n",
    "                color=\"col\", \n",
    "                color_discrete_sequence=animationData[\"col\"], \n",
    "                 animation_frame=\"year\", hover_data=[\"LAD\", \"col\"], \n",
    "                text=\"LAD3_4\",\n",
    "                labels = {\n",
    "                    \"dim3\": \"Dimension 3\", \n",
    "                    \"dim4\": \"Dimension 4\"})\n",
    "\n",
    "# fig.update_yaxes(autorange=\"reversed\")\n",
    "fig.update_xaxes(autorange=\"reversed\")\n",
    "fig.update_layout(showlegend=False)\n",
    "fig.update_xaxes(range = [max(animationData[\"dim3\"]), min(animationData[\"dim3\"])] )\n",
    "fig.update_yaxes(range = [min(animationData[\"dim4\"]), max(animationData[\"dim4\"])] )\n",
    "\n",
    "fig.show(renderer=\"browser\")"
   ]
  },
  {
   "cell_type": "code",
   "execution_count": 5,
   "id": "00a00427-1046-467a-ba76-8b598a264549",
   "metadata": {},
   "outputs": [],
   "source": [
    "fig1 = px.scatter(animationData, x=\"dim1\", y=\"dim2\",\n",
    "                color=\"col\", \n",
    "                color_discrete_sequence=animationData[\"col\"], \n",
    "                 animation_frame=\"year\", hover_data=[\"LAD\", \"col\"], \n",
    "                text=\"LAD1_2\",\n",
    "                 labels = {\n",
    "                    \"dim1\": \"Dimension 1\", \n",
    "                    \"dim2\": \"Dimension 2\"})\n",
    "fig1.update_layout(showlegend=False)\n",
    "fig1.update_xaxes(range = [min(animationData[\"dim1\"]), max(animationData[\"dim1\"])] )\n",
    "fig1.update_yaxes(range = [min(animationData[\"dim2\"]), max(animationData[\"dim2\"])] )\n",
    "fig1.update_traces(textposition=\"top center\")\n",
    "\n",
    "fig1.show(renderer=\"browser\")"
   ]
  },
  {
   "cell_type": "code",
   "execution_count": 6,
   "id": "5d8f4e09-6439-4add-84cc-7bb6a81b38d5",
   "metadata": {},
   "outputs": [
    {
     "data": {
      "text/plain": [
       "Text(0.5, 1.0, 'Dimension 1 Values')"
      ]
     },
     "execution_count": 6,
     "metadata": {},
     "output_type": "execute_result"
    },
    {
     "data": {
      "image/png": "[encoded data removed]",
      "text/plain": [
       "<Figure size 432x288 with 1 Axes>"
      ]
     },
     "metadata": {
      "needs_background": "light"
     },
     "output_type": "display_data"
    }
   ],
   "source": [
    "dist_data = animationData.copy()\n",
    "dist_data = dist_data.sort_values(by=\"dim1\")\n",
    "plt.plot(dist_data[\"dim1\"].values)\n",
    "plt.title(\"Dimension 1 Values\")"
   ]
  },
  {
   "cell_type": "code",
   "execution_count": 4,
   "id": "049dd876-9479-4219-8300-b8e8a0ec3016",
   "metadata": {
    "tags": []
   },
   "outputs": [],
   "source": [
    "enterprises_2010 = pd.read_csv(\"count_of_active_enterprises_2010_byLAD_UK.csv\")"
   ]
  },
  {
   "cell_type": "code",
   "execution_count": 5,
   "id": "321dc6e2-5803-4a93-9bba-1b12866ceea4",
   "metadata": {
    "tags": []
   },
   "outputs": [],
   "source": [
    "enterprises_2010[\"LAD_clean\"] = enterprises_2010[\"LAD\"].str.strip()"
   ]
  },
  {
   "cell_type": "code",
   "execution_count": 6,
   "id": "7301803f-ce02-488d-af5e-bf93dab6ccbd",
   "metadata": {},
   "outputs": [],
   "source": [
    "enterprises_2010[\"LAD_clean\"] = enterprises_2010[\"LAD_clean\"].str.replace(\" UA\", \"\")\n",
    "enterprises_2010[\"LAD_clean\"] = enterprises_2010[\"LAD_clean\"].str.replace(\"&\", \"and\")\n",
    "# enterprises_2010[\"LAD_clean\"] = enterprises_2010[\"LAD_clean\"].str.replace(\",\", \"\")"
   ]
  },
  {
   "cell_type": "code",
   "execution_count": 7,
   "id": "6e238fee-822d-4cb4-b79c-38318441f8b4",
   "metadata": {},
   "outputs": [],
   "source": [
    "enterprises_2010[\"LAD_clean\"] = enterprises_2010[\"LAD_clean\"].str.strip()"
   ]
  },
  {
   "cell_type": "code",
   "execution_count": 8,
   "id": "36ba8f6d-5962-480b-8c99-66588976021a",
   "metadata": {},
   "outputs": [
    {
     "data": {
      "text/html": [
       "<div>\n",
       "<style scoped>\n",
       "    .dataframe tbody tr th:only-of-type {\n",
       "        vertical-align: middle;\n",
       "    }\n",
       "\n",
       "    .dataframe tbody tr th {\n",
       "        vertical-align: top;\n",
       "    }\n",
       "\n",
       "    .dataframe thead th {\n",
       "        text-align: right;\n",
       "    }\n",
       "</style>\n",
       "<table border=\"1\" class=\"dataframe\">\n",
       "  <thead>\n",
       "    <tr style=\"text-align: right;\">\n",
       "      <th></th>\n",
       "      <th>LAD</th>\n",
       "      <th>count of active enterprises</th>\n",
       "      <th>LAD_clean</th>\n",
       "    </tr>\n",
       "  </thead>\n",
       "  <tbody>\n",
       "    <tr>\n",
       "      <th>0</th>\n",
       "      <td>County Durham UA</td>\n",
       "      <td>12300</td>\n",
       "      <td>County Durham</td>\n",
       "    </tr>\n",
       "    <tr>\n",
       "      <th>1</th>\n",
       "      <td>Darlington UA</td>\n",
       "      <td>3005</td>\n",
       "      <td>Darlington</td>\n",
       "    </tr>\n",
       "    <tr>\n",
       "      <th>2</th>\n",
       "      <td>Hartlepool UA</td>\n",
       "      <td>2060</td>\n",
       "      <td>Hartlepool</td>\n",
       "    </tr>\n",
       "    <tr>\n",
       "      <th>3</th>\n",
       "      <td>Middlesbrough UA</td>\n",
       "      <td>2820</td>\n",
       "      <td>Middlesbrough</td>\n",
       "    </tr>\n",
       "    <tr>\n",
       "      <th>4</th>\n",
       "      <td>Northumberland UA</td>\n",
       "      <td>9595</td>\n",
       "      <td>Northumberland</td>\n",
       "    </tr>\n",
       "  </tbody>\n",
       "</table>\n",
       "</div>"
      ],
      "text/plain": [
       "                         LAD count of active enterprises       LAD_clean\n",
       "0           County Durham UA                       12300   County Durham\n",
       "1              Darlington UA                        3005      Darlington\n",
       "2              Hartlepool UA                        2060      Hartlepool\n",
       "3           Middlesbrough UA                        2820   Middlesbrough\n",
       "4          Northumberland UA                        9595  Northumberland"
      ]
     },
     "execution_count": 8,
     "metadata": {},
     "output_type": "execute_result"
    }
   ],
   "source": [
    "enterprises_2010.head(5)"
   ]
  },
  {
   "cell_type": "code",
   "execution_count": 9,
   "id": "744deb7c-3cff-446c-834b-d5358d43e61d",
   "metadata": {},
   "outputs": [],
   "source": [
    "# how to find the 3 odd things identified\n",
    "\n",
    "# enterprises_2010[enterprises_2010[\"LAD_clean\"]==\"Eilean Siar\"]"
   ]
  },
  {
   "cell_type": "code",
   "execution_count": 10,
   "id": "b4ef9334-5c60-4a2e-977b-a4746d961b95",
   "metadata": {},
   "outputs": [],
   "source": [
    "enterprises_2010.at[291, \"LAD_clean\"] = \"Bristol, City of\"\n",
    "enterprises_2010.at[341, \"LAD_clean\"] = \"Rhondda Cynon Taf\"\n",
    "enterprises_2010.at[112, \"LAD_clean\"] = \"Herefordshire, County of\"\n",
    "enterprises_2010.at[359, \"LAD_clean\"] = \"City of Edinburgh\"\n",
    "enterprises_2010.at[373, \"LAD_clean\"] = \"Scottish Borders\"\n",
    "enterprises_2010.at[360, \"LAD_clean\"] = \"Na h-Eileanan Siar\""
   ]
  },
  {
   "cell_type": "code",
   "execution_count": 11,
   "id": "1cf9615b-54c1-4e75-8577-68f62d1f9d90",
   "metadata": {},
   "outputs": [
    {
     "data": {
      "text/plain": [
       "(380, 3)"
      ]
     },
     "execution_count": 11,
     "metadata": {},
     "output_type": "execute_result"
    }
   ],
   "source": [
    "enterprises_2010.shape"
   ]
  },
  {
   "cell_type": "code",
   "execution_count": 12,
   "id": "559ff290-8db7-4264-9f59-9e3e3fff5795",
   "metadata": {},
   "outputs": [],
   "source": [
    "enterprises_2010.to_csv(\"count_of_active_enterprises_2010_byLAD_GB_CLEAN.csv\")"
   ]
  },
  {
   "cell_type": "code",
   "execution_count": 15,
   "id": "fdc9d28f-2497-45cd-a961-e826e3b480b8",
   "metadata": {},
   "outputs": [],
   "source": [
    "# get the 2010 data\n",
    "animationData2010 = animationData[animationData[\"year\"]==2010]"
   ]
  },
  {
   "cell_type": "code",
   "execution_count": 16,
   "id": "87e57813-aa9e-4acc-bcf5-8b5394f4bf06",
   "metadata": {},
   "outputs": [],
   "source": [
    "animationData2010 = pd.merge(animationData2010, enterprises_2010, how=\"left\", left_on = \"LAD\", right_on =\"LAD_clean\")"
   ]
  },
  {
   "cell_type": "code",
   "execution_count": 17,
   "id": "aa3da19d-6732-4bcb-836d-11af02285342",
   "metadata": {},
   "outputs": [
    {
     "data": {
      "text/html": [
       "<div>\n",
       "<style scoped>\n",
       "    .dataframe tbody tr th:only-of-type {\n",
       "        vertical-align: middle;\n",
       "    }\n",
       "\n",
       "    .dataframe tbody tr th {\n",
       "        vertical-align: top;\n",
       "    }\n",
       "\n",
       "    .dataframe thead th {\n",
       "        text-align: right;\n",
       "    }\n",
       "</style>\n",
       "<table border=\"1\" class=\"dataframe\">\n",
       "  <thead>\n",
       "    <tr style=\"text-align: right;\">\n",
       "      <th></th>\n",
       "      <th>Unnamed: 0</th>\n",
       "      <th>dim1</th>\n",
       "      <th>dim2</th>\n",
       "      <th>dim3</th>\n",
       "      <th>dim4</th>\n",
       "      <th>year</th>\n",
       "      <th>Xscaled</th>\n",
       "      <th>Yscaled</th>\n",
       "      <th>LAD_x</th>\n",
       "      <th>col</th>\n",
       "      <th>LAD3_4</th>\n",
       "      <th>LAD1_2</th>\n",
       "      <th>LAD_y</th>\n",
       "      <th>count of active enterprises</th>\n",
       "      <th>LAD_clean</th>\n",
       "    </tr>\n",
       "  </thead>\n",
       "  <tbody>\n",
       "  </tbody>\n",
       "</table>\n",
       "</div>"
      ],
      "text/plain": [
       "Empty DataFrame\n",
       "Columns: [Unnamed: 0, dim1, dim2, dim3, dim4, year, Xscaled, Yscaled, LAD_x, col, LAD3_4, LAD1_2, LAD_y, count of active enterprises, LAD_clean]\n",
       "Index: []"
      ]
     },
     "execution_count": 17,
     "metadata": {},
     "output_type": "execute_result"
    }
   ],
   "source": [
    "# this was used to find where the names of the LADs in the 2 dataframes had a discrepancy in spelling/ use of a comma\n",
    "\n",
    "animationData2010[animationData2010[\"LAD_x\"] != animationData2010[\"LAD_clean\"]]"
   ]
  },
  {
   "cell_type": "code",
   "execution_count": 18,
   "id": "ec18bf45-569e-43f3-9326-5ff4011e5576",
   "metadata": {},
   "outputs": [],
   "source": [
    "animationData2010 = animationData2010.drop(columns=[\"LAD_y\"])\n",
    "\n",
    "animationData2010 = animationData2010.rename(columns={\"LAD_x\" : \"LAD\"})"
   ]
  },
  {
   "cell_type": "code",
   "execution_count": 19,
   "id": "af42540f-4540-44cd-9001-629f13646a68",
   "metadata": {},
   "outputs": [
    {
     "data": {
      "text/plain": [
       "(380, 14)"
      ]
     },
     "execution_count": 19,
     "metadata": {},
     "output_type": "execute_result"
    }
   ],
   "source": [
    "animationData2010.shape # should be 380"
   ]
  },
  {
   "cell_type": "code",
   "execution_count": 20,
   "id": "c449d5d1-ae64-4c7b-9c5c-9352de291886",
   "metadata": {},
   "outputs": [],
   "source": [
    "animationData2010['count of active enterprises'] = animationData2010['count of active enterprises'].str.replace(\",\", \"\")"
   ]
  },
  {
   "cell_type": "code",
   "execution_count": 21,
   "id": "f07b6a7a-2d2d-4f7c-a71e-2a3ffb8cefd0",
   "metadata": {},
   "outputs": [],
   "source": [
    "fig3 = px.scatter(animationData2010, x=\"dim1\", y=\"dim2\",\n",
    "                color=\"count of active enterprises\", \n",
    "                #color_discrete_sequence=animationData[\"col\"], \n",
    "                 #animation_frame=\"year\", \n",
    "                  hover_data=[\"LAD\", \"count of active enterprises\"], \n",
    "                text=\"LAD1_2\",\n",
    "                 labels = {\n",
    "                    \"dim1\": \"Dimension 1\", \n",
    "                    \"dim2\": \"Dimension 2\"})\n",
    "fig3.update_layout(showlegend=False)\n",
    "fig3.update_xaxes(range = [min(animationData[\"dim1\"]), max(animationData[\"dim1\"])] )\n",
    "fig3.update_yaxes(range = [min(animationData[\"dim2\"]), max(animationData[\"dim2\"])] )\n",
    "fig3.update_traces(textposition=\"top center\")\n",
    "\n",
    "fig3.show(renderer=\"browser\")"
   ]
  },
  {
   "cell_type": "markdown",
   "id": "9ad1a259-ad07-498a-8010-ea52fec4b94a",
   "metadata": {},
   "source": [
    "## 2009 and 2010 with enterprise data and a 2 slide animation"
   ]
  },
  {
   "cell_type": "code",
   "execution_count": 13,
   "id": "4d8cec91-2cbe-4e68-b630-4045c3be6ebf",
   "metadata": {
    "tags": []
   },
   "outputs": [],
   "source": [
    "enterprises_2009 = pd.read_csv(\"count_of_active_enterprises_2009_byLAD_UK.csv\")"
   ]
  },
  {
   "cell_type": "code",
   "execution_count": 14,
   "id": "e37934c2-5d67-4bc5-97d3-bad8cee93f01",
   "metadata": {
    "tags": []
   },
   "outputs": [],
   "source": [
    "enterprises_2009[\"LAD_clean\"] = enterprises_2009[\"LAD\"].str.strip()"
   ]
  },
  {
   "cell_type": "code",
   "execution_count": 15,
   "id": "8dd173f0-2e93-437d-9c66-f076331dc1a3",
   "metadata": {},
   "outputs": [],
   "source": [
    "enterprises_2009[\"LAD_clean\"] = enterprises_2009[\"LAD_clean\"].str.replace(\" UA\", \"\")\n",
    "enterprises_2009[\"LAD_clean\"] = enterprises_2009[\"LAD_clean\"].str.replace(\"&\", \"and\")\n",
    "# enterprises_2009[\"LAD_clean\"] = enterprises_2009[\"LAD_clean\"].str.replace(\",\", \"\")"
   ]
  },
  {
   "cell_type": "code",
   "execution_count": 16,
   "id": "e3e09a22-3cf2-44b1-b8ae-06433b2eb7bb",
   "metadata": {},
   "outputs": [],
   "source": [
    "enterprises_2009[\"LAD_clean\"] = enterprises_2009[\"LAD_clean\"].str.strip()"
   ]
  },
  {
   "cell_type": "code",
   "execution_count": 17,
   "id": "5d16ab9e-fc24-4f6f-809c-0d030593a2ab",
   "metadata": {},
   "outputs": [],
   "source": [
    "enterprises_2009.at[291, \"LAD_clean\"] = \"Bristol, City of\"\n",
    "enterprises_2009.at[341, \"LAD_clean\"] = \"Rhondda Cynon Taf\"\n",
    "enterprises_2009.at[112, \"LAD_clean\"] = \"Herefordshire, County of\"\n",
    "enterprises_2009.at[359, \"LAD_clean\"] = \"City of Edinburgh\"\n",
    "enterprises_2009.at[373, \"LAD_clean\"] = \"Scottish Borders\"\n",
    "enterprises_2009.at[360, \"LAD_clean\"] = \"Na h-Eileanan Siar\""
   ]
  },
  {
   "cell_type": "code",
   "execution_count": 20,
   "id": "bcc10477-a47e-4d11-b2c3-37993f58e4c0",
   "metadata": {},
   "outputs": [],
   "source": [
    "enterprises_2009.to_csv(\"count_of_active_enterprises_2009_byLAD_GB_CLEAN.csv\")"
   ]
  },
  {
   "cell_type": "code",
   "execution_count": 18,
   "id": "f66622b0-62df-42a6-a972-e155b9142f71",
   "metadata": {},
   "outputs": [
    {
     "ename": "NameError",
     "evalue": "name 'animationData' is not defined",
     "output_type": "error",
     "traceback": [
      "\u001b[0;31m---------------------------------------------------------------------------\u001b[0m",
      "\u001b[0;31mNameError\u001b[0m                                 Traceback (most recent call last)",
      "\u001b[0;32m/tmp/ipykernel_14389/3229368264.py\u001b[0m in \u001b[0;36m<module>\u001b[0;34m\u001b[0m\n\u001b[1;32m      1\u001b[0m \u001b[0;31m# get the 2009 data\u001b[0m\u001b[0;34m\u001b[0m\u001b[0;34m\u001b[0m\u001b[0m\n\u001b[0;32m----> 2\u001b[0;31m \u001b[0manimationData2009\u001b[0m \u001b[0;34m=\u001b[0m \u001b[0manimationData\u001b[0m\u001b[0;34m[\u001b[0m\u001b[0manimationData\u001b[0m\u001b[0;34m[\u001b[0m\u001b[0;34m\"year\"\u001b[0m\u001b[0;34m]\u001b[0m\u001b[0;34m==\u001b[0m\u001b[0;36m2009\u001b[0m\u001b[0;34m]\u001b[0m\u001b[0;34m\u001b[0m\u001b[0;34m\u001b[0m\u001b[0m\n\u001b[0m",
      "\u001b[0;31mNameError\u001b[0m: name 'animationData' is not defined"
     ]
    }
   ],
   "source": [
    "# get the 2009 data\n",
    "animationData2009 = animationData[animationData[\"year\"]==2009]"
   ]
  },
  {
   "cell_type": "code",
   "execution_count": 19,
   "id": "7b0973f8-fc17-48ab-8764-138c91580666",
   "metadata": {},
   "outputs": [
    {
     "ename": "NameError",
     "evalue": "name 'animationData2009' is not defined",
     "output_type": "error",
     "traceback": [
      "\u001b[0;31m---------------------------------------------------------------------------\u001b[0m",
      "\u001b[0;31mNameError\u001b[0m                                 Traceback (most recent call last)",
      "\u001b[0;32m/tmp/ipykernel_14389/2628790219.py\u001b[0m in \u001b[0;36m<module>\u001b[0;34m\u001b[0m\n\u001b[0;32m----> 1\u001b[0;31m \u001b[0manimationData2009\u001b[0m \u001b[0;34m=\u001b[0m \u001b[0mpd\u001b[0m\u001b[0;34m.\u001b[0m\u001b[0mmerge\u001b[0m\u001b[0;34m(\u001b[0m\u001b[0manimationData2009\u001b[0m\u001b[0;34m,\u001b[0m \u001b[0menterprises_2009\u001b[0m\u001b[0;34m,\u001b[0m \u001b[0mhow\u001b[0m\u001b[0;34m=\u001b[0m\u001b[0;34m\"inner\"\u001b[0m\u001b[0;34m,\u001b[0m \u001b[0mleft_on\u001b[0m \u001b[0;34m=\u001b[0m \u001b[0;34m\"LAD\"\u001b[0m\u001b[0;34m,\u001b[0m \u001b[0mright_on\u001b[0m \u001b[0;34m=\u001b[0m\u001b[0;34m\"LAD_clean\"\u001b[0m\u001b[0;34m)\u001b[0m\u001b[0;34m\u001b[0m\u001b[0;34m\u001b[0m\u001b[0m\n\u001b[0m",
      "\u001b[0;31mNameError\u001b[0m: name 'animationData2009' is not defined"
     ]
    }
   ],
   "source": [
    "animationData2009 = pd.merge(animationData2009, enterprises_2009, how=\"inner\", left_on = \"LAD\", right_on =\"LAD_clean\")"
   ]
  },
  {
   "cell_type": "code",
   "execution_count": 29,
   "id": "2db992f1-0e35-4c5f-ab63-e06611a2d0a3",
   "metadata": {},
   "outputs": [
    {
     "data": {
      "text/plain": [
       "(380, 15)"
      ]
     },
     "execution_count": 29,
     "metadata": {},
     "output_type": "execute_result"
    }
   ],
   "source": [
    "animationData2009.shape # all there"
   ]
  },
  {
   "cell_type": "code",
   "execution_count": 30,
   "id": "59a3b6bf-fb73-4e89-b155-20a600a4d576",
   "metadata": {},
   "outputs": [],
   "source": [
    "animationData2009 = animationData2009.drop(columns=[\"LAD_y\"])\n",
    "\n",
    "animationData2009 = animationData2009.rename(columns={\"LAD_x\" : \"LAD\"})"
   ]
  },
  {
   "cell_type": "code",
   "execution_count": 31,
   "id": "d6b1e2c3-9d52-4f4d-9072-e071762959dc",
   "metadata": {},
   "outputs": [],
   "source": [
    "animationData2009['count of active enterprises'] = animationData2009['count of active enterprises'].str.replace(\",\", \"\")"
   ]
  },
  {
   "cell_type": "markdown",
   "id": "55940fc5-ad07-4b6c-a0eb-ca1e57bd9425",
   "metadata": {},
   "source": [
    "### Merge 2009 and 2010 data together"
   ]
  },
  {
   "cell_type": "code",
   "execution_count": 32,
   "id": "8e548520-3424-4336-82d0-2abb641c2100",
   "metadata": {},
   "outputs": [],
   "source": [
    "animData2009_2010 = pd.concat([animationData2009,animationData2010])"
   ]
  },
  {
   "cell_type": "code",
   "execution_count": 33,
   "id": "60a0c7c1-77e8-474d-b561-61cec581dfc6",
   "metadata": {},
   "outputs": [],
   "source": [
    "animData2009_2010['count of active enterprises'] = animData2009_2010['count of active enterprises'].astype(int)"
   ]
  },
  {
   "cell_type": "code",
   "execution_count": 34,
   "id": "5aed4ac1-d107-41d6-8e20-c417c1b17ffa",
   "metadata": {},
   "outputs": [
    {
     "data": {
      "text/html": [
       "<div>\n",
       "<style scoped>\n",
       "    .dataframe tbody tr th:only-of-type {\n",
       "        vertical-align: middle;\n",
       "    }\n",
       "\n",
       "    .dataframe tbody tr th {\n",
       "        vertical-align: top;\n",
       "    }\n",
       "\n",
       "    .dataframe thead th {\n",
       "        text-align: right;\n",
       "    }\n",
       "</style>\n",
       "<table border=\"1\" class=\"dataframe\">\n",
       "  <thead>\n",
       "    <tr style=\"text-align: right;\">\n",
       "      <th></th>\n",
       "      <th>Unnamed: 0</th>\n",
       "      <th>dim1</th>\n",
       "      <th>dim2</th>\n",
       "      <th>dim3</th>\n",
       "      <th>dim4</th>\n",
       "      <th>year</th>\n",
       "      <th>Xscaled</th>\n",
       "      <th>Yscaled</th>\n",
       "      <th>LAD</th>\n",
       "      <th>col</th>\n",
       "      <th>LAD3_4</th>\n",
       "      <th>LAD1_2</th>\n",
       "      <th>count of active enterprises</th>\n",
       "      <th>LAD_clean</th>\n",
       "    </tr>\n",
       "  </thead>\n",
       "  <tbody>\n",
       "    <tr>\n",
       "      <th>0</th>\n",
       "      <td>1521</td>\n",
       "      <td>-0.060120</td>\n",
       "      <td>0.039137</td>\n",
       "      <td>-0.072439</td>\n",
       "      <td>0.018038</td>\n",
       "      <td>2009</td>\n",
       "      <td>0.801441</td>\n",
       "      <td>0.145821</td>\n",
       "      <td>Westminster</td>\n",
       "      <td>#CC3325</td>\n",
       "      <td>Westminster</td>\n",
       "      <td>Westminster</td>\n",
       "      <td>47010</td>\n",
       "      <td>Westminster</td>\n",
       "    </tr>\n",
       "    <tr>\n",
       "      <th>1</th>\n",
       "      <td>1522</td>\n",
       "      <td>-0.022630</td>\n",
       "      <td>-0.022009</td>\n",
       "      <td>-0.011417</td>\n",
       "      <td>0.005299</td>\n",
       "      <td>2009</td>\n",
       "      <td>0.811587</td>\n",
       "      <td>0.142026</td>\n",
       "      <td>Southwark</td>\n",
       "      <td>#CF3324</td>\n",
       "      <td>NaN</td>\n",
       "      <td>NaN</td>\n",
       "      <td>13240</td>\n",
       "      <td>Southwark</td>\n",
       "    </tr>\n",
       "    <tr>\n",
       "      <th>2</th>\n",
       "      <td>1523</td>\n",
       "      <td>-0.026067</td>\n",
       "      <td>-0.027854</td>\n",
       "      <td>-0.026364</td>\n",
       "      <td>0.002793</td>\n",
       "      <td>2009</td>\n",
       "      <td>0.797883</td>\n",
       "      <td>0.144591</td>\n",
       "      <td>Kensington and Chelsea</td>\n",
       "      <td>#CB3325</td>\n",
       "      <td>NaN</td>\n",
       "      <td>NaN</td>\n",
       "      <td>12335</td>\n",
       "      <td>Kensington and Chelsea</td>\n",
       "    </tr>\n",
       "    <tr>\n",
       "      <th>3</th>\n",
       "      <td>1524</td>\n",
       "      <td>-0.021785</td>\n",
       "      <td>-0.043647</td>\n",
       "      <td>0.000383</td>\n",
       "      <td>0.016923</td>\n",
       "      <td>2009</td>\n",
       "      <td>0.815852</td>\n",
       "      <td>0.146336</td>\n",
       "      <td>Tower Hamlets</td>\n",
       "      <td>#D03325</td>\n",
       "      <td>NaN</td>\n",
       "      <td>NaN</td>\n",
       "      <td>11880</td>\n",
       "      <td>Tower Hamlets</td>\n",
       "    </tr>\n",
       "    <tr>\n",
       "      <th>4</th>\n",
       "      <td>1525</td>\n",
       "      <td>-0.036306</td>\n",
       "      <td>0.030706</td>\n",
       "      <td>-0.019514</td>\n",
       "      <td>-0.014201</td>\n",
       "      <td>2009</td>\n",
       "      <td>0.604415</td>\n",
       "      <td>0.238420</td>\n",
       "      <td>Birmingham</td>\n",
       "      <td>#9A333D</td>\n",
       "      <td>NaN</td>\n",
       "      <td>NaN</td>\n",
       "      <td>30840</td>\n",
       "      <td>Birmingham</td>\n",
       "    </tr>\n",
       "  </tbody>\n",
       "</table>\n",
       "</div>"
      ],
      "text/plain": [
       "   Unnamed: 0      dim1      dim2      dim3      dim4  year   Xscaled  \\\n",
       "0        1521 -0.060120  0.039137 -0.072439  0.018038  2009  0.801441   \n",
       "1        1522 -0.022630 -0.022009 -0.011417  0.005299  2009  0.811587   \n",
       "2        1523 -0.026067 -0.027854 -0.026364  0.002793  2009  0.797883   \n",
       "3        1524 -0.021785 -0.043647  0.000383  0.016923  2009  0.815852   \n",
       "4        1525 -0.036306  0.030706 -0.019514 -0.014201  2009  0.604415   \n",
       "\n",
       "    Yscaled                     LAD      col       LAD3_4       LAD1_2  \\\n",
       "0  0.145821             Westminster  #CC3325  Westminster  Westminster   \n",
       "1  0.142026               Southwark  #CF3324          NaN          NaN   \n",
       "2  0.144591  Kensington and Chelsea  #CB3325          NaN          NaN   \n",
       "3  0.146336           Tower Hamlets  #D03325          NaN          NaN   \n",
       "4  0.238420              Birmingham  #9A333D          NaN          NaN   \n",
       "\n",
       "   count of active enterprises               LAD_clean  \n",
       "0                        47010             Westminster  \n",
       "1                        13240               Southwark  \n",
       "2                        12335  Kensington and Chelsea  \n",
       "3                        11880           Tower Hamlets  \n",
       "4                        30840              Birmingham  "
      ]
     },
     "execution_count": 34,
     "metadata": {},
     "output_type": "execute_result"
    }
   ],
   "source": [
    "animData2009_2010.head()"
   ]
  },
  {
   "cell_type": "code",
   "execution_count": 35,
   "id": "26089323-bc21-4ffa-bd8c-9c49c9e41c63",
   "metadata": {},
   "outputs": [],
   "source": [
    "# add a log10 of count of active enterprise\n",
    "animData2009_2010[\"log10 count of active enterprises\"] = np.log10(animData2009_2010[\"count of active enterprises\"])"
   ]
  },
  {
   "cell_type": "code",
   "execution_count": 36,
   "id": "53e10ca6-2cc1-4e75-9ce2-b1edae88a6fe",
   "metadata": {},
   "outputs": [
    {
     "data": {
      "text/html": [
       "<div>\n",
       "<style scoped>\n",
       "    .dataframe tbody tr th:only-of-type {\n",
       "        vertical-align: middle;\n",
       "    }\n",
       "\n",
       "    .dataframe tbody tr th {\n",
       "        vertical-align: top;\n",
       "    }\n",
       "\n",
       "    .dataframe thead th {\n",
       "        text-align: right;\n",
       "    }\n",
       "</style>\n",
       "<table border=\"1\" class=\"dataframe\">\n",
       "  <thead>\n",
       "    <tr style=\"text-align: right;\">\n",
       "      <th></th>\n",
       "      <th>Unnamed: 0</th>\n",
       "      <th>dim1</th>\n",
       "      <th>dim2</th>\n",
       "      <th>dim3</th>\n",
       "      <th>dim4</th>\n",
       "      <th>year</th>\n",
       "      <th>Xscaled</th>\n",
       "      <th>Yscaled</th>\n",
       "      <th>LAD</th>\n",
       "      <th>col</th>\n",
       "      <th>LAD3_4</th>\n",
       "      <th>LAD1_2</th>\n",
       "      <th>count of active enterprises</th>\n",
       "      <th>LAD_clean</th>\n",
       "      <th>log10 count of active enterprises</th>\n",
       "    </tr>\n",
       "  </thead>\n",
       "  <tbody>\n",
       "    <tr>\n",
       "      <th>0</th>\n",
       "      <td>1521</td>\n",
       "      <td>-0.060120</td>\n",
       "      <td>0.039137</td>\n",
       "      <td>-0.072439</td>\n",
       "      <td>0.018038</td>\n",
       "      <td>2009</td>\n",
       "      <td>0.801441</td>\n",
       "      <td>0.145821</td>\n",
       "      <td>Westminster</td>\n",
       "      <td>#CC3325</td>\n",
       "      <td>Westminster</td>\n",
       "      <td>Westminster</td>\n",
       "      <td>47010</td>\n",
       "      <td>Westminster</td>\n",
       "      <td>4.672190</td>\n",
       "    </tr>\n",
       "    <tr>\n",
       "      <th>1</th>\n",
       "      <td>1522</td>\n",
       "      <td>-0.022630</td>\n",
       "      <td>-0.022009</td>\n",
       "      <td>-0.011417</td>\n",
       "      <td>0.005299</td>\n",
       "      <td>2009</td>\n",
       "      <td>0.811587</td>\n",
       "      <td>0.142026</td>\n",
       "      <td>Southwark</td>\n",
       "      <td>#CF3324</td>\n",
       "      <td>NaN</td>\n",
       "      <td>NaN</td>\n",
       "      <td>13240</td>\n",
       "      <td>Southwark</td>\n",
       "      <td>4.121888</td>\n",
       "    </tr>\n",
       "    <tr>\n",
       "      <th>2</th>\n",
       "      <td>1523</td>\n",
       "      <td>-0.026067</td>\n",
       "      <td>-0.027854</td>\n",
       "      <td>-0.026364</td>\n",
       "      <td>0.002793</td>\n",
       "      <td>2009</td>\n",
       "      <td>0.797883</td>\n",
       "      <td>0.144591</td>\n",
       "      <td>Kensington and Chelsea</td>\n",
       "      <td>#CB3325</td>\n",
       "      <td>NaN</td>\n",
       "      <td>NaN</td>\n",
       "      <td>12335</td>\n",
       "      <td>Kensington and Chelsea</td>\n",
       "      <td>4.091139</td>\n",
       "    </tr>\n",
       "    <tr>\n",
       "      <th>3</th>\n",
       "      <td>1524</td>\n",
       "      <td>-0.021785</td>\n",
       "      <td>-0.043647</td>\n",
       "      <td>0.000383</td>\n",
       "      <td>0.016923</td>\n",
       "      <td>2009</td>\n",
       "      <td>0.815852</td>\n",
       "      <td>0.146336</td>\n",
       "      <td>Tower Hamlets</td>\n",
       "      <td>#D03325</td>\n",
       "      <td>NaN</td>\n",
       "      <td>NaN</td>\n",
       "      <td>11880</td>\n",
       "      <td>Tower Hamlets</td>\n",
       "      <td>4.074816</td>\n",
       "    </tr>\n",
       "    <tr>\n",
       "      <th>4</th>\n",
       "      <td>1525</td>\n",
       "      <td>-0.036306</td>\n",
       "      <td>0.030706</td>\n",
       "      <td>-0.019514</td>\n",
       "      <td>-0.014201</td>\n",
       "      <td>2009</td>\n",
       "      <td>0.604415</td>\n",
       "      <td>0.238420</td>\n",
       "      <td>Birmingham</td>\n",
       "      <td>#9A333D</td>\n",
       "      <td>NaN</td>\n",
       "      <td>NaN</td>\n",
       "      <td>30840</td>\n",
       "      <td>Birmingham</td>\n",
       "      <td>4.489114</td>\n",
       "    </tr>\n",
       "  </tbody>\n",
       "</table>\n",
       "</div>"
      ],
      "text/plain": [
       "   Unnamed: 0      dim1      dim2      dim3      dim4  year   Xscaled  \\\n",
       "0        1521 -0.060120  0.039137 -0.072439  0.018038  2009  0.801441   \n",
       "1        1522 -0.022630 -0.022009 -0.011417  0.005299  2009  0.811587   \n",
       "2        1523 -0.026067 -0.027854 -0.026364  0.002793  2009  0.797883   \n",
       "3        1524 -0.021785 -0.043647  0.000383  0.016923  2009  0.815852   \n",
       "4        1525 -0.036306  0.030706 -0.019514 -0.014201  2009  0.604415   \n",
       "\n",
       "    Yscaled                     LAD      col       LAD3_4       LAD1_2  \\\n",
       "0  0.145821             Westminster  #CC3325  Westminster  Westminster   \n",
       "1  0.142026               Southwark  #CF3324          NaN          NaN   \n",
       "2  0.144591  Kensington and Chelsea  #CB3325          NaN          NaN   \n",
       "3  0.146336           Tower Hamlets  #D03325          NaN          NaN   \n",
       "4  0.238420              Birmingham  #9A333D          NaN          NaN   \n",
       "\n",
       "   count of active enterprises               LAD_clean  \\\n",
       "0                        47010             Westminster   \n",
       "1                        13240               Southwark   \n",
       "2                        12335  Kensington and Chelsea   \n",
       "3                        11880           Tower Hamlets   \n",
       "4                        30840              Birmingham   \n",
       "\n",
       "   log10 count of active enterprises  \n",
       "0                           4.672190  \n",
       "1                           4.121888  \n",
       "2                           4.091139  \n",
       "3                           4.074816  \n",
       "4                           4.489114  "
      ]
     },
     "execution_count": 36,
     "metadata": {},
     "output_type": "execute_result"
    }
   ],
   "source": [
    "animData2009_2010.head()"
   ]
  },
  {
   "cell_type": "code",
   "execution_count": 37,
   "id": "0c67ce0f-6443-489c-b495-88d0aae1ebdf",
   "metadata": {},
   "outputs": [],
   "source": [
    "fig4 = px.scatter(animData2009_2010, x=\"dim1\", y=\"dim2\",\n",
    "                color=\"log10 count of active enterprises\", \n",
    "                 animation_frame=\"year\", hover_data=[\"LAD\", \"log10 count of active enterprises\", \"year\"], \n",
    "                text=\"LAD1_2\",\n",
    "                 labels = {\n",
    "                    \"dim1\": \"Dimension 1\", \n",
    "                    \"dim2\": \"Dimension 2\"})\n",
    "fig4.update_layout(showlegend=False)\n",
    "fig4.update_xaxes(range = [min(animationData[\"dim1\"]), max(animationData[\"dim1\"])] )\n",
    "fig4.update_yaxes(range = [min(animationData[\"dim2\"]), max(animationData[\"dim2\"])] )\n",
    "fig4.update_traces(textposition=\"top center\")\n",
    "\n",
    "fig4.show(renderer=\"browser\")"
   ]
  },
  {
   "cell_type": "code",
   "execution_count": 38,
   "id": "c77bf213-992e-4f9b-ad55-9863967662df",
   "metadata": {},
   "outputs": [],
   "source": [
    "fig4.write_html(\"LAD2009_2010_log10_enterpriseColouring_UK.html\")\n",
    "# this is in folder 15"
   ]
  },
  {
   "cell_type": "markdown",
   "id": "fc4df932-3041-47b6-b3a9-62cd2a98a500",
   "metadata": {},
   "source": [
    "### Ed says the plotly can't change the colours of nodes over time, so these are coloured at both times by their count of active enterprises in 2009"
   ]
  },
  {
   "cell_type": "code",
   "execution_count": null,
   "id": "f727c71a-4c51-445e-bcbe-6394ca827692",
   "metadata": {},
   "outputs": [],
   "source": []
  },
  {
   "cell_type": "markdown",
   "id": "6a2cd2ec-d5d3-494d-9ef7-00256330c014",
   "metadata": {},
   "source": [
    "### Colouring by pay\n",
    "01/12/2022"
   ]
  },
  {
   "cell_type": "code",
   "execution_count": 4,
   "id": "4122f0bf-0eed-4e79-8a53-eafab4e3870b",
   "metadata": {
    "tags": []
   },
   "outputs": [],
   "source": [
    "# Read in file\n",
    "pay_2010 = pd.read_csv(\"Annual_pay-Gross-all_employee_jobsUK2010.csv\", encoding= 'unicode_escape')"
   ]
  },
  {
   "cell_type": "code",
   "execution_count": 5,
   "id": "0a119241-3f56-4c9c-8761-8c373cdaaea8",
   "metadata": {
    "tags": []
   },
   "outputs": [],
   "source": [
    "pay_2010[\"LAD_clean\"] = pay_2010[\"Description\"].str.strip()"
   ]
  },
  {
   "cell_type": "code",
   "execution_count": 6,
   "id": "6f441a0f-d1b0-4a5e-9f34-b4296147ba43",
   "metadata": {},
   "outputs": [],
   "source": [
    "pay_2010[\"LAD_clean\"] = pay_2010[\"LAD_clean\"].str.replace(\" UA\", \"\")\n",
    "\n",
    "pay_2010[\"LAD_clean\"] = pay_2010[\"LAD_clean\"].str.replace(\"&\", \"and\")"
   ]
  },
  {
   "cell_type": "code",
   "execution_count": 7,
   "id": "36d63690-e2f9-4b11-862b-408eae1b6949",
   "metadata": {},
   "outputs": [],
   "source": [
    "pay_2010[\"LAD_clean\"] = pay_2010[\"LAD_clean\"].str.strip()"
   ]
  },
  {
   "cell_type": "code",
   "execution_count": 8,
   "id": "ba937677-d022-460a-b3e8-344907925d5a",
   "metadata": {},
   "outputs": [
    {
     "ename": "NameError",
     "evalue": "name 'enterprises_2010' is not defined",
     "output_type": "error",
     "traceback": [
      "\u001b[0;31m---------------------------------------------------------------------------\u001b[0m",
      "\u001b[0;31mNameError\u001b[0m                                 Traceback (most recent call last)",
      "\u001b[0;32m/tmp/ipykernel_16772/1835220422.py\u001b[0m in \u001b[0;36m<module>\u001b[0;34m\u001b[0m\n\u001b[0;32m----> 1\u001b[0;31m \u001b[0mpay_2010a\u001b[0m \u001b[0;34m=\u001b[0m \u001b[0mpay_2010\u001b[0m\u001b[0;34m.\u001b[0m\u001b[0mmerge\u001b[0m\u001b[0;34m(\u001b[0m\u001b[0menterprises_2010\u001b[0m\u001b[0;34m,\u001b[0m \u001b[0mleft_on\u001b[0m\u001b[0;34m=\u001b[0m\u001b[0;34m\"LAD_clean\"\u001b[0m\u001b[0;34m,\u001b[0m \u001b[0mright_on\u001b[0m\u001b[0;34m=\u001b[0m\u001b[0;34m\"LAD_clean\"\u001b[0m\u001b[0;34m,\u001b[0m \u001b[0mhow\u001b[0m\u001b[0;34m=\u001b[0m\u001b[0;34m\"inner\"\u001b[0m\u001b[0;34m)\u001b[0m\u001b[0;34m\u001b[0m\u001b[0;34m\u001b[0m\u001b[0m\n\u001b[0m",
      "\u001b[0;31mNameError\u001b[0m: name 'enterprises_2010' is not defined"
     ]
    }
   ],
   "source": [
    "pay_2010a = pay_2010.merge(enterprises_2010, left_on=\"LAD_clean\", right_on=\"LAD_clean\", how=\"inner\")"
   ]
  },
  {
   "cell_type": "code",
   "execution_count": 9,
   "id": "c9e9518b-77fe-4762-8886-170a68c9f68e",
   "metadata": {},
   "outputs": [
    {
     "ename": "NameError",
     "evalue": "name 'pay_2010a' is not defined",
     "output_type": "error",
     "traceback": [
      "\u001b[0;31m---------------------------------------------------------------------------\u001b[0m",
      "\u001b[0;31mNameError\u001b[0m                                 Traceback (most recent call last)",
      "\u001b[0;32m/tmp/ipykernel_16772/2463662824.py\u001b[0m in \u001b[0;36m<module>\u001b[0;34m\u001b[0m\n\u001b[0;32m----> 1\u001b[0;31m \u001b[0mpay_2010a\u001b[0m\u001b[0;34m.\u001b[0m\u001b[0mshape\u001b[0m\u001b[0;34m\u001b[0m\u001b[0;34m\u001b[0m\u001b[0m\n\u001b[0m",
      "\u001b[0;31mNameError\u001b[0m: name 'pay_2010a' is not defined"
     ]
    }
   ],
   "source": [
    "pay_2010a.shape"
   ]
  },
  {
   "cell_type": "code",
   "execution_count": 11,
   "id": "72035ed3-e80c-4bda-8611-a168b64d0087",
   "metadata": {},
   "outputs": [],
   "source": [
    "pay_2010.to_csv(\"CleanedMedianMeanPay2010.csv\")"
   ]
  },
  {
   "cell_type": "code",
   "execution_count": 230,
   "id": "3dd81996-6404-4603-8efc-84af996909d4",
   "metadata": {},
   "outputs": [
    {
     "data": {
      "text/html": [
       "<div>\n",
       "<style scoped>\n",
       "    .dataframe tbody tr th:only-of-type {\n",
       "        vertical-align: middle;\n",
       "    }\n",
       "\n",
       "    .dataframe tbody tr th {\n",
       "        vertical-align: top;\n",
       "    }\n",
       "\n",
       "    .dataframe thead th {\n",
       "        text-align: right;\n",
       "    }\n",
       "</style>\n",
       "<table border=\"1\" class=\"dataframe\">\n",
       "  <thead>\n",
       "    <tr style=\"text-align: right;\">\n",
       "      <th></th>\n",
       "      <th>Description</th>\n",
       "      <th>Median</th>\n",
       "      <th>Mean</th>\n",
       "      <th>LAD_clean</th>\n",
       "      <th>LAD</th>\n",
       "      <th>count of active enterprises</th>\n",
       "    </tr>\n",
       "  </thead>\n",
       "  <tbody>\n",
       "  </tbody>\n",
       "</table>\n",
       "</div>"
      ],
      "text/plain": [
       "Empty DataFrame\n",
       "Columns: [Description, Median, Mean, LAD_clean, LAD, count of active enterprises]\n",
       "Index: []"
      ]
     },
     "execution_count": 230,
     "metadata": {},
     "output_type": "execute_result"
    }
   ],
   "source": [
    "# used this to change edinburg and eilean siar in the csv so they matched\n",
    "\n",
    "# pay_2010a[pay_2010a['Median'].isna()]"
   ]
  },
  {
   "cell_type": "code",
   "execution_count": 231,
   "id": "e5ff3190-8116-4381-8332-2a6fe1c65e71",
   "metadata": {},
   "outputs": [],
   "source": [
    "animationDataPay = pd.merge(animationData, pay_2010a, how=\"inner\", left_on = \"LAD\", right_on =\"LAD_clean\")"
   ]
  },
  {
   "cell_type": "code",
   "execution_count": 232,
   "id": "4d92a1c7-9430-41c2-b7e1-df1e59be9558",
   "metadata": {},
   "outputs": [
    {
     "data": {
      "text/plain": [
       "(2280, 18)"
      ]
     },
     "execution_count": 232,
     "metadata": {},
     "output_type": "execute_result"
    }
   ],
   "source": [
    "animationDataPay.shape"
   ]
  },
  {
   "cell_type": "code",
   "execution_count": 233,
   "id": "b3de45e4-fb24-4816-9cad-37f124da3f87",
   "metadata": {},
   "outputs": [
    {
     "data": {
      "text/html": [
       "<div>\n",
       "<style scoped>\n",
       "    .dataframe tbody tr th:only-of-type {\n",
       "        vertical-align: middle;\n",
       "    }\n",
       "\n",
       "    .dataframe tbody tr th {\n",
       "        vertical-align: top;\n",
       "    }\n",
       "\n",
       "    .dataframe thead th {\n",
       "        text-align: right;\n",
       "    }\n",
       "</style>\n",
       "<table border=\"1\" class=\"dataframe\">\n",
       "  <thead>\n",
       "    <tr style=\"text-align: right;\">\n",
       "      <th></th>\n",
       "      <th>Unnamed: 0</th>\n",
       "      <th>dim1</th>\n",
       "      <th>dim2</th>\n",
       "      <th>dim3</th>\n",
       "      <th>dim4</th>\n",
       "      <th>year</th>\n",
       "      <th>Xscaled</th>\n",
       "      <th>Yscaled</th>\n",
       "      <th>LAD_x</th>\n",
       "      <th>col</th>\n",
       "      <th>LAD3_4</th>\n",
       "      <th>LAD1_2</th>\n",
       "      <th>Description</th>\n",
       "      <th>Median</th>\n",
       "      <th>Mean</th>\n",
       "      <th>LAD_clean</th>\n",
       "      <th>LAD_y</th>\n",
       "      <th>count of active enterprises</th>\n",
       "    </tr>\n",
       "  </thead>\n",
       "  <tbody>\n",
       "    <tr>\n",
       "      <th>0</th>\n",
       "      <td>1</td>\n",
       "      <td>-0.105363</td>\n",
       "      <td>0.122562</td>\n",
       "      <td>-0.114425</td>\n",
       "      <td>0.000447</td>\n",
       "      <td>2005</td>\n",
       "      <td>0.801441</td>\n",
       "      <td>0.145821</td>\n",
       "      <td>Westminster</td>\n",
       "      <td>#CC3325</td>\n",
       "      <td>Westminster</td>\n",
       "      <td>Westminster</td>\n",
       "      <td>Westminster</td>\n",
       "      <td>39948</td>\n",
       "      <td>80634</td>\n",
       "      <td>Westminster</td>\n",
       "      <td>Westminster</td>\n",
       "      <td>47465</td>\n",
       "    </tr>\n",
       "    <tr>\n",
       "      <th>1</th>\n",
       "      <td>381</td>\n",
       "      <td>-0.067441</td>\n",
       "      <td>0.072397</td>\n",
       "      <td>-0.063633</td>\n",
       "      <td>-0.002887</td>\n",
       "      <td>2006</td>\n",
       "      <td>0.801441</td>\n",
       "      <td>0.145821</td>\n",
       "      <td>Westminster</td>\n",
       "      <td>#CC3325</td>\n",
       "      <td>Westminster</td>\n",
       "      <td>Westminster</td>\n",
       "      <td>Westminster</td>\n",
       "      <td>39948</td>\n",
       "      <td>80634</td>\n",
       "      <td>Westminster</td>\n",
       "      <td>Westminster</td>\n",
       "      <td>47465</td>\n",
       "    </tr>\n",
       "    <tr>\n",
       "      <th>2</th>\n",
       "      <td>761</td>\n",
       "      <td>-0.078193</td>\n",
       "      <td>0.056476</td>\n",
       "      <td>-0.080979</td>\n",
       "      <td>-0.000846</td>\n",
       "      <td>2007</td>\n",
       "      <td>0.801441</td>\n",
       "      <td>0.145821</td>\n",
       "      <td>Westminster</td>\n",
       "      <td>#CC3325</td>\n",
       "      <td>Westminster</td>\n",
       "      <td>Westminster</td>\n",
       "      <td>Westminster</td>\n",
       "      <td>39948</td>\n",
       "      <td>80634</td>\n",
       "      <td>Westminster</td>\n",
       "      <td>Westminster</td>\n",
       "      <td>47465</td>\n",
       "    </tr>\n",
       "    <tr>\n",
       "      <th>3</th>\n",
       "      <td>1141</td>\n",
       "      <td>-0.117482</td>\n",
       "      <td>0.180956</td>\n",
       "      <td>-0.117923</td>\n",
       "      <td>-0.029010</td>\n",
       "      <td>2008</td>\n",
       "      <td>0.801441</td>\n",
       "      <td>0.145821</td>\n",
       "      <td>Westminster</td>\n",
       "      <td>#CC3325</td>\n",
       "      <td>Westminster</td>\n",
       "      <td>Westminster</td>\n",
       "      <td>Westminster</td>\n",
       "      <td>39948</td>\n",
       "      <td>80634</td>\n",
       "      <td>Westminster</td>\n",
       "      <td>Westminster</td>\n",
       "      <td>47465</td>\n",
       "    </tr>\n",
       "    <tr>\n",
       "      <th>4</th>\n",
       "      <td>1521</td>\n",
       "      <td>-0.060120</td>\n",
       "      <td>0.039137</td>\n",
       "      <td>-0.072439</td>\n",
       "      <td>0.018038</td>\n",
       "      <td>2009</td>\n",
       "      <td>0.801441</td>\n",
       "      <td>0.145821</td>\n",
       "      <td>Westminster</td>\n",
       "      <td>#CC3325</td>\n",
       "      <td>Westminster</td>\n",
       "      <td>Westminster</td>\n",
       "      <td>Westminster</td>\n",
       "      <td>39948</td>\n",
       "      <td>80634</td>\n",
       "      <td>Westminster</td>\n",
       "      <td>Westminster</td>\n",
       "      <td>47465</td>\n",
       "    </tr>\n",
       "  </tbody>\n",
       "</table>\n",
       "</div>"
      ],
      "text/plain": [
       "   Unnamed: 0      dim1      dim2      dim3      dim4  year   Xscaled  \\\n",
       "0           1 -0.105363  0.122562 -0.114425  0.000447  2005  0.801441   \n",
       "1         381 -0.067441  0.072397 -0.063633 -0.002887  2006  0.801441   \n",
       "2         761 -0.078193  0.056476 -0.080979 -0.000846  2007  0.801441   \n",
       "3        1141 -0.117482  0.180956 -0.117923 -0.029010  2008  0.801441   \n",
       "4        1521 -0.060120  0.039137 -0.072439  0.018038  2009  0.801441   \n",
       "\n",
       "    Yscaled        LAD_x      col       LAD3_4       LAD1_2    Description  \\\n",
       "0  0.145821  Westminster  #CC3325  Westminster  Westminster    Westminster   \n",
       "1  0.145821  Westminster  #CC3325  Westminster  Westminster    Westminster   \n",
       "2  0.145821  Westminster  #CC3325  Westminster  Westminster    Westminster   \n",
       "3  0.145821  Westminster  #CC3325  Westminster  Westminster    Westminster   \n",
       "4  0.145821  Westminster  #CC3325  Westminster  Westminster    Westminster   \n",
       "\n",
       "  Median   Mean    LAD_clean                    LAD_y  \\\n",
       "0  39948  80634  Westminster              Westminster   \n",
       "1  39948  80634  Westminster              Westminster   \n",
       "2  39948  80634  Westminster              Westminster   \n",
       "3  39948  80634  Westminster              Westminster   \n",
       "4  39948  80634  Westminster              Westminster   \n",
       "\n",
       "  count of active enterprises  \n",
       "0                       47465  \n",
       "1                       47465  \n",
       "2                       47465  \n",
       "3                       47465  \n",
       "4                       47465  "
      ]
     },
     "execution_count": 233,
     "metadata": {},
     "output_type": "execute_result"
    }
   ],
   "source": [
    "animationDataPay.head()"
   ]
  },
  {
   "cell_type": "code",
   "execution_count": 234,
   "id": "51e7b675-8bc0-45c3-a7c1-1b7dfebe216a",
   "metadata": {},
   "outputs": [],
   "source": [
    "animationDataPay = animationDataPay.drop(columns=[\"LAD_y\", 'Description', 'LAD_x'])\n",
    "\n",
    "animationDataPay = animationDataPay.rename(columns={\"LAD_clean\" : \"LAD\"})"
   ]
  },
  {
   "cell_type": "code",
   "execution_count": 235,
   "id": "8e1b3069-0197-46c4-b41c-8f6845bcca80",
   "metadata": {},
   "outputs": [],
   "source": [
    "# change where there is an 'x' for no data, to a 0\n",
    "animationDataPay[\"Mean\"] = animationDataPay[\"Mean\"].str.replace(\"x\", '0')\n",
    "animationDataPay[\"Median\"] = animationDataPay[\"Median\"].str.replace(\"x\", '0')\n",
    "# animationDataPay[\"Mean\"] = animationDataPay[\"Mean\"].str.replace(\"\", '0')\n",
    "# animationDataPay[\"Median\"] = animationDataPay[\"Median\"].str.replace(\"\", '0')\n",
    "\n",
    "animationDataPay[\"Mean\"] = animationDataPay[\"Mean\"].astype(int)\n",
    "animationDataPay[\"Median\"] = animationDataPay[\"Median\"].astype(int)"
   ]
  },
  {
   "cell_type": "code",
   "execution_count": 236,
   "id": "093f62d6-748e-46ab-9011-20221062eb48",
   "metadata": {},
   "outputs": [],
   "source": [
    "fig5 = px.scatter(animationDataPay, x=\"dim1\", y=\"dim2\",\n",
    "                color=\"Mean\", \n",
    "                #color_discrete_sequence=animationData[\"col\"], \n",
    "                 animation_frame=\"year\", hover_data=[\"LAD\", \"Mean\", 'Median'], \n",
    "                text=\"LAD1_2\",\n",
    "                 labels = {\n",
    "                    \"dim1\": \"Dimension 1\", \n",
    "                    \"dim2\": \"Dimension 2\"})\n",
    "fig5.update_layout(showlegend=False)\n",
    "fig5.update_xaxes(range = [min(animationData[\"dim1\"]), max(animationData[\"dim1\"])] )\n",
    "fig5.update_yaxes(range = [min(animationData[\"dim2\"]), max(animationData[\"dim2\"])] )\n",
    "fig5.update_traces(textposition=\"top center\")\n",
    "\n",
    "fig5.show(renderer=\"browser\")"
   ]
  },
  {
   "cell_type": "code",
   "execution_count": 149,
   "id": "06e12209-0a17-4e68-9b7b-b147711f6294",
   "metadata": {},
   "outputs": [],
   "source": [
    "fig5.write_html(\"PC1_2_MeanPayColour.html\")"
   ]
  },
  {
   "cell_type": "code",
   "execution_count": 237,
   "id": "88dccbcf-dc8c-4364-bea7-492bf82aa716",
   "metadata": {},
   "outputs": [],
   "source": [
    "fig6 = px.scatter(animationDataPay, x=\"dim1\", y=\"dim2\",\n",
    "                color=\"Median\", \n",
    "                #color_discrete_sequence=animationData[\"col\"], \n",
    "                 animation_frame=\"year\", hover_data=[\"LAD\", \"Mean\", 'Median'], \n",
    "                text=\"LAD1_2\",\n",
    "                 labels = {\n",
    "                    \"dim1\": \"Dimension 1\", \n",
    "                    \"dim2\": \"Dimension 2\"})\n",
    "fig6.update_layout(showlegend=False)\n",
    "fig6.update_xaxes(range = [min(animationData[\"dim1\"]), max(animationData[\"dim1\"])] )\n",
    "fig6.update_yaxes(range = [min(animationData[\"dim2\"]), max(animationData[\"dim2\"])] )\n",
    "fig6.update_traces(textposition=\"top center\")\n",
    "\n",
    "fig6.show(renderer=\"browser\")"
   ]
  },
  {
   "cell_type": "code",
   "execution_count": 151,
   "id": "de810fae-b6f8-49d4-b722-b74cc495e5c3",
   "metadata": {},
   "outputs": [],
   "source": [
    "fig6.write_html(\"PC1_2_MedianPayColour.html\")"
   ]
  },
  {
   "cell_type": "markdown",
   "id": "644936c0-eb82-4950-a493-9583e40dedb7",
   "metadata": {},
   "source": [
    "Taking the log10 made it harder not easier to visualise things\n",
    "\n",
    "Note that the blue dots, at 0, are for LADs where there is no data provided."
   ]
  }
 ],
 "metadata": {
  "kernelspec": {
   "display_name": "Python 3 (ipykernel)",
   "language": "python",
   "name": "python3"
  },
  "language_info": {
   "codemirror_mode": {
    "name": "ipython",
    "version": 3
   },
   "file_extension": ".py",
   "mimetype": "text/x-python",
   "name": "python",
   "nbconvert_exporter": "python",
   "pygments_lexer": "ipython3",
   "version": "3.9.7"
  }
 },
 "nbformat": 4,
 "nbformat_minor": 5
}
