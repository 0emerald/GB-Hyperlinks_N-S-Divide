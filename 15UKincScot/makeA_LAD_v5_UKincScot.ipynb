{
 "cells": [
  {
   "cell_type": "markdown",
   "id": "2b65d193-8107-462f-be2a-25ff471787c7",
   "metadata": {
    "tags": []
   },
   "source": [
    "### 29/11/2022 - v5\n",
    "This is to include LADs in Scotland as well as all the amendments made by v3 previously"
   ]
  },
  {
   "cell_type": "code",
   "execution_count": 100,
   "id": "2a076a48-2afa-49d3-a020-1f05d15da3d6",
   "metadata": {},
   "outputs": [],
   "source": [
    "import numpy as np\n",
    "import pandas as pd\n",
    "from scipy.sparse import csr_matrix, hstack\n",
    "from scipy.io import mmread, mmwrite\n",
    "from scipy.sparse.linalg import svds\n",
    "import matplotlib.pyplot as plt\n",
    "# from scipy import sparse\n",
    "import plotly.express as px\n",
    "from scipy import sparse\n",
    "import png\n",
    "import math\n",
    "import scipy.linalg as LA\n",
    "import nodevectors\n",
    "from sklearn.decomposition import PCA\n",
    "import seaborn as sns\n",
    "from tabulate import tabulate\n",
    "from scipy.stats.mstats import winsorize"
   ]
  },
  {
   "cell_type": "markdown",
   "id": "99a09e5a-9681-4ffe-94d3-56ea9738fd3b",
   "metadata": {},
   "source": [
    "Read in MSOA node data:"
   ]
  },
  {
   "cell_type": "code",
   "execution_count": 101,
   "id": "6342b31b-21e6-4fe6-9305-28435c6901a7",
   "metadata": {},
   "outputs": [],
   "source": [
    "# read in MSOA names (labels for A)\n",
    "nodes = pd.read_csv(\"nodes_MSOA.csv\")\n",
    "nodes = nodes[[\"msoa\", \"index\"]]"
   ]
  },
  {
   "cell_type": "markdown",
   "id": "dff56ac4-068c-40af-b236-761362a068c0",
   "metadata": {},
   "source": [
    "### Read in lookup table for E&W from: \n",
    "\n",
    "https://geoportal.statistics.gov.uk/datasets/middle-layer-super-output-area-2001-to-middle-layer-super-output-area-2011-to-local-authority-district-2011-lookup-in-england-and-wales/explore\n",
    "\n",
    "which goes from MSOA to LAD for England and Wales. \n",
    "\n",
    "This is the lookup used in the just E&W stuff. The section below this deals with the Scotland data. "
   ]
  },
  {
   "cell_type": "code",
   "execution_count": 102,
   "id": "875d7477-5060-4cea-8ea6-99f23cbb61c3",
   "metadata": {
    "tags": []
   },
   "outputs": [],
   "source": [
    "MSOA_LAD_lookup_EW = pd.read_csv(\"MSOA2001_MSOA2011_LAD2011_Lookup_EW.csv\")"
   ]
  },
  {
   "cell_type": "code",
   "execution_count": 103,
   "id": "a7a0e157-cbdb-4784-8448-b3b3552d21fb",
   "metadata": {},
   "outputs": [],
   "source": [
    "# only interested in the 2011 MSOA codes (not the 2001)\n",
    "MSOA_LAD_lookup_EW = MSOA_LAD_lookup_EW[[\"MSOA11CD\", \"MSOA11NM\", \"LAD11CD\", \"LAD11NM\"]]"
   ]
  },
  {
   "cell_type": "code",
   "execution_count": 104,
   "id": "62736f75-21e1-4d4e-a218-302087cb3138",
   "metadata": {},
   "outputs": [],
   "source": [
    "MSOA_LAD_lookup_EW = MSOA_LAD_lookup_EW.drop_duplicates()\n",
    "MSOA_LAD_lookup_EW = MSOA_LAD_lookup_EW.dropna()"
   ]
  },
  {
   "cell_type": "code",
   "execution_count": 105,
   "id": "01ed7a19-ed8a-4003-894d-8932ac3f658a",
   "metadata": {},
   "outputs": [],
   "source": [
    "nodes_to_LAD_EW = nodes.merge(MSOA_LAD_lookup_EW, left_on=\"msoa\", right_on=\"MSOA11CD\", how = \"left\")"
   ]
  },
  {
   "cell_type": "code",
   "execution_count": 106,
   "id": "feb6a717-58aa-46c0-bcea-f945ce8c12f6",
   "metadata": {},
   "outputs": [
    {
     "data": {
      "text/plain": [
       "(8483, 6)"
      ]
     },
     "execution_count": 106,
     "metadata": {},
     "output_type": "execute_result"
    }
   ],
   "source": [
    "nodes_to_LAD_EW.shape"
   ]
  },
  {
   "cell_type": "code",
   "execution_count": 107,
   "id": "a76c3f9f-2271-424d-a2cb-f6f9fc03fb65",
   "metadata": {},
   "outputs": [],
   "source": [
    "# df = nodes_to_LAD_EW[nodes_to_LAD_EW['msoa'].str.contains('E')]"
   ]
  },
  {
   "cell_type": "markdown",
   "id": "e6dbf768-184d-4162-a3ca-daf3984c4409",
   "metadata": {},
   "source": [
    "#### There was one MSOA in England that the lookup table didn't have a value to match it to, so I have identified where this is and manually inputted the correct data."
   ]
  },
  {
   "cell_type": "code",
   "execution_count": 108,
   "id": "2c106c47-c41d-4345-9082-4e922fc871f0",
   "metadata": {},
   "outputs": [
    {
     "data": {
      "text/html": [
       "<div>\n",
       "<style scoped>\n",
       "    .dataframe tbody tr th:only-of-type {\n",
       "        vertical-align: middle;\n",
       "    }\n",
       "\n",
       "    .dataframe tbody tr th {\n",
       "        vertical-align: top;\n",
       "    }\n",
       "\n",
       "    .dataframe thead th {\n",
       "        text-align: right;\n",
       "    }\n",
       "</style>\n",
       "<table border=\"1\" class=\"dataframe\">\n",
       "  <thead>\n",
       "    <tr style=\"text-align: right;\">\n",
       "      <th></th>\n",
       "      <th>msoa</th>\n",
       "      <th>index</th>\n",
       "      <th>MSOA11CD</th>\n",
       "      <th>MSOA11NM</th>\n",
       "      <th>LAD11CD</th>\n",
       "      <th>LAD11NM</th>\n",
       "    </tr>\n",
       "  </thead>\n",
       "  <tbody>\n",
       "    <tr>\n",
       "      <th>6927</th>\n",
       "      <td>E02006928</td>\n",
       "      <td>6928</td>\n",
       "      <td>NaN</td>\n",
       "      <td>NaN</td>\n",
       "      <td>NaN</td>\n",
       "      <td>NaN</td>\n",
       "    </tr>\n",
       "  </tbody>\n",
       "</table>\n",
       "</div>"
      ],
      "text/plain": [
       "           msoa  index MSOA11CD MSOA11NM LAD11CD LAD11NM\n",
       "6927  E02006928   6928      NaN      NaN     NaN     NaN"
      ]
     },
     "execution_count": 108,
     "metadata": {},
     "output_type": "execute_result"
    }
   ],
   "source": [
    "nodes_to_LAD_EW[nodes_to_LAD_EW['msoa'].str.contains('E') & nodes_to_LAD_EW[\"MSOA11CD\"].isna()]"
   ]
  },
  {
   "cell_type": "code",
   "execution_count": 109,
   "id": "09a1923d-5631-4622-beda-d7d73ebcc084",
   "metadata": {},
   "outputs": [],
   "source": [
    "# manually add in the values\n",
    "nodes_to_LAD_EW.iloc[6927,:] = ['E02006928', '6928', 'MSOA11CD', 'Greenwich 035', 'E09000011', 'Greenwich']"
   ]
  },
  {
   "cell_type": "markdown",
   "id": "21bbbe42-7e8e-4c4b-b235-5d258225f3c5",
   "metadata": {},
   "source": [
    "E=6791\n",
    "W=410\n",
    "L=1\n",
    "N=1\n",
    "M=1"
   ]
  },
  {
   "cell_type": "code",
   "execution_count": 110,
   "id": "5818035f-2732-4e83-a485-77998924214b",
   "metadata": {},
   "outputs": [],
   "source": [
    "nodes_to_LAD_EW = nodes_to_LAD_EW.dropna()"
   ]
  },
  {
   "cell_type": "code",
   "execution_count": 111,
   "id": "917ea92e-b917-477a-8fef-c49452dae1d0",
   "metadata": {},
   "outputs": [
    {
     "data": {
      "text/plain": [
       "(7201, 6)"
      ]
     },
     "execution_count": 111,
     "metadata": {},
     "output_type": "execute_result"
    }
   ],
   "source": [
    "nodes_to_LAD_EW.shape\n",
    "# lose the nodes that are scotland or other MSOAs outside of E&W"
   ]
  },
  {
   "cell_type": "code",
   "execution_count": 112,
   "id": "3f663bd3-f8a5-4811-9811-0bd3cfe30b19",
   "metadata": {},
   "outputs": [],
   "source": [
    "# define all the LADs in a np array so that later we can go through these values in a for loop\n",
    "lads_EW = nodes_to_LAD_EW.LAD11NM.unique()"
   ]
  },
  {
   "cell_type": "code",
   "execution_count": 113,
   "id": "a57225ee-76c6-46b9-996b-3e2039820364",
   "metadata": {},
   "outputs": [
    {
     "data": {
      "text/plain": [
       "(348,)"
      ]
     },
     "execution_count": 113,
     "metadata": {},
     "output_type": "execute_result"
    }
   ],
   "source": [
    "lads_EW.shape\n",
    "# 348 LADs in E&W"
   ]
  },
  {
   "cell_type": "markdown",
   "id": "e63d0e0b-621b-4c82-93ce-4d55eca357e6",
   "metadata": {},
   "source": [
    "### Read in lookup table for Scotland from: \n",
    "\n",
    "https://www.opendata.nhs.scot/dataset/geography-codes-and-labels/resource/e3e885cc-2530-4b3c-bead-9eda9782264f\n",
    "\n",
    "which goes from MSOA (IZ = intermediate zone) to LAD (CA = council authority) for Scotland. \n",
    "\n",
    "This is the lookup used in the just Scotland stuff."
   ]
  },
  {
   "cell_type": "code",
   "execution_count": 114,
   "id": "57159194-32c1-4e14-a0fa-ed700d1046ee",
   "metadata": {},
   "outputs": [],
   "source": [
    "MSOA_LAD_lookup_S = pd.read_csv(\"iz2011_codes_and_labels_14072022.csv\")"
   ]
  },
  {
   "cell_type": "code",
   "execution_count": 115,
   "id": "6a92d5c6-e171-49dc-8cf2-142864219234",
   "metadata": {},
   "outputs": [],
   "source": [
    "MSOA_LAD_lookup_S = MSOA_LAD_lookup_S[['IntZone', 'IntZoneName', 'CA', 'CAName']]"
   ]
  },
  {
   "cell_type": "code",
   "execution_count": 116,
   "id": "50f8d32b-38dd-4cde-a4d7-ede52aa3755e",
   "metadata": {},
   "outputs": [],
   "source": [
    "MSOA_LAD_lookup_S = MSOA_LAD_lookup_S.drop_duplicates()\n",
    "MSOA_LAD_lookup_S = MSOA_LAD_lookup_S.dropna()"
   ]
  },
  {
   "cell_type": "code",
   "execution_count": 117,
   "id": "efe988f4-f57f-42de-a19e-bed710add439",
   "metadata": {},
   "outputs": [
    {
     "data": {
      "text/plain": [
       "(1279, 4)"
      ]
     },
     "execution_count": 117,
     "metadata": {},
     "output_type": "execute_result"
    }
   ],
   "source": [
    "MSOA_LAD_lookup_S.shape"
   ]
  },
  {
   "cell_type": "code",
   "execution_count": 118,
   "id": "dfd4c6d0-72f5-4b3a-ac55-cc3ed8e3ac0d",
   "metadata": {},
   "outputs": [],
   "source": [
    "nodes_to_LAD_S = nodes.merge(MSOA_LAD_lookup_S, left_on=\"msoa\", right_on=\"IntZone\", how = \"left\")\n",
    "# Scotland uses IntZone as the MSOA equivalent"
   ]
  },
  {
   "cell_type": "code",
   "execution_count": 119,
   "id": "569f3aa2-3906-4a48-abd2-ffe32c8146b8",
   "metadata": {},
   "outputs": [],
   "source": [
    "nodes_to_LAD_S = nodes_to_LAD_S.dropna()\n",
    "# drops all the E&W and the 3 other MSOAs (North Ireland, Isle of Man, Channel Islands)"
   ]
  },
  {
   "cell_type": "code",
   "execution_count": 120,
   "id": "68e66122-b757-4631-a74c-21059c07fafe",
   "metadata": {},
   "outputs": [
    {
     "data": {
      "text/plain": [
       "(1279, 6)"
      ]
     },
     "execution_count": 120,
     "metadata": {},
     "output_type": "execute_result"
    }
   ],
   "source": [
    "nodes_to_LAD_S.shape"
   ]
  },
  {
   "cell_type": "code",
   "execution_count": 121,
   "id": "edf3c924-7579-4594-820b-a3619b126422",
   "metadata": {},
   "outputs": [],
   "source": [
    "lads_S = nodes_to_LAD_S.CAName.unique()"
   ]
  },
  {
   "cell_type": "code",
   "execution_count": 122,
   "id": "793994f4-2b15-4006-b777-03dccc7e6f46",
   "metadata": {},
   "outputs": [
    {
     "data": {
      "text/plain": [
       "(32,)"
      ]
     },
     "execution_count": 122,
     "metadata": {},
     "output_type": "execute_result"
    }
   ],
   "source": [
    "lads_S.shape"
   ]
  },
  {
   "cell_type": "markdown",
   "id": "e6b032ce-926b-4f06-92a5-63515388da56",
   "metadata": {},
   "source": [
    "### Combine all together\n",
    "This means that all the terms in the old code (that encompassed just E&W) now is the whole UK, so we are good to go!"
   ]
  },
  {
   "cell_type": "code",
   "execution_count": 123,
   "id": "a726d72d-6182-42e0-9a89-025a299a6837",
   "metadata": {},
   "outputs": [],
   "source": [
    "# a list of all the LADs for the UK\n",
    "lads = np.array(list(lads_EW) + list(lads_S))"
   ]
  },
  {
   "cell_type": "code",
   "execution_count": 124,
   "id": "74e5e7eb-df4c-4008-a54b-398dbe93e919",
   "metadata": {},
   "outputs": [
    {
     "data": {
      "text/plain": [
       "380"
      ]
     },
     "execution_count": 124,
     "metadata": {},
     "output_type": "execute_result"
    }
   ],
   "source": [
    "len(lads)"
   ]
  },
  {
   "cell_type": "code",
   "execution_count": 125,
   "id": "dd493961-ca70-4bed-bccc-30556221d875",
   "metadata": {},
   "outputs": [],
   "source": [
    "nodes_to_LAD_S.rename(columns = {'IntZone':'MSOA11CD', 'IntZoneName':'MSOA11NM', 'CA':'LAD11CD', 'CAName':'LAD11NM'}, inplace = True)\n",
    "# renaming the Scottish ones to look like the E&W ones"
   ]
  },
  {
   "cell_type": "code",
   "execution_count": 126,
   "id": "ee00fe05-7331-4d5b-a4a1-5304a28b741d",
   "metadata": {},
   "outputs": [],
   "source": [
    "nodes_to_LAD = nodes_to_LAD_S.append(nodes_to_LAD_EW)"
   ]
  },
  {
   "cell_type": "code",
   "execution_count": 127,
   "id": "582ab8b1-640e-4a6a-a946-e9cc3123681e",
   "metadata": {},
   "outputs": [
    {
     "data": {
      "text/plain": [
       "(8480, 6)"
      ]
     },
     "execution_count": 127,
     "metadata": {},
     "output_type": "execute_result"
    }
   ],
   "source": [
    "nodes_to_LAD.shape"
   ]
  },
  {
   "cell_type": "code",
   "execution_count": 128,
   "id": "f3e2d440-9cc9-463c-91ac-d0b7adb497d5",
   "metadata": {},
   "outputs": [
    {
     "data": {
      "text/html": [
       "<div>\n",
       "<style scoped>\n",
       "    .dataframe tbody tr th:only-of-type {\n",
       "        vertical-align: middle;\n",
       "    }\n",
       "\n",
       "    .dataframe tbody tr th {\n",
       "        vertical-align: top;\n",
       "    }\n",
       "\n",
       "    .dataframe thead th {\n",
       "        text-align: right;\n",
       "    }\n",
       "</style>\n",
       "<table border=\"1\" class=\"dataframe\">\n",
       "  <thead>\n",
       "    <tr style=\"text-align: right;\">\n",
       "      <th></th>\n",
       "      <th>msoa</th>\n",
       "      <th>index</th>\n",
       "      <th>MSOA11CD</th>\n",
       "      <th>MSOA11NM</th>\n",
       "      <th>LAD11CD</th>\n",
       "      <th>LAD11NM</th>\n",
       "    </tr>\n",
       "  </thead>\n",
       "  <tbody>\n",
       "    <tr>\n",
       "      <th>0</th>\n",
       "      <td>S02001237</td>\n",
       "      <td>1</td>\n",
       "      <td>S02001237</td>\n",
       "      <td>Cults, Bieldside and Milltimber West</td>\n",
       "      <td>S12000033</td>\n",
       "      <td>Aberdeen City</td>\n",
       "    </tr>\n",
       "    <tr>\n",
       "      <th>1</th>\n",
       "      <td>S02001296</td>\n",
       "      <td>2</td>\n",
       "      <td>S02001296</td>\n",
       "      <td>Dunecht, Durris and Drumoak</td>\n",
       "      <td>S12000034</td>\n",
       "      <td>Aberdeenshire</td>\n",
       "    </tr>\n",
       "    <tr>\n",
       "      <th>2</th>\n",
       "      <td>S02001236</td>\n",
       "      <td>3</td>\n",
       "      <td>S02001236</td>\n",
       "      <td>Culter</td>\n",
       "      <td>S12000033</td>\n",
       "      <td>Aberdeen City</td>\n",
       "    </tr>\n",
       "    <tr>\n",
       "      <th>3</th>\n",
       "      <td>S02001250</td>\n",
       "      <td>4</td>\n",
       "      <td>S02001250</td>\n",
       "      <td>City Centre East</td>\n",
       "      <td>S12000033</td>\n",
       "      <td>Aberdeen City</td>\n",
       "    </tr>\n",
       "    <tr>\n",
       "      <th>4</th>\n",
       "      <td>S02001261</td>\n",
       "      <td>5</td>\n",
       "      <td>S02001261</td>\n",
       "      <td>George Street</td>\n",
       "      <td>S12000033</td>\n",
       "      <td>Aberdeen City</td>\n",
       "    </tr>\n",
       "    <tr>\n",
       "      <th>...</th>\n",
       "      <td>...</td>\n",
       "      <td>...</td>\n",
       "      <td>...</td>\n",
       "      <td>...</td>\n",
       "      <td>...</td>\n",
       "      <td>...</td>\n",
       "    </tr>\n",
       "    <tr>\n",
       "      <th>8471</th>\n",
       "      <td>E02002698</td>\n",
       "      <td>8472</td>\n",
       "      <td>E02002698</td>\n",
       "      <td>East Riding of Yorkshire 015</td>\n",
       "      <td>E06000011</td>\n",
       "      <td>East Riding of Yorkshire</td>\n",
       "    </tr>\n",
       "    <tr>\n",
       "      <th>8472</th>\n",
       "      <td>E02005758</td>\n",
       "      <td>8473</td>\n",
       "      <td>E02005758</td>\n",
       "      <td>Hambleton 009</td>\n",
       "      <td>E07000164</td>\n",
       "      <td>Hambleton</td>\n",
       "    </tr>\n",
       "    <tr>\n",
       "      <th>8473</th>\n",
       "      <td>E02005757</td>\n",
       "      <td>8474</td>\n",
       "      <td>E02005757</td>\n",
       "      <td>Hambleton 008</td>\n",
       "      <td>E07000164</td>\n",
       "      <td>Hambleton</td>\n",
       "    </tr>\n",
       "    <tr>\n",
       "      <th>8474</th>\n",
       "      <td>E02005813</td>\n",
       "      <td>8475</td>\n",
       "      <td>E02005813</td>\n",
       "      <td>Selby 005</td>\n",
       "      <td>E07000169</td>\n",
       "      <td>Selby</td>\n",
       "    </tr>\n",
       "    <tr>\n",
       "      <th>8475</th>\n",
       "      <td>E02005815</td>\n",
       "      <td>8476</td>\n",
       "      <td>E02005815</td>\n",
       "      <td>Selby 007</td>\n",
       "      <td>E07000169</td>\n",
       "      <td>Selby</td>\n",
       "    </tr>\n",
       "  </tbody>\n",
       "</table>\n",
       "<p>8480 rows × 6 columns</p>\n",
       "</div>"
      ],
      "text/plain": [
       "           msoa index   MSOA11CD                              MSOA11NM  \\\n",
       "0     S02001237     1  S02001237  Cults, Bieldside and Milltimber West   \n",
       "1     S02001296     2  S02001296           Dunecht, Durris and Drumoak   \n",
       "2     S02001236     3  S02001236                                Culter   \n",
       "3     S02001250     4  S02001250                      City Centre East   \n",
       "4     S02001261     5  S02001261                         George Street   \n",
       "...         ...   ...        ...                                   ...   \n",
       "8471  E02002698  8472  E02002698          East Riding of Yorkshire 015   \n",
       "8472  E02005758  8473  E02005758                         Hambleton 009   \n",
       "8473  E02005757  8474  E02005757                         Hambleton 008   \n",
       "8474  E02005813  8475  E02005813                             Selby 005   \n",
       "8475  E02005815  8476  E02005815                             Selby 007   \n",
       "\n",
       "        LAD11CD                   LAD11NM  \n",
       "0     S12000033             Aberdeen City  \n",
       "1     S12000034             Aberdeenshire  \n",
       "2     S12000033             Aberdeen City  \n",
       "3     S12000033             Aberdeen City  \n",
       "4     S12000033             Aberdeen City  \n",
       "...         ...                       ...  \n",
       "8471  E06000011  East Riding of Yorkshire  \n",
       "8472  E07000164                 Hambleton  \n",
       "8473  E07000164                 Hambleton  \n",
       "8474  E07000169                     Selby  \n",
       "8475  E07000169                     Selby  \n",
       "\n",
       "[8480 rows x 6 columns]"
      ]
     },
     "execution_count": 128,
     "metadata": {},
     "output_type": "execute_result"
    }
   ],
   "source": [
    "nodes_to_LAD"
   ]
  },
  {
   "cell_type": "code",
   "execution_count": 129,
   "id": "71e34fee-bf8e-4c83-addf-55f9b8070d29",
   "metadata": {},
   "outputs": [],
   "source": [
    "nodes_to_LAD['index'] = nodes_to_LAD['index'].astype(int)"
   ]
  },
  {
   "cell_type": "code",
   "execution_count": 130,
   "id": "2e03440e-1f1e-440d-931c-e3a71f3623ee",
   "metadata": {},
   "outputs": [],
   "source": [
    "nodes_to_LAD = nodes_to_LAD.sort_values(by=['index'], ascending=True)"
   ]
  },
  {
   "cell_type": "raw",
   "id": "63370ede-717f-4018-b0d2-ed842b36da39",
   "metadata": {},
   "source": [
    "# Save LADs list to a csv file\n",
    "lads_df = pd.DataFrame(lads)\n",
    "lads_df.to_csv(\"LADS_list_UK.csv\", sep=',')"
   ]
  },
  {
   "cell_type": "markdown",
   "id": "21185a2c-e339-4b4f-9e98-5f297ee47906",
   "metadata": {},
   "source": [
    "### Make A matrix of the concatenated 380x380 (LAD by LAD) A matrices, from row and column summing."
   ]
  },
  {
   "cell_type": "code",
   "execution_count": 131,
   "id": "61ef5862-3fa7-44f9-bc6e-3269d7f20a6b",
   "metadata": {},
   "outputs": [],
   "source": [
    "A_list = []\n",
    "A_LADLAD_list = []\n",
    "year_list = []\n",
    "\n",
    "for year in range(2005,2011):\n",
    "    # does 2005-2010 inclusive\n",
    "    filepath = \"A_for_\" + str(year) + \"_binary.mtx\" # file name to read in \n",
    "    A = mmread(filepath) # temporary\n",
    "    \n",
    "    year_list.append(year)\n",
    "    \n",
    "    A = A.toarray()\n",
    "    \n",
    "    A_LADMSOA = list()\n",
    "    A_LADLAD =list() # empty numpy array to fill, one row\n",
    "    # to make \"LAD by LAD\" version of A - called A_LADLAD\n",
    "    \n",
    "    for lad in lads: \n",
    "        \n",
    "        # find all the indexes for the given reg\n",
    "        row_indexes = nodes_to_LAD.loc[nodes_to_LAD[\"LAD11NM\"] == lad, \"index\"]\n",
    "        # make a numpy array and subtract 1, as python indexes from 0 not 1\n",
    "        row_indexes  = row_indexes.to_numpy()\n",
    "        row_indexes = [int(x) - 1 for x in row_indexes]\n",
    "        column_indexes = row_indexes\n",
    "        \n",
    "        # find all the rows with the indexes for that region, and add them together to make one row \n",
    "        row = A[row_indexes, :]\n",
    "        row = np.sum(row, axis=0)\n",
    "        \n",
    "        # one row for each region in the matrix A_RegMSOA\n",
    "        A_LADMSOA.append(row)\n",
    "        \n",
    "    A_LADMSOA = np.asarray(A_LADMSOA)\n",
    "    \n",
    "    for lad in lads: \n",
    "        \n",
    "        # find all the columns with the indexes for that region, from the already row summed matrix, \n",
    "        # and add them together to make one column \n",
    "        column_indexes = nodes_to_LAD.loc[nodes_to_LAD[\"LAD11NM\"] == lad, \"index\"]\n",
    "        column_indexes = column_indexes.to_numpy()\n",
    "        column_indexes = [int(x) - 1 for x in column_indexes]\n",
    "\n",
    "        column = A_LADMSOA[:, column_indexes]\n",
    "        column = np.sum(column, axis=1)\n",
    "        \n",
    "        A_LADLAD.append(column)\n",
    "    \n",
    "    A_LADLAD = np.asarray(A_LADLAD)\n",
    "    A_LADLAD = sparse.coo_matrix(A_LADLAD)\n",
    "\n",
    "    # add a matrix for each year to the list\n",
    "    A_LADLAD_list.append(A_LADLAD)\n",
    "    \n",
    "#print(A_RegMSOA_list)    \n",
    "A_LADLAD_all = hstack(A_LADLAD_list)"
   ]
  },
  {
   "cell_type": "code",
   "execution_count": 132,
   "id": "6317e531-d3a5-47b2-8c37-26d2dcf6a882",
   "metadata": {},
   "outputs": [
    {
     "data": {
      "text/plain": [
       "(380, 2280)"
      ]
     },
     "execution_count": 132,
     "metadata": {},
     "output_type": "execute_result"
    }
   ],
   "source": [
    "A_LADLAD_all.shape\n",
    "# n x 6n "
   ]
  },
  {
   "cell_type": "code",
   "execution_count": 133,
   "id": "5a31cbf0-fad4-4243-8d6a-70eadfb291e6",
   "metadata": {},
   "outputs": [],
   "source": [
    "# save all the LAD by LAD matrices\n",
    "\n",
    "for i in range(0,6):\n",
    "    mat = A_LADLAD_list[i]\n",
    "    mmwrite(\"A_LAD_\" + str(i+2005) + \"_UK_v5.mtx\", mat)"
   ]
  },
  {
   "cell_type": "code",
   "execution_count": null,
   "id": "22adbcc3-9d6b-4b38-8157-a0967f68f4de",
   "metadata": {},
   "outputs": [],
   "source": []
  },
  {
   "cell_type": "markdown",
   "id": "779d3e1e-9617-4f54-9b10-875f726516e4",
   "metadata": {},
   "source": [
    "Read in lookup table from: \n",
    "\n",
    "https://www.data.gov.uk/dataset/2dc9ac85-8da2-48b4-a6f4-b4502af19c06/postcode-to-output-area-to-lower-layer-super-output-area-to-middle-layer-super-output-area-to-local-authority-district-may-2019-lookup-in-the-uk\n",
    "\n",
    "has columns msoa11nm, msoa11cd, ladcd, and ladnm that I use to map from one to another. Also assuming that it is lad11nm they are using as all the other fields are 2011 dated (if they are dated). \n",
    "\n",
    "The next chunk of code is to take the necessary columns and rows out of to make a MSOA to LAD UK lookup. It outputs the `MSOA_LAD_UK_lookup.csv` file, which can then just be used, so the section is commented out as it doesn't need to be ran over and over."
   ]
  },
  {
   "cell_type": "markdown",
   "id": "005b331e-cdf7-4b0e-9efb-1f9aa16889bb",
   "metadata": {},
   "source": [
    "#### Section to create the MSOA to LAD for UK lookup csv file and save it"
   ]
  },
  {
   "cell_type": "code",
   "execution_count": 134,
   "id": "072f608c-4dd1-434b-83a4-167ddbbf151d",
   "metadata": {},
   "outputs": [
    {
     "name": "stderr",
     "output_type": "stream",
     "text": [
      "/home/uj21900/anaconda3/lib/python3.9/site-packages/IPython/core/interactiveshell.py:3444: DtypeWarning: Columns (13) have mixed types.Specify dtype option on import or set low_memory=False.\n",
      "  exec(code_obj, self.user_global_ns, self.user_ns)\n"
     ]
    }
   ],
   "source": [
    "bigdf = pd.read_csv(\"PCD_OA_LSOA_MSOA_LAD_FEB20_UK_LU.csv\")"
   ]
  },
  {
   "cell_type": "code",
   "execution_count": 135,
   "id": "eddf605d-4933-422e-af23-dda1c1ec391d",
   "metadata": {},
   "outputs": [],
   "source": [
    "df1 = bigdf.iloc[:, [8,9,11,12]]"
   ]
  },
  {
   "cell_type": "code",
   "execution_count": 136,
   "id": "ebbb5a27-2ca1-4932-a96e-fdaa1c6c19bd",
   "metadata": {},
   "outputs": [],
   "source": [
    "MSOA_LAD_UK_lookup = df1.drop_duplicates()\n",
    "MSOA_LAD_UK_lookup = MSOA_LAD_UK_lookup.dropna()"
   ]
  },
  {
   "cell_type": "code",
   "execution_count": 137,
   "id": "f8fe6a18-8ed5-4a37-937c-8542a1006c94",
   "metadata": {},
   "outputs": [
    {
     "data": {
      "text/plain": [
       "(3767, 4)"
      ]
     },
     "execution_count": 137,
     "metadata": {},
     "output_type": "execute_result"
    }
   ],
   "source": [
    "MSOA_LAD_UK_lookup.shape"
   ]
  },
  {
   "cell_type": "code",
   "execution_count": 138,
   "id": "42ab5a91-79ca-42f6-9703-231bca9376dc",
   "metadata": {
    "tags": []
   },
   "outputs": [],
   "source": [
    "MSOA_LAD_UK_lookup.to_csv(\"MSOA_LAD_UK_lookup.csv\")"
   ]
  },
  {
   "cell_type": "markdown",
   "id": "7afe7115-ef39-4472-9402-d4c0999280b9",
   "metadata": {},
   "source": [
    "#### Read in the lookup file to use it\n",
    "(How to make the lookup file is the code commented out above)"
   ]
  },
  {
   "cell_type": "code",
   "execution_count": 139,
   "id": "a15020b0-c041-42af-aa2f-08b84780a96d",
   "metadata": {},
   "outputs": [],
   "source": [
    "# read in file\n",
    "MSOA_LAD_UK_lookup = pd.read_csv(\"MSOA_LAD_UK_lookup.csv\")"
   ]
  },
  {
   "cell_type": "code",
   "execution_count": 140,
   "id": "0767491b-6620-470c-93a4-6c02e8d14332",
   "metadata": {},
   "outputs": [],
   "source": [
    "# remove the odd index column\n",
    "MSOA_LAD_UK_lookup = MSOA_LAD_UK_lookup[['msoa11cd', 'ladcd', 'msoa11nm', 'ladnm']]"
   ]
  },
  {
   "cell_type": "code",
   "execution_count": 141,
   "id": "98d3dd7c-a754-456b-b1b9-29557ab510d2",
   "metadata": {},
   "outputs": [
    {
     "data": {
      "text/html": [
       "<div>\n",
       "<style scoped>\n",
       "    .dataframe tbody tr th:only-of-type {\n",
       "        vertical-align: middle;\n",
       "    }\n",
       "\n",
       "    .dataframe tbody tr th {\n",
       "        vertical-align: top;\n",
       "    }\n",
       "\n",
       "    .dataframe thead th {\n",
       "        text-align: right;\n",
       "    }\n",
       "</style>\n",
       "<table border=\"1\" class=\"dataframe\">\n",
       "  <thead>\n",
       "    <tr style=\"text-align: right;\">\n",
       "      <th></th>\n",
       "      <th>msoa11cd</th>\n",
       "      <th>ladcd</th>\n",
       "      <th>msoa11nm</th>\n",
       "      <th>ladnm</th>\n",
       "    </tr>\n",
       "  </thead>\n",
       "  <tbody>\n",
       "    <tr>\n",
       "      <th>0</th>\n",
       "      <td>S02001237</td>\n",
       "      <td>S12000033</td>\n",
       "      <td>Cults, Bieldside and Milltimber Wes</td>\n",
       "      <td>Aberdeen City</td>\n",
       "    </tr>\n",
       "    <tr>\n",
       "      <th>1</th>\n",
       "      <td>S02001296</td>\n",
       "      <td>S12000034</td>\n",
       "      <td>Dunecht, Durris and Drumoak</td>\n",
       "      <td>Aberdeenshire</td>\n",
       "    </tr>\n",
       "    <tr>\n",
       "      <th>2</th>\n",
       "      <td>S02001236</td>\n",
       "      <td>S12000033</td>\n",
       "      <td>Culter</td>\n",
       "      <td>Aberdeen City</td>\n",
       "    </tr>\n",
       "    <tr>\n",
       "      <th>3</th>\n",
       "      <td>S02001250</td>\n",
       "      <td>S12000033</td>\n",
       "      <td>City Centre East</td>\n",
       "      <td>Aberdeen City</td>\n",
       "    </tr>\n",
       "    <tr>\n",
       "      <th>4</th>\n",
       "      <td>S02001261</td>\n",
       "      <td>S12000033</td>\n",
       "      <td>George Street</td>\n",
       "      <td>Aberdeen City</td>\n",
       "    </tr>\n",
       "  </tbody>\n",
       "</table>\n",
       "</div>"
      ],
      "text/plain": [
       "    msoa11cd      ladcd                             msoa11nm          ladnm\n",
       "0  S02001237  S12000033  Cults, Bieldside and Milltimber Wes  Aberdeen City\n",
       "1  S02001296  S12000034          Dunecht, Durris and Drumoak  Aberdeenshire\n",
       "2  S02001236  S12000033                               Culter  Aberdeen City\n",
       "3  S02001250  S12000033                     City Centre East  Aberdeen City\n",
       "4  S02001261  S12000033                        George Street  Aberdeen City"
      ]
     },
     "execution_count": 141,
     "metadata": {},
     "output_type": "execute_result"
    }
   ],
   "source": [
    "MSOA_LAD_UK_lookup.head()"
   ]
  },
  {
   "cell_type": "code",
   "execution_count": 142,
   "id": "0f262375-593a-4b2f-a7bf-fb067f98b5f0",
   "metadata": {},
   "outputs": [
    {
     "data": {
      "text/plain": [
       "(3767, 4)"
      ]
     },
     "execution_count": 142,
     "metadata": {},
     "output_type": "execute_result"
    }
   ],
   "source": [
    "MSOA_LAD_UK_lookup.shape"
   ]
  },
  {
   "cell_type": "code",
   "execution_count": 143,
   "id": "29c06d27-1003-40f4-beff-30b91cf70880",
   "metadata": {},
   "outputs": [],
   "source": [
    "nodes_to_LAD = nodes.merge(MSOA_LAD_UK_lookup, left_on=\"msoa\", right_on=\"msoa11cd\", how = \"left\")"
   ]
  },
  {
   "cell_type": "code",
   "execution_count": 144,
   "id": "39775140-0ff4-4730-a0b9-9c6ee367c48e",
   "metadata": {},
   "outputs": [
    {
     "data": {
      "text/plain": [
       "(8493, 6)"
      ]
     },
     "execution_count": 144,
     "metadata": {},
     "output_type": "execute_result"
    }
   ],
   "source": [
    "nodes_to_LAD.shape"
   ]
  },
  {
   "cell_type": "code",
   "execution_count": 145,
   "id": "fb110e88-0c95-4a10-bab1-f00c8966ccb1",
   "metadata": {},
   "outputs": [],
   "source": [
    "test = MSOA_LAD_UK_lookup[\"msoa11nm\"]"
   ]
  },
  {
   "cell_type": "code",
   "execution_count": 146,
   "id": "ef354da1-cf91-423a-bbd7-1f3355c6b4b0",
   "metadata": {},
   "outputs": [],
   "source": [
    "test1 = test.drop_duplicates()"
   ]
  },
  {
   "cell_type": "code",
   "execution_count": 147,
   "id": "ebc5211b-450e-453e-8f64-ae69dba948d9",
   "metadata": {},
   "outputs": [
    {
     "data": {
      "text/plain": [
       "(3730,)"
      ]
     },
     "execution_count": 147,
     "metadata": {},
     "output_type": "execute_result"
    }
   ],
   "source": [
    "test1.shape"
   ]
  },
  {
   "cell_type": "code",
   "execution_count": 148,
   "id": "1fcc19b5-4bd0-42ae-bb93-0cfe0cf4d115",
   "metadata": {},
   "outputs": [],
   "source": [
    "nodes_to_LAD = nodes_to_LAD.dropna()"
   ]
  },
  {
   "cell_type": "code",
   "execution_count": 149,
   "id": "7355a8e3-eb5b-4448-bd50-8c35baff18fb",
   "metadata": {},
   "outputs": [
    {
     "data": {
      "text/plain": [
       "(3767, 6)"
      ]
     },
     "execution_count": 149,
     "metadata": {},
     "output_type": "execute_result"
    }
   ],
   "source": [
    "nodes_to_LAD.shape\n",
    "# lose the nodes that are scotland or other MSOAs outside of E&W"
   ]
  },
  {
   "cell_type": "code",
   "execution_count": 150,
   "id": "2a0ebf85-f6d3-4a08-80e8-122b0c5eaaa4",
   "metadata": {},
   "outputs": [
    {
     "data": {
      "text/plain": [
       "(1, 2)"
      ]
     },
     "execution_count": 150,
     "metadata": {},
     "output_type": "execute_result"
    }
   ],
   "source": [
    "dataFrameOut = nodes[nodes['msoa'].str.contains('N')]\n",
    "dataFrameOut.shape"
   ]
  },
  {
   "cell_type": "code",
   "execution_count": 151,
   "id": "e10ec9ce-2692-4ec6-8841-488557dda8d6",
   "metadata": {},
   "outputs": [
    {
     "data": {
      "text/html": [
       "<div>\n",
       "<style scoped>\n",
       "    .dataframe tbody tr th:only-of-type {\n",
       "        vertical-align: middle;\n",
       "    }\n",
       "\n",
       "    .dataframe tbody tr th {\n",
       "        vertical-align: top;\n",
       "    }\n",
       "\n",
       "    .dataframe thead th {\n",
       "        text-align: right;\n",
       "    }\n",
       "</style>\n",
       "<table border=\"1\" class=\"dataframe\">\n",
       "  <thead>\n",
       "    <tr style=\"text-align: right;\">\n",
       "      <th></th>\n",
       "      <th>msoa</th>\n",
       "      <th>index</th>\n",
       "    </tr>\n",
       "  </thead>\n",
       "  <tbody>\n",
       "    <tr>\n",
       "      <th>1062</th>\n",
       "      <td>N99999999</td>\n",
       "      <td>1063</td>\n",
       "    </tr>\n",
       "  </tbody>\n",
       "</table>\n",
       "</div>"
      ],
      "text/plain": [
       "           msoa  index\n",
       "1062  N99999999   1063"
      ]
     },
     "execution_count": 151,
     "metadata": {},
     "output_type": "execute_result"
    }
   ],
   "source": [
    "dataFrameOut"
   ]
  },
  {
   "cell_type": "code",
   "execution_count": 152,
   "id": "e99b71ed-ec97-455a-9fe8-400737e4efff",
   "metadata": {},
   "outputs": [],
   "source": [
    "scotIZ = pd.read_csv(\"Intermediate_Zones_(December_2011)_Names_and_Codes_in_Scotland.csv\")"
   ]
  },
  {
   "cell_type": "code",
   "execution_count": 153,
   "id": "4782e31b-c66d-4f9a-8175-773d6bfeecf8",
   "metadata": {},
   "outputs": [
    {
     "data": {
      "text/html": [
       "<div>\n",
       "<style scoped>\n",
       "    .dataframe tbody tr th:only-of-type {\n",
       "        vertical-align: middle;\n",
       "    }\n",
       "\n",
       "    .dataframe tbody tr th {\n",
       "        vertical-align: top;\n",
       "    }\n",
       "\n",
       "    .dataframe thead th {\n",
       "        text-align: right;\n",
       "    }\n",
       "</style>\n",
       "<table border=\"1\" class=\"dataframe\">\n",
       "  <thead>\n",
       "    <tr style=\"text-align: right;\">\n",
       "      <th></th>\n",
       "      <th>FID</th>\n",
       "      <th>IZ11CD</th>\n",
       "      <th>IZ11NM</th>\n",
       "    </tr>\n",
       "  </thead>\n",
       "  <tbody>\n",
       "    <tr>\n",
       "      <th>0</th>\n",
       "      <td>1</td>\n",
       "      <td>S02001236</td>\n",
       "      <td>Culter</td>\n",
       "    </tr>\n",
       "    <tr>\n",
       "      <th>1</th>\n",
       "      <td>2</td>\n",
       "      <td>S02001336</td>\n",
       "      <td>Peterhead Harbour</td>\n",
       "    </tr>\n",
       "    <tr>\n",
       "      <th>2</th>\n",
       "      <td>3</td>\n",
       "      <td>S02001237</td>\n",
       "      <td>Cults, Bieldside and Milltimber West</td>\n",
       "    </tr>\n",
       "    <tr>\n",
       "      <th>3</th>\n",
       "      <td>4</td>\n",
       "      <td>S02001238</td>\n",
       "      <td>Cults, Bieldside and Milltimber East</td>\n",
       "    </tr>\n",
       "    <tr>\n",
       "      <th>4</th>\n",
       "      <td>5</td>\n",
       "      <td>S02001337</td>\n",
       "      <td>Peterhead Ugieside</td>\n",
       "    </tr>\n",
       "  </tbody>\n",
       "</table>\n",
       "</div>"
      ],
      "text/plain": [
       "   FID     IZ11CD                                IZ11NM\n",
       "0    1  S02001236                                Culter\n",
       "1    2  S02001336                     Peterhead Harbour\n",
       "2    3  S02001237  Cults, Bieldside and Milltimber West\n",
       "3    4  S02001238  Cults, Bieldside and Milltimber East\n",
       "4    5  S02001337                    Peterhead Ugieside"
      ]
     },
     "execution_count": 153,
     "metadata": {},
     "output_type": "execute_result"
    }
   ],
   "source": [
    "scotIZ.head()"
   ]
  },
  {
   "cell_type": "code",
   "execution_count": 154,
   "id": "410cb72d-e53c-4e20-97ee-7c8e7847b82d",
   "metadata": {},
   "outputs": [],
   "source": [
    "testing  = nodes.merge(scotIZ, right_on=\"IZ11CD\", left_on=\"msoa\", how=\"inner\")"
   ]
  },
  {
   "cell_type": "code",
   "execution_count": 155,
   "id": "c679efde-0bd0-41bd-b262-e51c15d5e8a6",
   "metadata": {},
   "outputs": [
    {
     "data": {
      "text/plain": [
       "(1279, 5)"
      ]
     },
     "execution_count": 155,
     "metadata": {},
     "output_type": "execute_result"
    }
   ],
   "source": [
    "testing.shape"
   ]
  },
  {
   "cell_type": "code",
   "execution_count": 156,
   "id": "a5f5255b-8fa8-4693-ae12-e4f175826d89",
   "metadata": {},
   "outputs": [],
   "source": [
    "IZtoCA = pd.read_csv(\"iz2011_codes_and_labels_14072022.csv\")"
   ]
  },
  {
   "cell_type": "code",
   "execution_count": 157,
   "id": "fe869427-65e7-4797-bd2c-e161cfa0435b",
   "metadata": {},
   "outputs": [
    {
     "data": {
      "text/html": [
       "<div>\n",
       "<style scoped>\n",
       "    .dataframe tbody tr th:only-of-type {\n",
       "        vertical-align: middle;\n",
       "    }\n",
       "\n",
       "    .dataframe tbody tr th {\n",
       "        vertical-align: top;\n",
       "    }\n",
       "\n",
       "    .dataframe thead th {\n",
       "        text-align: right;\n",
       "    }\n",
       "</style>\n",
       "<table border=\"1\" class=\"dataframe\">\n",
       "  <thead>\n",
       "    <tr style=\"text-align: right;\">\n",
       "      <th></th>\n",
       "      <th>IntZone</th>\n",
       "      <th>IntZoneName</th>\n",
       "      <th>CA</th>\n",
       "      <th>CAName</th>\n",
       "      <th>HSCP</th>\n",
       "      <th>HSCPName</th>\n",
       "      <th>HB</th>\n",
       "      <th>HBName</th>\n",
       "      <th>Country</th>\n",
       "    </tr>\n",
       "  </thead>\n",
       "  <tbody>\n",
       "    <tr>\n",
       "      <th>0</th>\n",
       "      <td>S02001236</td>\n",
       "      <td>Culter</td>\n",
       "      <td>S12000033</td>\n",
       "      <td>Aberdeen City</td>\n",
       "      <td>S37000001</td>\n",
       "      <td>Aberdeen City</td>\n",
       "      <td>S08000020</td>\n",
       "      <td>NHS Grampian</td>\n",
       "      <td>S92000003</td>\n",
       "    </tr>\n",
       "    <tr>\n",
       "      <th>1</th>\n",
       "      <td>S02001237</td>\n",
       "      <td>Cults, Bieldside and Milltimber West</td>\n",
       "      <td>S12000033</td>\n",
       "      <td>Aberdeen City</td>\n",
       "      <td>S37000001</td>\n",
       "      <td>Aberdeen City</td>\n",
       "      <td>S08000020</td>\n",
       "      <td>NHS Grampian</td>\n",
       "      <td>S92000003</td>\n",
       "    </tr>\n",
       "    <tr>\n",
       "      <th>2</th>\n",
       "      <td>S02001238</td>\n",
       "      <td>Cults, Bieldside and Milltimber East</td>\n",
       "      <td>S12000033</td>\n",
       "      <td>Aberdeen City</td>\n",
       "      <td>S37000001</td>\n",
       "      <td>Aberdeen City</td>\n",
       "      <td>S08000020</td>\n",
       "      <td>NHS Grampian</td>\n",
       "      <td>S92000003</td>\n",
       "    </tr>\n",
       "    <tr>\n",
       "      <th>3</th>\n",
       "      <td>S02001239</td>\n",
       "      <td>Garthdee</td>\n",
       "      <td>S12000033</td>\n",
       "      <td>Aberdeen City</td>\n",
       "      <td>S37000001</td>\n",
       "      <td>Aberdeen City</td>\n",
       "      <td>S08000020</td>\n",
       "      <td>NHS Grampian</td>\n",
       "      <td>S92000003</td>\n",
       "    </tr>\n",
       "    <tr>\n",
       "      <th>4</th>\n",
       "      <td>S02001240</td>\n",
       "      <td>Braeside, Mannofield, Broomhill and Seafield East</td>\n",
       "      <td>S12000033</td>\n",
       "      <td>Aberdeen City</td>\n",
       "      <td>S37000001</td>\n",
       "      <td>Aberdeen City</td>\n",
       "      <td>S08000020</td>\n",
       "      <td>NHS Grampian</td>\n",
       "      <td>S92000003</td>\n",
       "    </tr>\n",
       "  </tbody>\n",
       "</table>\n",
       "</div>"
      ],
      "text/plain": [
       "     IntZone                                        IntZoneName         CA  \\\n",
       "0  S02001236                                             Culter  S12000033   \n",
       "1  S02001237               Cults, Bieldside and Milltimber West  S12000033   \n",
       "2  S02001238               Cults, Bieldside and Milltimber East  S12000033   \n",
       "3  S02001239                                           Garthdee  S12000033   \n",
       "4  S02001240  Braeside, Mannofield, Broomhill and Seafield East  S12000033   \n",
       "\n",
       "          CAName       HSCP       HSCPName         HB        HBName    Country  \n",
       "0  Aberdeen City  S37000001  Aberdeen City  S08000020  NHS Grampian  S92000003  \n",
       "1  Aberdeen City  S37000001  Aberdeen City  S08000020  NHS Grampian  S92000003  \n",
       "2  Aberdeen City  S37000001  Aberdeen City  S08000020  NHS Grampian  S92000003  \n",
       "3  Aberdeen City  S37000001  Aberdeen City  S08000020  NHS Grampian  S92000003  \n",
       "4  Aberdeen City  S37000001  Aberdeen City  S08000020  NHS Grampian  S92000003  "
      ]
     },
     "execution_count": 157,
     "metadata": {},
     "output_type": "execute_result"
    }
   ],
   "source": [
    "IZtoCA.head()"
   ]
  },
  {
   "cell_type": "code",
   "execution_count": 158,
   "id": "4f8b4783-12e3-4cca-9de5-d05a32cfb63c",
   "metadata": {},
   "outputs": [],
   "source": [
    "CA = IZtoCA[[\"CAName\"]]\n",
    "CA = CA.drop_duplicates()"
   ]
  },
  {
   "cell_type": "code",
   "execution_count": 159,
   "id": "0e492ba3-2608-46a8-b9e5-2b577588991d",
   "metadata": {},
   "outputs": [
    {
     "data": {
      "text/plain": [
       "(32, 1)"
      ]
     },
     "execution_count": 159,
     "metadata": {},
     "output_type": "execute_result"
    }
   ],
   "source": [
    "CA.shape"
   ]
  },
  {
   "cell_type": "code",
   "execution_count": null,
   "id": "7eed489d-64a7-45b6-b407-6736baaa8de8",
   "metadata": {},
   "outputs": [],
   "source": []
  },
  {
   "cell_type": "code",
   "execution_count": null,
   "id": "7f5b75f5-9f36-4f8d-bce3-b57f586b9ad7",
   "metadata": {},
   "outputs": [],
   "source": []
  },
  {
   "cell_type": "code",
   "execution_count": null,
   "id": "a8b18eff-7fd5-4791-81d6-5a82e629e626",
   "metadata": {},
   "outputs": [],
   "source": []
  },
  {
   "cell_type": "code",
   "execution_count": 160,
   "id": "d3131442-dcdf-4b3c-ab4f-bbb1ecda76d2",
   "metadata": {},
   "outputs": [
    {
     "ename": "AttributeError",
     "evalue": "'DataFrame' object has no attribute 'LAD11NM'",
     "output_type": "error",
     "traceback": [
      "\u001b[0;31m---------------------------------------------------------------------------\u001b[0m",
      "\u001b[0;31mAttributeError\u001b[0m                            Traceback (most recent call last)",
      "\u001b[0;32m/tmp/ipykernel_112112/447070895.py\u001b[0m in \u001b[0;36m<module>\u001b[0;34m\u001b[0m\n\u001b[1;32m      1\u001b[0m \u001b[0;31m# define all the LADs in a np array so that later we can go through these values in a for loop\u001b[0m\u001b[0;34m\u001b[0m\u001b[0;34m\u001b[0m\u001b[0m\n\u001b[0;32m----> 2\u001b[0;31m \u001b[0mlads\u001b[0m \u001b[0;34m=\u001b[0m \u001b[0mnodes_to_LAD\u001b[0m\u001b[0;34m.\u001b[0m\u001b[0mLAD11NM\u001b[0m\u001b[0;34m.\u001b[0m\u001b[0munique\u001b[0m\u001b[0;34m(\u001b[0m\u001b[0;34m)\u001b[0m\u001b[0;34m\u001b[0m\u001b[0;34m\u001b[0m\u001b[0m\n\u001b[0m",
      "\u001b[0;32m~/anaconda3/lib/python3.9/site-packages/pandas/core/generic.py\u001b[0m in \u001b[0;36m__getattr__\u001b[0;34m(self, name)\u001b[0m\n\u001b[1;32m   5485\u001b[0m         ):\n\u001b[1;32m   5486\u001b[0m             \u001b[0;32mreturn\u001b[0m \u001b[0mself\u001b[0m\u001b[0;34m[\u001b[0m\u001b[0mname\u001b[0m\u001b[0;34m]\u001b[0m\u001b[0;34m\u001b[0m\u001b[0;34m\u001b[0m\u001b[0m\n\u001b[0;32m-> 5487\u001b[0;31m         \u001b[0;32mreturn\u001b[0m \u001b[0mobject\u001b[0m\u001b[0;34m.\u001b[0m\u001b[0m__getattribute__\u001b[0m\u001b[0;34m(\u001b[0m\u001b[0mself\u001b[0m\u001b[0;34m,\u001b[0m \u001b[0mname\u001b[0m\u001b[0;34m)\u001b[0m\u001b[0;34m\u001b[0m\u001b[0;34m\u001b[0m\u001b[0m\n\u001b[0m\u001b[1;32m   5488\u001b[0m \u001b[0;34m\u001b[0m\u001b[0m\n\u001b[1;32m   5489\u001b[0m     \u001b[0;32mdef\u001b[0m \u001b[0m__setattr__\u001b[0m\u001b[0;34m(\u001b[0m\u001b[0mself\u001b[0m\u001b[0;34m,\u001b[0m \u001b[0mname\u001b[0m\u001b[0;34m:\u001b[0m \u001b[0mstr\u001b[0m\u001b[0;34m,\u001b[0m \u001b[0mvalue\u001b[0m\u001b[0;34m)\u001b[0m \u001b[0;34m->\u001b[0m \u001b[0;32mNone\u001b[0m\u001b[0;34m:\u001b[0m\u001b[0;34m\u001b[0m\u001b[0;34m\u001b[0m\u001b[0m\n",
      "\u001b[0;31mAttributeError\u001b[0m: 'DataFrame' object has no attribute 'LAD11NM'"
     ]
    }
   ],
   "source": [
    "# define all the LADs in a np array so that later we can go through these values in a for loop\n",
    "lads = nodes_to_LAD.LAD11NM.unique()"
   ]
  },
  {
   "cell_type": "code",
   "execution_count": null,
   "id": "138d6077-178c-49f8-a986-e259160c2190",
   "metadata": {},
   "outputs": [],
   "source": [
    "lads.shape\n",
    "# 348 LADs in E&W"
   ]
  },
  {
   "cell_type": "raw",
   "id": "c1d53b95-6140-45f3-871e-4d7c5bba384e",
   "metadata": {},
   "source": [
    "# Save LADs list to a csv file\n",
    "lads_df = pd.DataFrame(lads)\n",
    "lads_df.to_csv(\"LADS_list.csv\", sep=',')"
   ]
  }
 ],
 "metadata": {
  "kernelspec": {
   "display_name": "Python 3 (ipykernel)",
   "language": "python",
   "name": "python3"
  },
  "language_info": {
   "codemirror_mode": {
    "name": "ipython",
    "version": 3
   },
   "file_extension": ".py",
   "mimetype": "text/x-python",
   "name": "python",
   "nbconvert_exporter": "python",
   "pygments_lexer": "ipython3",
   "version": "3.9.7"
  }
 },
 "nbformat": 4,
 "nbformat_minor": 5
}
