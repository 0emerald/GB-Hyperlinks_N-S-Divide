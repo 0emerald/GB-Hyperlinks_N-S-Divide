{
 "cells": [
  {
   "cell_type": "code",
   "execution_count": 1,
   "id": "6ca64d10-7ea4-47e0-b23c-667a0c967167",
   "metadata": {},
   "outputs": [],
   "source": [
    "import numpy as np\n",
    "import pandas as pd\n",
    "from scipy.sparse import csr_matrix, hstack\n",
    "from scipy.io import mmread, mmwrite\n",
    "from scipy.sparse.linalg import svds\n",
    "import matplotlib.pyplot as plt\n",
    "# from scipy import sparse\n",
    "import plotly.express as px\n",
    "from scipy import sparse\n",
    "import png\n",
    "import math\n",
    "import scipy.linalg as LA\n",
    "import nodevectors\n",
    "from sklearn.decomposition import PCA\n",
    "import seaborn as sns\n",
    "from tabulate import tabulate\n",
    "from scipy.stats.mstats import winsorize"
   ]
  },
  {
   "cell_type": "code",
   "execution_count": 2,
   "id": "3775c281-4141-403e-9abf-4de4f7e335b3",
   "metadata": {},
   "outputs": [],
   "source": [
    "ladslist = pd.read_csv(\"LADs_list_UK_incNI.csv\")"
   ]
  },
  {
   "cell_type": "code",
   "execution_count": 4,
   "id": "54251633-8479-4476-8059-fe6ea5521e40",
   "metadata": {},
   "outputs": [
    {
     "data": {
      "text/html": [
       "<div>\n",
       "<style scoped>\n",
       "    .dataframe tbody tr th:only-of-type {\n",
       "        vertical-align: middle;\n",
       "    }\n",
       "\n",
       "    .dataframe tbody tr th {\n",
       "        vertical-align: top;\n",
       "    }\n",
       "\n",
       "    .dataframe thead th {\n",
       "        text-align: right;\n",
       "    }\n",
       "</style>\n",
       "<table border=\"1\" class=\"dataframe\">\n",
       "  <thead>\n",
       "    <tr style=\"text-align: right;\">\n",
       "      <th></th>\n",
       "      <th>Unnamed: 0</th>\n",
       "      <th>0</th>\n",
       "    </tr>\n",
       "  </thead>\n",
       "  <tbody>\n",
       "    <tr>\n",
       "      <th>375</th>\n",
       "      <td>375</td>\n",
       "      <td>North Ayrshire</td>\n",
       "    </tr>\n",
       "    <tr>\n",
       "      <th>376</th>\n",
       "      <td>376</td>\n",
       "      <td>Na h-Eileanan Siar</td>\n",
       "    </tr>\n",
       "    <tr>\n",
       "      <th>377</th>\n",
       "      <td>377</td>\n",
       "      <td>Orkney Islands</td>\n",
       "    </tr>\n",
       "    <tr>\n",
       "      <th>378</th>\n",
       "      <td>378</td>\n",
       "      <td>Inverclyde</td>\n",
       "    </tr>\n",
       "    <tr>\n",
       "      <th>379</th>\n",
       "      <td>379</td>\n",
       "      <td>Shetland Islands</td>\n",
       "    </tr>\n",
       "    <tr>\n",
       "      <th>380</th>\n",
       "      <td>380</td>\n",
       "      <td>Antrim and Newtownabbey</td>\n",
       "    </tr>\n",
       "    <tr>\n",
       "      <th>381</th>\n",
       "      <td>381</td>\n",
       "      <td>Ards and North Down</td>\n",
       "    </tr>\n",
       "    <tr>\n",
       "      <th>382</th>\n",
       "      <td>382</td>\n",
       "      <td>Armagh City, Banbridge and Craigavon</td>\n",
       "    </tr>\n",
       "    <tr>\n",
       "      <th>383</th>\n",
       "      <td>383</td>\n",
       "      <td>Mid and East Antrim</td>\n",
       "    </tr>\n",
       "    <tr>\n",
       "      <th>384</th>\n",
       "      <td>384</td>\n",
       "      <td>Causeway Coast and Glens</td>\n",
       "    </tr>\n",
       "    <tr>\n",
       "      <th>385</th>\n",
       "      <td>385</td>\n",
       "      <td>Newry, Mourne and Down</td>\n",
       "    </tr>\n",
       "    <tr>\n",
       "      <th>386</th>\n",
       "      <td>386</td>\n",
       "      <td>Belfast</td>\n",
       "    </tr>\n",
       "    <tr>\n",
       "      <th>387</th>\n",
       "      <td>387</td>\n",
       "      <td>Lisburn and Castlereagh</td>\n",
       "    </tr>\n",
       "    <tr>\n",
       "      <th>388</th>\n",
       "      <td>388</td>\n",
       "      <td>Mid Ulster</td>\n",
       "    </tr>\n",
       "    <tr>\n",
       "      <th>389</th>\n",
       "      <td>389</td>\n",
       "      <td>Derry City and Strabane</td>\n",
       "    </tr>\n",
       "    <tr>\n",
       "      <th>390</th>\n",
       "      <td>390</td>\n",
       "      <td>Fermanagh and Omagh</td>\n",
       "    </tr>\n",
       "  </tbody>\n",
       "</table>\n",
       "</div>"
      ],
      "text/plain": [
       "     Unnamed: 0                                     0\n",
       "375         375                        North Ayrshire\n",
       "376         376                    Na h-Eileanan Siar\n",
       "377         377                        Orkney Islands\n",
       "378         378                            Inverclyde\n",
       "379         379                      Shetland Islands\n",
       "380         380               Antrim and Newtownabbey\n",
       "381         381                   Ards and North Down\n",
       "382         382  Armagh City, Banbridge and Craigavon\n",
       "383         383                   Mid and East Antrim\n",
       "384         384              Causeway Coast and Glens\n",
       "385         385                Newry, Mourne and Down\n",
       "386         386                               Belfast\n",
       "387         387               Lisburn and Castlereagh\n",
       "388         388                            Mid Ulster\n",
       "389         389               Derry City and Strabane\n",
       "390         390                   Fermanagh and Omagh"
      ]
     },
     "execution_count": 4,
     "metadata": {},
     "output_type": "execute_result"
    }
   ],
   "source": [
    "ladslist.tail(16)"
   ]
  },
  {
   "cell_type": "code",
   "execution_count": 16,
   "id": "cfe3d247-eac8-4ddd-91fa-543ce15f88ce",
   "metadata": {},
   "outputs": [],
   "source": [
    "A_list = []\n",
    "for year in range(2005,2011):\n",
    "    # does 2005-2010 inclusive\n",
    "    filepath = \"A_LAD_\" + str(year) + \"_UK_v6.mtx\" # file name to read in \n",
    "    A = mmread(filepath) # temporary\n",
    "    A = A.todense()\n",
    "    A = A[0:380,0:380]\n",
    "    A_list.append(A)\n",
    "    A = sparse.coo_matrix(A)\n",
    "    GBfilepath = \"A_LAD_\" + str(year) + \"_GB.mtx\"\n",
    "    mmwrite(GBfilepath, A)"
   ]
  },
  {
   "cell_type": "code",
   "execution_count": 17,
   "id": "336a3b7c-74c9-4e2a-8a9e-938cb6f813a7",
   "metadata": {},
   "outputs": [
    {
     "data": {
      "text/plain": [
       "(380, 380)"
      ]
     },
     "execution_count": 17,
     "metadata": {},
     "output_type": "execute_result"
    }
   ],
   "source": [
    "A_list[0].shape"
   ]
  },
  {
   "cell_type": "code",
   "execution_count": null,
   "id": "d4f198a2-dc03-4949-af7e-d89fe869626b",
   "metadata": {},
   "outputs": [],
   "source": []
  }
 ],
 "metadata": {
  "kernelspec": {
   "display_name": "Python 3 (ipykernel)",
   "language": "python",
   "name": "python3"
  },
  "language_info": {
   "codemirror_mode": {
    "name": "ipython",
    "version": 3
   },
   "file_extension": ".py",
   "mimetype": "text/x-python",
   "name": "python",
   "nbconvert_exporter": "python",
   "pygments_lexer": "ipython3",
   "version": "3.9.7"
  }
 },
 "nbformat": 4,
 "nbformat_minor": 5
}
