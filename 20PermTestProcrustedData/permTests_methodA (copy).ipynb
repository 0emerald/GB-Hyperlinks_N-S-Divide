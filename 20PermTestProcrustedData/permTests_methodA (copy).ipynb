{
 "cells": [
  {
   "cell_type": "code",
   "execution_count": 140,
   "id": "781137a6-7dda-415d-8511-a708e2e046ab",
   "metadata": {},
   "outputs": [],
   "source": [
    "import numpy as np\n",
    "import pandas as pd\n",
    "from scipy.sparse import csr_matrix, hstack\n",
    "from scipy.io import mmread, mmwrite\n",
    "import matplotlib.pyplot as plt\n",
    "from scipy import sparse\n",
    "import plotly.express as px\n",
    "import random\n",
    "import math\n",
    "import seaborn as sns\n",
    "from plotly import graph_objects as go\n",
    "import matplotlib.patches as patches"
   ]
  },
  {
   "cell_type": "code",
   "execution_count": 141,
   "id": "e3ef96e9-7fae-4efc-ba64-df2db5d0e5da",
   "metadata": {},
   "outputs": [],
   "source": [
    "early = pd.read_csv(\"normalisedXhat_early_methodA.csv\")\n",
    "late = pd.read_csv(\"normalisedXhat_late_methodA.csv\")"
   ]
  },
  {
   "cell_type": "code",
   "execution_count": 142,
   "id": "c7a54c0e-b48f-422c-946e-847fd26961e5",
   "metadata": {},
   "outputs": [],
   "source": [
    "early = early[[\"normX\", \"normY\", \"norm\", \"norm.1\"]]\n",
    "late = late[[\"normX\", \"normY\", \"norm\", \"norm.1\"]]"
   ]
  },
  {
   "cell_type": "code",
   "execution_count": 143,
   "id": "19d468f9-a46e-4988-8c34-272dc9e3978d",
   "metadata": {},
   "outputs": [],
   "source": [
    "early = early.rename(columns={\"norm\":\"normEnterprises\" , \"norm.1\":\"normEverythingElse\"})#\"normX\":\"longitude\", \"normY\":\"latitude\"\n",
    "late = late.rename(columns={\"norm\":\"normEnterprises\" , \"norm.1\":\"normEverythingElse\"})#\"normX\":\"longitude\", \"normY\":\"latitude\""
   ]
  },
  {
   "cell_type": "code",
   "execution_count": 144,
   "id": "99a3bed9-bb25-43e6-a6b7-2f4e33fc9a0c",
   "metadata": {},
   "outputs": [],
   "source": [
    "# or use?\n",
    "early = pd.read_csv(\"Xhat_early.csv\")\n",
    "late = pd.read_csv(\"Xhat_late.csv\")\n",
    "\n",
    "early = early[['X', 'Y', 'Unnamed: 3', 'Unnamed: 4']]\n",
    "late = late[['X', 'Y', 'Unnamed: 3', 'Unnamed: 4']]\n",
    "\n",
    "# these are the wrong names, should be X, Y, Enterprises, Everything else, but then I'd have to change the code more\n",
    "early = early.rename(columns={\"X\": \"normX\", \"Y\": \"normY\", \"Unnamed: 3\":\"normEnterprises\" , \"Unnamed: 4\":\"normEverythingElse\"})\n",
    "late = late.rename(columns={\"X\": \"normX\", \"Y\": \"normY\", \"Unnamed: 3\":\"normEnterprises\" , \"Unnamed: 4\":\"normEverythingElse\"})"
   ]
  },
  {
   "cell_type": "code",
   "execution_count": 145,
   "id": "29c0178e-5ac3-40a1-9208-de84db2641e5",
   "metadata": {},
   "outputs": [],
   "source": [
    "LAD_Region_lookup = pd.read_csv(\"LAD_Region_lookup_UK.csv\")"
   ]
  },
  {
   "cell_type": "code",
   "execution_count": 146,
   "id": "9a5129ed-2833-4966-b3e7-0af9f42ab86a",
   "metadata": {},
   "outputs": [],
   "source": [
    "early = pd.concat([early, LAD_Region_lookup], axis=1)\n",
    "late = pd.concat([late, LAD_Region_lookup], axis=1)"
   ]
  },
  {
   "cell_type": "code",
   "execution_count": 147,
   "id": "89b00a8b-f0a9-4484-86d8-cd210be2402f",
   "metadata": {},
   "outputs": [],
   "source": [
    "early[\"NorthIndicator\"] = np.where( (early[\"RGN11NM\"] == \"South West\") | (early[\"RGN11NM\"] == \"London\") | (early[\"RGN11NM\"] == \"South East\") | (early[\"RGN11NM\"] == \"East of England\"), 0, 1) \n",
    "late[\"NorthIndicator\"] = np.where( (late[\"RGN11NM\"] == \"South West\") | (late[\"RGN11NM\"] == \"London\") | (late[\"RGN11NM\"] == \"South East\") | (late[\"RGN11NM\"] == \"East of England\"), 0, 1) "
   ]
  },
  {
   "cell_type": "code",
   "execution_count": 148,
   "id": "27403162-c6f9-459b-bc47-bbe81b03f92b",
   "metadata": {},
   "outputs": [],
   "source": [
    "early = early.drop(columns=([\"Unnamed: 0\",  \"LAD11NM\"]))\n",
    "late = late.drop(columns=([\"Unnamed: 0\",  \"LAD11NM\"]))"
   ]
  },
  {
   "cell_type": "code",
   "execution_count": 149,
   "id": "adc8cc18-b236-4d37-a661-d9e8df0447fa",
   "metadata": {},
   "outputs": [],
   "source": [
    "early['EarlyIndicator'] = 1\n",
    "late['EarlyIndicator'] = 0"
   ]
  },
  {
   "cell_type": "code",
   "execution_count": 150,
   "id": "a473ca2c-ef43-452d-aa93-28ecda618d2d",
   "metadata": {},
   "outputs": [],
   "source": [
    "df = early.append(late)"
   ]
  },
  {
   "cell_type": "code",
   "execution_count": 151,
   "id": "d11b8666-df9a-4169-8c24-18dd19f140b0",
   "metadata": {},
   "outputs": [],
   "source": [
    "d=4"
   ]
  },
  {
   "cell_type": "code",
   "execution_count": 152,
   "id": "31fe246b-e410-49c5-b5be-5d09348b7161",
   "metadata": {},
   "outputs": [],
   "source": [
    "mean_diff_early = []\n",
    "mean_diff_late = []"
   ]
  },
  {
   "cell_type": "code",
   "execution_count": 153,
   "id": "db469616-4a2e-4615-8cc2-52a53bed1a0e",
   "metadata": {},
   "outputs": [],
   "source": [
    "earlyNorthdf = df[ (df[\"EarlyIndicator\"] == 1) & (df[\"NorthIndicator\"] == 1) ]\n",
    "earlySouthdf = df[ (df[\"EarlyIndicator\"] == 1) & (df[\"NorthIndicator\"] == 0) ]\n",
    "lateNorthdf = df[ (df[\"EarlyIndicator\"] == 0) & (df[\"NorthIndicator\"] == 1) ]\n",
    "lateSouthdf = df[ (df[\"EarlyIndicator\"] == 0) & (df[\"NorthIndicator\"] == 0) ]"
   ]
  },
  {
   "cell_type": "code",
   "execution_count": 154,
   "id": "3b682afc-7849-4f12-8e74-7b016824e7e5",
   "metadata": {},
   "outputs": [
    {
     "name": "stdout",
     "output_type": "stream",
     "text": [
      "[196, 184]\n"
     ]
    }
   ],
   "source": [
    "# how many LADs are in the north\n",
    "n = early[ (early[\"NorthIndicator\"]==1)].shape[0]\n",
    "# how many LADs are in the south\n",
    "s = early[(early[\"NorthIndicator\"]==0)].shape[0]\n",
    "\n",
    "print([n,s])"
   ]
  },
  {
   "cell_type": "code",
   "execution_count": 155,
   "id": "046ee4a9-eb4b-4d44-b2cc-e3bc182f0b1e",
   "metadata": {},
   "outputs": [],
   "source": [
    "# calculate values of mean_diff_early_i for all i, i.e. all PCs, and store them in order in a vector\n",
    "# same for mean_diff_late_i\n",
    "\n",
    "for i in range(0,d):\n",
    "    valEarly = (n) * sum( earlyNorthdf.iloc[: ,i])  -  (s) * sum( earlySouthdf.iloc[: ,i])\n",
    "    valLate = (n) * sum( lateNorthdf.iloc[: ,i])  -  (s) * sum( lateSouthdf.iloc[: ,i])\n",
    "    mean_diff_early.append(valEarly)\n",
    "    mean_diff_late.append(valLate)"
   ]
  },
  {
   "cell_type": "code",
   "execution_count": 156,
   "id": "9870b254-8db2-4213-9197-95104fc48cc9",
   "metadata": {},
   "outputs": [
    {
     "data": {
      "text/plain": [
       "array([-1.15493905e+08, -8.30190323e+08,  8.74310026e+07,  1.74535702e+08])"
      ]
     },
     "execution_count": 156,
     "metadata": {},
     "output_type": "execute_result"
    }
   ],
   "source": [
    "# calculate T_PC_i\n",
    "T_PC = np.subtract(mean_diff_early, mean_diff_late)\n",
    "\n",
    "# length d vector of the subtracted values\n",
    "T_PC"
   ]
  },
  {
   "cell_type": "code",
   "execution_count": 157,
   "id": "937c6186-0023-44bc-99fd-18c448062822",
   "metadata": {},
   "outputs": [
    {
     "data": {
      "text/plain": [
       "7.406617067856696e+17"
      ]
     },
     "execution_count": 157,
     "metadata": {},
     "output_type": "execute_result"
    }
   ],
   "source": [
    "T_full_obs = sum(T_PC**2) # this is T_obs\n",
    "T_obs = T_full_obs # incase I type wrong thing\n",
    "T_full_obs"
   ]
  },
  {
   "cell_type": "code",
   "execution_count": 158,
   "id": "576a4daa-c587-49ac-80a7-b02d6ff8512f",
   "metadata": {},
   "outputs": [],
   "source": [
    "ladslist = list(LAD_Region_lookup['LAD'])"
   ]
  },
  {
   "cell_type": "markdown",
   "id": "5703c796-7eda-4e3d-b0cb-236d6b5c0cb9",
   "metadata": {
    "tags": []
   },
   "source": [
    "#### Put it all together in a loop that iterates P times, and stores P items in a `T_full_p_list` item. "
   ]
  },
  {
   "cell_type": "code",
   "execution_count": 159,
   "id": "39dcaab6",
   "metadata": {},
   "outputs": [],
   "source": [
    "rand_ones = np.array([0,1])\n",
    "df[\"A_indicator\"] = 0\n",
    "\n",
    "T_full_p_list = []\n",
    "P = 5000\n",
    "\n",
    "# for the individual PCs\n",
    "T_PC_p_table = pd.DataFrame(columns=['normX','normY','normEnterprises','normEverythingElse'])"
   ]
  },
  {
   "cell_type": "code",
   "execution_count": 160,
   "id": "80de2795-b845-45bc-a9ac-8d5d59f0ba13",
   "metadata": {},
   "outputs": [],
   "source": [
    "random.seed(12)\n",
    "\n",
    "summariesdf = pd.DataFrame()\n",
    "\n",
    "for p in range(P):\n",
    "\n",
    "    for lad in ladslist:\n",
    "        # to pick 1 timepoints at random for group A, and one for B, i.e. randomly assign to either early or late\n",
    "        random.shuffle(rand_ones)\n",
    "        # populates the \"A_indicator\" column\n",
    "        df.loc[df[\"LAD\"] == lad,\"A_indicator\"] = rand_ones\n",
    "\n",
    "# split the data into the 4 groups (made up of 2 binary labels, 2*2 = 4)\n",
    "    A_Northdf = df[ (df[\"A_indicator\"] == 1) & (df[\"NorthIndicator\"] == 1) ]\n",
    "    A_Southdf = df[ (df[\"A_indicator\"] == 1) & (df[\"NorthIndicator\"] == 0) ]\n",
    "    B_Northdf = df[ (df[\"A_indicator\"] == 0) & (df[\"NorthIndicator\"] == 1) ]\n",
    "    B_Southdf = df[ (df[\"A_indicator\"] == 0) & (df[\"NorthIndicator\"] == 0) ]\n",
    "    \n",
    "    ### THIS STUFF IS TO CONSTRUCT CONFIDENCE INTERVALS\n",
    "    A_North_summaries = [np.mean(A_Northdf['normX']) , np.mean(A_Northdf['normY']) , np.mean(A_Northdf['normEnterprises']) , np.mean(A_Northdf['normEverythingElse'])]\n",
    "    A_South_summaries = [np.mean(A_Southdf['normX']) , np.mean(A_Southdf['normY']) , np.mean(A_Southdf['normEnterprises']) , np.mean(A_Southdf['normEverythingElse'])]\n",
    "    B_North_summaries = [np.mean(B_Northdf['normX']) , np.mean(B_Northdf['normY']) , np.mean(B_Northdf['normEnterprises']) , np.mean(B_Northdf['normEverythingElse'])]\n",
    "    B_South_summaries = [np.mean(B_Southdf['normX']) , np.mean(B_Southdf['normY']) , np.mean(B_Southdf['normEnterprises']) , np.mean(B_Southdf['normEverythingElse'])]\n",
    "    summaries = pd.DataFrame (A_North_summaries, columns = ['A_North'])\n",
    "    summaries['A_South'] = A_South_summaries\n",
    "    summaries['B_North'] = B_North_summaries\n",
    "    summaries['B_South'] = B_South_summaries\n",
    "    summaries.index = (['normX','normY','normEnterprises','normEverythingElse'])\n",
    "    summaries = summaries.transpose()\n",
    "    summaries['NorthIndicator'] = [1,0,1,0]\n",
    "    summaries['NorthorSouth'] = np.where(summaries['NorthIndicator'] >0, 'North', 'South')\n",
    "    summaries['A_Indicator'] = [1,1,0,0]\n",
    "    summaries['AorB'] = np.where(summaries['A_Indicator'] >0, 'A', 'B')\n",
    "    summaries['permutation'] = p\n",
    "    summariesdf = pd.concat([summariesdf, summaries], axis=0)\n",
    "\n",
    "\n",
    "    # length d vectors of the difference between the mean locations of the North and South for the 2 groups, A and B \n",
    "    mean_diff_A_p = []  #A is early, B is late\n",
    "    mean_diff_B_p = []\n",
    "    # calculate values of mean_diff_A_i for all i, i.e. all PCs, and store them in order in a vector\n",
    "    # same for mean_diff_B_i\n",
    "    for i in range(0,d):\n",
    "        valA = (n) * sum( A_Northdf.iloc[: ,i])  -  (s) * sum( A_Southdf.iloc[: ,i])\n",
    "        valB = (n) * sum( B_Northdf.iloc[: ,i])  -  (s) * sum( B_Southdf.iloc[: ,i])\n",
    "        mean_diff_A_p.append(valA)\n",
    "        mean_diff_B_p.append(valB)\n",
    "\n",
    "    # calculate T_PC_i_p\n",
    "    T_PC_p = np.subtract(mean_diff_A_p, mean_diff_B_p)\n",
    "\n",
    "    T_full_p = sum(T_PC_p**2) # this is T_obs\n",
    "\n",
    "    # values for all dimensions statistic \n",
    "    T_full_p_list.append(T_full_p)\n",
    "    \n",
    "    # values for individual dimension statistic\n",
    "    T_PC_p_table.loc[p,:] = T_PC_p"
   ]
  },
  {
   "cell_type": "code",
   "execution_count": 161,
   "id": "756f4470-b40b-4d0d-ac9b-fb2dda406881",
   "metadata": {},
   "outputs": [
    {
     "data": {
      "text/plain": [
       "[0.7266546690661868, 1.0, 0.34913017396520696, 0.244751049790042]"
      ]
     },
     "execution_count": 161,
     "metadata": {},
     "output_type": "execute_result"
    }
   ],
   "source": [
    "# Testing if time matters in each of the 4 dimensions independently\n",
    "counters_PCs = []\n",
    "for dim in range(d):\n",
    "    counter = 0\n",
    "    for p in range(P):\n",
    "        if T_PC_p_table.iloc[p , dim] > T_PC[dim]:\n",
    "            counter += 1\n",
    "        else: \n",
    "            counter = counter\n",
    "    counters_PCs.append(counter)\n",
    "\n",
    "PC_p_values = [(x+1) / (P+1) for x in counters_PCs] # (x+1) add 1 as include the observed value\n",
    "PC_p_values"
   ]
  },
  {
   "cell_type": "code",
   "execution_count": 162,
   "id": "a3301d17",
   "metadata": {},
   "outputs": [],
   "source": [
    "# can square all the values in the `T_PC_p_table` table.\n",
    "# This is to say we are looking at the value of   (mean_diff_A_p_i - mean_diff_B_p_i)**2\n",
    "# when we look at row p, column i in the table\n",
    "\n",
    "T_PC_p_table_squared = T_PC_p_table**2 # #square every value in df"
   ]
  },
  {
   "cell_type": "markdown",
   "id": "412ac44d-9f77-4a79-a3f0-097ce015b093",
   "metadata": {},
   "source": [
    "### Histograms for *(mean_diff_A_p_i - mean_diff_B_p_i)$^2$*, where there is a plot for each `i` (the dimension), and `P` counts. "
   ]
  },
  {
   "cell_type": "code",
   "execution_count": 163,
   "id": "815aadca-49cd-4c0f-83b1-0531268a0d8a",
   "metadata": {},
   "outputs": [
    {
     "data": {
      "text/plain": [
       "[0.5576884623075385,\n",
       " 0.0001999600079984003,\n",
       " 0.6842631473705258,\n",
       " 0.5188962207558488]"
      ]
     },
     "execution_count": 163,
     "metadata": {},
     "output_type": "execute_result"
    }
   ],
   "source": [
    "counters_PCs = []\n",
    "for dim in range(d):\n",
    "    counter = 0\n",
    "    for p in range(P):\n",
    "        if T_PC_p_table_squared.iloc[p , dim] > (T_PC[dim])**2:\n",
    "            counter += 1\n",
    "        else: \n",
    "            counter = counter\n",
    "    counters_PCs.append(counter)\n",
    "\n",
    "PC_p_square_values = [(x+1) / (P+1) for x in counters_PCs] # (x+1) add 1 as include the observed value\n",
    "\n",
    "# p-values for each dimension\n",
    "PC_p_square_values"
   ]
  },
  {
   "cell_type": "code",
   "execution_count": 164,
   "id": "0a67ec0e-50d8-4c29-ba30-077090c58b6b",
   "metadata": {},
   "outputs": [
    {
     "data": {
      "image/png": "[encoded data removed]",
      "text/plain": [
       "<Figure size 432x288 with 1 Axes>"
      ]
     },
     "metadata": {
      "needs_background": "light"
     },
     "output_type": "display_data"
    },
    {
     "data": {
      "image/png": "[encoded data removed]",
      "text/plain": [
       "<Figure size 432x288 with 1 Axes>"
      ]
     },
     "metadata": {
      "needs_background": "light"
     },
     "output_type": "display_data"
    },
    {
     "data": {
      "image/png": "[encoded data removed]",
      "text/plain": [
       "<Figure size 432x288 with 1 Axes>"
      ]
     },
     "metadata": {
      "needs_background": "light"
     },
     "output_type": "display_data"
    },
    {
     "data": {
      "image/png": "[encoded data removed]",
      "text/plain": [
       "<Figure size 432x288 with 1 Axes>"
      ]
     },
     "metadata": {
      "needs_background": "light"
     },
     "output_type": "display_data"
    }
   ],
   "source": [
    "# squared values of distance between mean diff in groups A and B\n",
    "names = ['normX','normY','normEnterprises','normEverythingElse']\n",
    "\n",
    "for dim in range(d):\n",
    "    f, ax = plt.subplots()\n",
    "    ax = sns.histplot(T_PC_p_table_squared.iloc[:,dim], bins=20)\n",
    "    plt.axvline( (T_PC[dim])**2 , color=\"red\")\n",
    "    ax.set_title(names[dim])\n",
    "    \n",
    "    fig = ax.get_figure()"
   ]
  },
  {
   "cell_type": "markdown",
   "id": "0348f890-1554-4914-ad8f-d1ab0e43a671",
   "metadata": {},
   "source": [
    "#### try and make the plot for fig6, but axis are longitude and latitude\n",
    "02/05/2023"
   ]
  },
  {
   "cell_type": "code",
   "execution_count": 165,
   "id": "c735564c-8df6-4064-a54b-efd0db1a9b97",
   "metadata": {
    "tags": []
   },
   "outputs": [],
   "source": [
    "# north is east, south is west\n",
    "earlyNorth_summaries = [np.mean(earlyNorthdf['normX']) , np.mean(earlyNorthdf['normY']) , np.mean(earlyNorthdf['normEnterprises']) , np.mean(earlyNorthdf['normEverythingElse'])]\n",
    "earlySouth_summaries = [np.mean(earlySouthdf['normX']) , np.mean(earlySouthdf['normY']) , np.mean(earlySouthdf['normEnterprises']) , np.mean(earlySouthdf['normEverythingElse'])]\n",
    "lateNorth_summaries = [np.mean(lateNorthdf['normX']) , np.mean(lateNorthdf['normY']) , np.mean(lateNorthdf['normEnterprises']) , np.mean(lateNorthdf['normEverythingElse'])]\n",
    "lateSouth_summaries = [np.mean(lateSouthdf['normX']) , np.mean(lateSouthdf['normY']) , np.mean(lateSouthdf['normEnterprises']) , np.mean(lateSouthdf['normEverythingElse'])]"
   ]
  },
  {
   "cell_type": "code",
   "execution_count": 166,
   "id": "3cb7ec4d-c396-41e2-b015-bb02744a10ed",
   "metadata": {},
   "outputs": [],
   "source": [
    "summaries = pd.DataFrame (earlyNorth_summaries, columns = ['earlyNorth'])\n",
    "summaries['earlySouth'] = earlySouth_summaries\n",
    "summaries['lateNorth'] = lateNorth_summaries\n",
    "summaries['lateSouth'] = lateSouth_summaries\n",
    "\n",
    "summaries.index = (['normX', 'normY' , 'normEnterprises', 'normEverythingElse'])\n",
    "\n",
    "summaries = summaries.transpose()\n",
    "\n",
    "summaries['NorthIndicator'] = [1,0,1,0]\n",
    "# changed northorsouth to eastorwest\n",
    "summaries['NorthorSouth'] = np.where(summaries['NorthIndicator'] >0, 'North', 'South')\n",
    "summaries['EarlyIndicator'] = [1,1,0,0]\n",
    "summaries['EarlyorLate'] = np.where(summaries['EarlyIndicator'] >0, 'Early', 'Late')"
   ]
  },
  {
   "cell_type": "code",
   "execution_count": 167,
   "id": "5addd827-8e7a-40a2-865b-23a372d11353",
   "metadata": {},
   "outputs": [
    {
     "data": {
      "application/vnd.plotly.v1+json": {
       "config": {
        "plotlyServerURL": "https://plot.ly"
       },
       "data": [
        {
         "customdata": [
          [
           "North",
           "Early"
          ],
          [
           "North",
           "Late"
          ]
         ],
         "hovertemplate": "NorthorSouth=%{customdata[0]}<br>normX=%{x}<br>normY=%{y}<br>EarlyorLate=%{customdata[1]}<extra></extra>",
         "legendgroup": "North",
         "line": {
          "color": "#636efa",
          "dash": "solid"
         },
         "marker": {
          "symbol": "circle"
         },
         "mode": "lines+text+markers",
         "name": "North",
         "orientation": "v",
         "showlegend": true,
         "text": [
          "Early",
          "Late"
         ],
         "textposition": [
          "top center",
          "bottom center"
         ],
         "type": "scatter",
         "x": [
          426623.1475917844,
          418312.0972370474
         ],
         "xaxis": "x",
         "y": [
          354096.6471476502,
          353021.62915519305
         ],
         "yaxis": "y"
        },
        {
         "customdata": [
          [
           "South",
           "Early"
          ],
          [
           "South",
           "Late"
          ]
         ],
         "hovertemplate": "NorthorSouth=%{customdata[0]}<br>normX=%{x}<br>normY=%{y}<br>EarlyorLate=%{customdata[1]}<extra></extra>",
         "legendgroup": "South",
         "line": {
          "color": "#EF553B",
          "dash": "solid"
         },
         "marker": {
          "symbol": "circle"
         },
         "mode": "lines+text+markers",
         "name": "South",
         "orientation": "v",
         "showlegend": true,
         "text": [
          "Early",
          "Late"
         ],
         "textposition": [
          "top center",
          "bottom center"
         ],
         "type": "scatter",
         "x": [
          456581.4556136876,
          443739.67821620783
         ],
         "xaxis": "x",
         "y": [
          261566.3756128077,
          235825.3484809832
         ],
         "yaxis": "y"
        }
       ],
       "layout": {
        "height": 400,
        "legend": {
         "title": {
          "text": "NorthorSouth"
         },
         "tracegroupgap": 0
        },
        "margin": {
         "t": 60
        },
        "template": {
         "data": {
          "bar": [
           {
            "error_x": {
             "color": "#2a3f5f"
            },
            "error_y": {
             "color": "#2a3f5f"
            },
            "marker": {
             "line": {
              "color": "#E5ECF6",
              "width": 0.5
             },
             "pattern": {
              "fillmode": "overlay",
              "size": 10,
              "solidity": 0.2
             }
            },
            "type": "bar"
           }
          ],
          "barpolar": [
           {
            "marker": {
             "line": {
              "color": "#E5ECF6",
              "width": 0.5
             },
             "pattern": {
              "fillmode": "overlay",
              "size": 10,
              "solidity": 0.2
             }
            },
            "type": "barpolar"
           }
          ],
          "carpet": [
           {
            "aaxis": {
             "endlinecolor": "#2a3f5f",
             "gridcolor": "white",
             "linecolor": "white",
             "minorgridcolor": "white",
             "startlinecolor": "#2a3f5f"
            },
            "baxis": {
             "endlinecolor": "#2a3f5f",
             "gridcolor": "white",
             "linecolor": "white",
             "minorgridcolor": "white",
             "startlinecolor": "#2a3f5f"
            },
            "type": "carpet"
           }
          ],
          "choropleth": [
           {
            "colorbar": {
             "outlinewidth": 0,
             "ticks": ""
            },
            "type": "choropleth"
           }
          ],
          "contour": [
           {
            "colorbar": {
             "outlinewidth": 0,
             "ticks": ""
            },
            "colorscale": [
             [
              0,
              "#0d0887"
             ],
             [
              0.1111111111111111,
              "#46039f"
             ],
             [
              0.2222222222222222,
              "#7201a8"
             ],
             [
              0.3333333333333333,
              "#9c179e"
             ],
             [
              0.4444444444444444,
              "#bd3786"
             ],
             [
              0.5555555555555556,
              "#d8576b"
             ],
             [
              0.6666666666666666,
              "#ed7953"
             ],
             [
              0.7777777777777778,
              "#fb9f3a"
             ],
             [
              0.8888888888888888,
              "#fdca26"
             ],
             [
              1,
              "#f0f921"
             ]
            ],
            "type": "contour"
           }
          ],
          "contourcarpet": [
           {
            "colorbar": {
             "outlinewidth": 0,
             "ticks": ""
            },
            "type": "contourcarpet"
           }
          ],
          "heatmap": [
           {
            "colorbar": {
             "outlinewidth": 0,
             "ticks": ""
            },
            "colorscale": [
             [
              0,
              "#0d0887"
             ],
             [
              0.1111111111111111,
              "#46039f"
             ],
             [
              0.2222222222222222,
              "#7201a8"
             ],
             [
              0.3333333333333333,
              "#9c179e"
             ],
             [
              0.4444444444444444,
              "#bd3786"
             ],
             [
              0.5555555555555556,
              "#d8576b"
             ],
             [
              0.6666666666666666,
              "#ed7953"
             ],
             [
              0.7777777777777778,
              "#fb9f3a"
             ],
             [
              0.8888888888888888,
              "#fdca26"
             ],
             [
              1,
              "#f0f921"
             ]
            ],
            "type": "heatmap"
           }
          ],
          "heatmapgl": [
           {
            "colorbar": {
             "outlinewidth": 0,
             "ticks": ""
            },
            "colorscale": [
             [
              0,
              "#0d0887"
             ],
             [
              0.1111111111111111,
              "#46039f"
             ],
             [
              0.2222222222222222,
              "#7201a8"
             ],
             [
              0.3333333333333333,
              "#9c179e"
             ],
             [
              0.4444444444444444,
              "#bd3786"
             ],
             [
              0.5555555555555556,
              "#d8576b"
             ],
             [
              0.6666666666666666,
              "#ed7953"
             ],
             [
              0.7777777777777778,
              "#fb9f3a"
             ],
             [
              0.8888888888888888,
              "#fdca26"
             ],
             [
              1,
              "#f0f921"
             ]
            ],
            "type": "heatmapgl"
           }
          ],
          "histogram": [
           {
            "marker": {
             "pattern": {
              "fillmode": "overlay",
              "size": 10,
              "solidity": 0.2
             }
            },
            "type": "histogram"
           }
          ],
          "histogram2d": [
           {
            "colorbar": {
             "outlinewidth": 0,
             "ticks": ""
            },
            "colorscale": [
             [
              0,
              "#0d0887"
             ],
             [
              0.1111111111111111,
              "#46039f"
             ],
             [
              0.2222222222222222,
              "#7201a8"
             ],
             [
              0.3333333333333333,
              "#9c179e"
             ],
             [
              0.4444444444444444,
              "#bd3786"
             ],
             [
              0.5555555555555556,
              "#d8576b"
             ],
             [
              0.6666666666666666,
              "#ed7953"
             ],
             [
              0.7777777777777778,
              "#fb9f3a"
             ],
             [
              0.8888888888888888,
              "#fdca26"
             ],
             [
              1,
              "#f0f921"
             ]
            ],
            "type": "histogram2d"
           }
          ],
          "histogram2dcontour": [
           {
            "colorbar": {
             "outlinewidth": 0,
             "ticks": ""
            },
            "colorscale": [
             [
              0,
              "#0d0887"
             ],
             [
              0.1111111111111111,
              "#46039f"
             ],
             [
              0.2222222222222222,
              "#7201a8"
             ],
             [
              0.3333333333333333,
              "#9c179e"
             ],
             [
              0.4444444444444444,
              "#bd3786"
             ],
             [
              0.5555555555555556,
              "#d8576b"
             ],
             [
              0.6666666666666666,
              "#ed7953"
             ],
             [
              0.7777777777777778,
              "#fb9f3a"
             ],
             [
              0.8888888888888888,
              "#fdca26"
             ],
             [
              1,
              "#f0f921"
             ]
            ],
            "type": "histogram2dcontour"
           }
          ],
          "mesh3d": [
           {
            "colorbar": {
             "outlinewidth": 0,
             "ticks": ""
            },
            "type": "mesh3d"
           }
          ],
          "parcoords": [
           {
            "line": {
             "colorbar": {
              "outlinewidth": 0,
              "ticks": ""
             }
            },
            "type": "parcoords"
           }
          ],
          "pie": [
           {
            "automargin": true,
            "type": "pie"
           }
          ],
          "scatter": [
           {
            "fillpattern": {
             "fillmode": "overlay",
             "size": 10,
             "solidity": 0.2
            },
            "type": "scatter"
           }
          ],
          "scatter3d": [
           {
            "line": {
             "colorbar": {
              "outlinewidth": 0,
              "ticks": ""
             }
            },
            "marker": {
             "colorbar": {
              "outlinewidth": 0,
              "ticks": ""
             }
            },
            "type": "scatter3d"
           }
          ],
          "scattercarpet": [
           {
            "marker": {
             "colorbar": {
              "outlinewidth": 0,
              "ticks": ""
             }
            },
            "type": "scattercarpet"
           }
          ],
          "scattergeo": [
           {
            "marker": {
             "colorbar": {
              "outlinewidth": 0,
              "ticks": ""
             }
            },
            "type": "scattergeo"
           }
          ],
          "scattergl": [
           {
            "marker": {
             "colorbar": {
              "outlinewidth": 0,
              "ticks": ""
             }
            },
            "type": "scattergl"
           }
          ],
          "scattermapbox": [
           {
            "marker": {
             "colorbar": {
              "outlinewidth": 0,
              "ticks": ""
             }
            },
            "type": "scattermapbox"
           }
          ],
          "scatterpolar": [
           {
            "marker": {
             "colorbar": {
              "outlinewidth": 0,
              "ticks": ""
             }
            },
            "type": "scatterpolar"
           }
          ],
          "scatterpolargl": [
           {
            "marker": {
             "colorbar": {
              "outlinewidth": 0,
              "ticks": ""
             }
            },
            "type": "scatterpolargl"
           }
          ],
          "scatterternary": [
           {
            "marker": {
             "colorbar": {
              "outlinewidth": 0,
              "ticks": ""
             }
            },
            "type": "scatterternary"
           }
          ],
          "surface": [
           {
            "colorbar": {
             "outlinewidth": 0,
             "ticks": ""
            },
            "colorscale": [
             [
              0,
              "#0d0887"
             ],
             [
              0.1111111111111111,
              "#46039f"
             ],
             [
              0.2222222222222222,
              "#7201a8"
             ],
             [
              0.3333333333333333,
              "#9c179e"
             ],
             [
              0.4444444444444444,
              "#bd3786"
             ],
             [
              0.5555555555555556,
              "#d8576b"
             ],
             [
              0.6666666666666666,
              "#ed7953"
             ],
             [
              0.7777777777777778,
              "#fb9f3a"
             ],
             [
              0.8888888888888888,
              "#fdca26"
             ],
             [
              1,
              "#f0f921"
             ]
            ],
            "type": "surface"
           }
          ],
          "table": [
           {
            "cells": {
             "fill": {
              "color": "#EBF0F8"
             },
             "line": {
              "color": "white"
             }
            },
            "header": {
             "fill": {
              "color": "#C8D4E3"
             },
             "line": {
              "color": "white"
             }
            },
            "type": "table"
           }
          ]
         },
         "layout": {
          "annotationdefaults": {
           "arrowcolor": "#2a3f5f",
           "arrowhead": 0,
           "arrowwidth": 1
          },
          "autotypenumbers": "strict",
          "coloraxis": {
           "colorbar": {
            "outlinewidth": 0,
            "ticks": ""
           }
          },
          "colorscale": {
           "diverging": [
            [
             0,
             "#8e0152"
            ],
            [
             0.1,
             "#c51b7d"
            ],
            [
             0.2,
             "#de77ae"
            ],
            [
             0.3,
             "#f1b6da"
            ],
            [
             0.4,
             "#fde0ef"
            ],
            [
             0.5,
             "#f7f7f7"
            ],
            [
             0.6,
             "#e6f5d0"
            ],
            [
             0.7,
             "#b8e186"
            ],
            [
             0.8,
             "#7fbc41"
            ],
            [
             0.9,
             "#4d9221"
            ],
            [
             1,
             "#276419"
            ]
           ],
           "sequential": [
            [
             0,
             "#0d0887"
            ],
            [
             0.1111111111111111,
             "#46039f"
            ],
            [
             0.2222222222222222,
             "#7201a8"
            ],
            [
             0.3333333333333333,
             "#9c179e"
            ],
            [
             0.4444444444444444,
             "#bd3786"
            ],
            [
             0.5555555555555556,
             "#d8576b"
            ],
            [
             0.6666666666666666,
             "#ed7953"
            ],
            [
             0.7777777777777778,
             "#fb9f3a"
            ],
            [
             0.8888888888888888,
             "#fdca26"
            ],
            [
             1,
             "#f0f921"
            ]
           ],
           "sequentialminus": [
            [
             0,
             "#0d0887"
            ],
            [
             0.1111111111111111,
             "#46039f"
            ],
            [
             0.2222222222222222,
             "#7201a8"
            ],
            [
             0.3333333333333333,
             "#9c179e"
            ],
            [
             0.4444444444444444,
             "#bd3786"
            ],
            [
             0.5555555555555556,
             "#d8576b"
            ],
            [
             0.6666666666666666,
             "#ed7953"
            ],
            [
             0.7777777777777778,
             "#fb9f3a"
            ],
            [
             0.8888888888888888,
             "#fdca26"
            ],
            [
             1,
             "#f0f921"
            ]
           ]
          },
          "colorway": [
           "#636efa",
           "#EF553B",
           "#00cc96",
           "#ab63fa",
           "#FFA15A",
           "#19d3f3",
           "#FF6692",
           "#B6E880",
           "#FF97FF",
           "#FECB52"
          ],
          "font": {
           "color": "#2a3f5f"
          },
          "geo": {
           "bgcolor": "white",
           "lakecolor": "white",
           "landcolor": "#E5ECF6",
           "showlakes": true,
           "showland": true,
           "subunitcolor": "white"
          },
          "hoverlabel": {
           "align": "left"
          },
          "hovermode": "closest",
          "mapbox": {
           "style": "light"
          },
          "paper_bgcolor": "white",
          "plot_bgcolor": "#E5ECF6",
          "polar": {
           "angularaxis": {
            "gridcolor": "white",
            "linecolor": "white",
            "ticks": ""
           },
           "bgcolor": "#E5ECF6",
           "radialaxis": {
            "gridcolor": "white",
            "linecolor": "white",
            "ticks": ""
           }
          },
          "scene": {
           "xaxis": {
            "backgroundcolor": "#E5ECF6",
            "gridcolor": "white",
            "gridwidth": 2,
            "linecolor": "white",
            "showbackground": true,
            "ticks": "",
            "zerolinecolor": "white"
           },
           "yaxis": {
            "backgroundcolor": "#E5ECF6",
            "gridcolor": "white",
            "gridwidth": 2,
            "linecolor": "white",
            "showbackground": true,
            "ticks": "",
            "zerolinecolor": "white"
           },
           "zaxis": {
            "backgroundcolor": "#E5ECF6",
            "gridcolor": "white",
            "gridwidth": 2,
            "linecolor": "white",
            "showbackground": true,
            "ticks": "",
            "zerolinecolor": "white"
           }
          },
          "shapedefaults": {
           "line": {
            "color": "#2a3f5f"
           }
          },
          "ternary": {
           "aaxis": {
            "gridcolor": "white",
            "linecolor": "white",
            "ticks": ""
           },
           "baxis": {
            "gridcolor": "white",
            "linecolor": "white",
            "ticks": ""
           },
           "bgcolor": "#E5ECF6",
           "caxis": {
            "gridcolor": "white",
            "linecolor": "white",
            "ticks": ""
           }
          },
          "title": {
           "x": 0.05
          },
          "xaxis": {
           "automargin": true,
           "gridcolor": "white",
           "linecolor": "white",
           "ticks": "",
           "title": {
            "standoff": 15
           },
           "zerolinecolor": "white",
           "zerolinewidth": 2
          },
          "yaxis": {
           "automargin": true,
           "gridcolor": "white",
           "linecolor": "white",
           "ticks": "",
           "title": {
            "standoff": 15
           },
           "zerolinecolor": "white",
           "zerolinewidth": 2
          }
         }
        },
        "width": 1000,
        "xaxis": {
         "anchor": "y",
         "autorange": true,
         "domain": [
          0,
          1
         ],
         "range": [
          415961.3730538669,
          458932.17979686806
         ],
         "title": {
          "text": "normX"
         },
         "type": "linear"
        },
        "yaxis": {
         "anchor": "x",
         "autorange": true,
         "domain": [
          0,
          1
         ],
         "range": [
          227079.01623962924,
          362842.9793890042
         ],
         "title": {
          "text": "normY"
         },
         "type": "linear"
        }
       }
      },
      "image/png": "[encoded data removed]",
      "text/html": [
       "<div>                            <div id=\"c4c57ba9-7a70-40a8-8e4c-1632c8228629\" class=\"plotly-graph-div\" style=\"height:400px; width:1000px;\"></div>            <script type=\"text/javascript\">                require([\"plotly\"], function(Plotly) {                    window.PLOTLYENV=window.PLOTLYENV || {};                                    if (document.getElementById(\"c4c57ba9-7a70-40a8-8e4c-1632c8228629\")) {                    Plotly.newPlot(                        \"c4c57ba9-7a70-40a8-8e4c-1632c8228629\",                        [{\"customdata\":[[\"North\",\"Early\"],[\"North\",\"Late\"]],\"hovertemplate\":\"NorthorSouth=%{customdata[0]}<br>normX=%{x}<br>normY=%{y}<br>EarlyorLate=%{customdata[1]}<extra></extra>\",\"legendgroup\":\"North\",\"line\":{\"color\":\"#636efa\",\"dash\":\"solid\"},\"marker\":{\"symbol\":\"circle\"},\"mode\":\"lines+text+markers\",\"name\":\"North\",\"orientation\":\"v\",\"showlegend\":true,\"text\":[\"Early\",\"Late\"],\"x\":[426623.1475917844,418312.0972370474],\"xaxis\":\"x\",\"y\":[354096.6471476502,353021.62915519305],\"yaxis\":\"y\",\"type\":\"scatter\",\"textposition\":[\"top center\",\"bottom center\"]},{\"customdata\":[[\"South\",\"Early\"],[\"South\",\"Late\"]],\"hovertemplate\":\"NorthorSouth=%{customdata[0]}<br>normX=%{x}<br>normY=%{y}<br>EarlyorLate=%{customdata[1]}<extra></extra>\",\"legendgroup\":\"South\",\"line\":{\"color\":\"#EF553B\",\"dash\":\"solid\"},\"marker\":{\"symbol\":\"circle\"},\"mode\":\"lines+text+markers\",\"name\":\"South\",\"orientation\":\"v\",\"showlegend\":true,\"text\":[\"Early\",\"Late\"],\"x\":[456581.4556136876,443739.67821620783],\"xaxis\":\"x\",\"y\":[261566.3756128077,235825.3484809832],\"yaxis\":\"y\",\"type\":\"scatter\",\"textposition\":[\"top center\",\"bottom center\"]}],                        {\"template\":{\"data\":{\"histogram2dcontour\":[{\"type\":\"histogram2dcontour\",\"colorbar\":{\"outlinewidth\":0,\"ticks\":\"\"},\"colorscale\":[[0.0,\"#0d0887\"],[0.1111111111111111,\"#46039f\"],[0.2222222222222222,\"#7201a8\"],[0.3333333333333333,\"#9c179e\"],[0.4444444444444444,\"#bd3786\"],[0.5555555555555556,\"#d8576b\"],[0.6666666666666666,\"#ed7953\"],[0.7777777777777778,\"#fb9f3a\"],[0.8888888888888888,\"#fdca26\"],[1.0,\"#f0f921\"]]}],\"choropleth\":[{\"type\":\"choropleth\",\"colorbar\":{\"outlinewidth\":0,\"ticks\":\"\"}}],\"histogram2d\":[{\"type\":\"histogram2d\",\"colorbar\":{\"outlinewidth\":0,\"ticks\":\"\"},\"colorscale\":[[0.0,\"#0d0887\"],[0.1111111111111111,\"#46039f\"],[0.2222222222222222,\"#7201a8\"],[0.3333333333333333,\"#9c179e\"],[0.4444444444444444,\"#bd3786\"],[0.5555555555555556,\"#d8576b\"],[0.6666666666666666,\"#ed7953\"],[0.7777777777777778,\"#fb9f3a\"],[0.8888888888888888,\"#fdca26\"],[1.0,\"#f0f921\"]]}],\"heatmap\":[{\"type\":\"heatmap\",\"colorbar\":{\"outlinewidth\":0,\"ticks\":\"\"},\"colorscale\":[[0.0,\"#0d0887\"],[0.1111111111111111,\"#46039f\"],[0.2222222222222222,\"#7201a8\"],[0.3333333333333333,\"#9c179e\"],[0.4444444444444444,\"#bd3786\"],[0.5555555555555556,\"#d8576b\"],[0.6666666666666666,\"#ed7953\"],[0.7777777777777778,\"#fb9f3a\"],[0.8888888888888888,\"#fdca26\"],[1.0,\"#f0f921\"]]}],\"heatmapgl\":[{\"type\":\"heatmapgl\",\"colorbar\":{\"outlinewidth\":0,\"ticks\":\"\"},\"colorscale\":[[0.0,\"#0d0887\"],[0.1111111111111111,\"#46039f\"],[0.2222222222222222,\"#7201a8\"],[0.3333333333333333,\"#9c179e\"],[0.4444444444444444,\"#bd3786\"],[0.5555555555555556,\"#d8576b\"],[0.6666666666666666,\"#ed7953\"],[0.7777777777777778,\"#fb9f3a\"],[0.8888888888888888,\"#fdca26\"],[1.0,\"#f0f921\"]]}],\"contourcarpet\":[{\"type\":\"contourcarpet\",\"colorbar\":{\"outlinewidth\":0,\"ticks\":\"\"}}],\"contour\":[{\"type\":\"contour\",\"colorbar\":{\"outlinewidth\":0,\"ticks\":\"\"},\"colorscale\":[[0.0,\"#0d0887\"],[0.1111111111111111,\"#46039f\"],[0.2222222222222222,\"#7201a8\"],[0.3333333333333333,\"#9c179e\"],[0.4444444444444444,\"#bd3786\"],[0.5555555555555556,\"#d8576b\"],[0.6666666666666666,\"#ed7953\"],[0.7777777777777778,\"#fb9f3a\"],[0.8888888888888888,\"#fdca26\"],[1.0,\"#f0f921\"]]}],\"surface\":[{\"type\":\"surface\",\"colorbar\":{\"outlinewidth\":0,\"ticks\":\"\"},\"colorscale\":[[0.0,\"#0d0887\"],[0.1111111111111111,\"#46039f\"],[0.2222222222222222,\"#7201a8\"],[0.3333333333333333,\"#9c179e\"],[0.4444444444444444,\"#bd3786\"],[0.5555555555555556,\"#d8576b\"],[0.6666666666666666,\"#ed7953\"],[0.7777777777777778,\"#fb9f3a\"],[0.8888888888888888,\"#fdca26\"],[1.0,\"#f0f921\"]]}],\"mesh3d\":[{\"type\":\"mesh3d\",\"colorbar\":{\"outlinewidth\":0,\"ticks\":\"\"}}],\"scatter\":[{\"fillpattern\":{\"fillmode\":\"overlay\",\"size\":10,\"solidity\":0.2},\"type\":\"scatter\"}],\"parcoords\":[{\"type\":\"parcoords\",\"line\":{\"colorbar\":{\"outlinewidth\":0,\"ticks\":\"\"}}}],\"scatterpolargl\":[{\"type\":\"scatterpolargl\",\"marker\":{\"colorbar\":{\"outlinewidth\":0,\"ticks\":\"\"}}}],\"bar\":[{\"error_x\":{\"color\":\"#2a3f5f\"},\"error_y\":{\"color\":\"#2a3f5f\"},\"marker\":{\"line\":{\"color\":\"#E5ECF6\",\"width\":0.5},\"pattern\":{\"fillmode\":\"overlay\",\"size\":10,\"solidity\":0.2}},\"type\":\"bar\"}],\"scattergeo\":[{\"type\":\"scattergeo\",\"marker\":{\"colorbar\":{\"outlinewidth\":0,\"ticks\":\"\"}}}],\"scatterpolar\":[{\"type\":\"scatterpolar\",\"marker\":{\"colorbar\":{\"outlinewidth\":0,\"ticks\":\"\"}}}],\"histogram\":[{\"marker\":{\"pattern\":{\"fillmode\":\"overlay\",\"size\":10,\"solidity\":0.2}},\"type\":\"histogram\"}],\"scattergl\":[{\"type\":\"scattergl\",\"marker\":{\"colorbar\":{\"outlinewidth\":0,\"ticks\":\"\"}}}],\"scatter3d\":[{\"type\":\"scatter3d\",\"line\":{\"colorbar\":{\"outlinewidth\":0,\"ticks\":\"\"}},\"marker\":{\"colorbar\":{\"outlinewidth\":0,\"ticks\":\"\"}}}],\"scattermapbox\":[{\"type\":\"scattermapbox\",\"marker\":{\"colorbar\":{\"outlinewidth\":0,\"ticks\":\"\"}}}],\"scatterternary\":[{\"type\":\"scatterternary\",\"marker\":{\"colorbar\":{\"outlinewidth\":0,\"ticks\":\"\"}}}],\"scattercarpet\":[{\"type\":\"scattercarpet\",\"marker\":{\"colorbar\":{\"outlinewidth\":0,\"ticks\":\"\"}}}],\"carpet\":[{\"aaxis\":{\"endlinecolor\":\"#2a3f5f\",\"gridcolor\":\"white\",\"linecolor\":\"white\",\"minorgridcolor\":\"white\",\"startlinecolor\":\"#2a3f5f\"},\"baxis\":{\"endlinecolor\":\"#2a3f5f\",\"gridcolor\":\"white\",\"linecolor\":\"white\",\"minorgridcolor\":\"white\",\"startlinecolor\":\"#2a3f5f\"},\"type\":\"carpet\"}],\"table\":[{\"cells\":{\"fill\":{\"color\":\"#EBF0F8\"},\"line\":{\"color\":\"white\"}},\"header\":{\"fill\":{\"color\":\"#C8D4E3\"},\"line\":{\"color\":\"white\"}},\"type\":\"table\"}],\"barpolar\":[{\"marker\":{\"line\":{\"color\":\"#E5ECF6\",\"width\":0.5},\"pattern\":{\"fillmode\":\"overlay\",\"size\":10,\"solidity\":0.2}},\"type\":\"barpolar\"}],\"pie\":[{\"automargin\":true,\"type\":\"pie\"}]},\"layout\":{\"autotypenumbers\":\"strict\",\"colorway\":[\"#636efa\",\"#EF553B\",\"#00cc96\",\"#ab63fa\",\"#FFA15A\",\"#19d3f3\",\"#FF6692\",\"#B6E880\",\"#FF97FF\",\"#FECB52\"],\"font\":{\"color\":\"#2a3f5f\"},\"hovermode\":\"closest\",\"hoverlabel\":{\"align\":\"left\"},\"paper_bgcolor\":\"white\",\"plot_bgcolor\":\"#E5ECF6\",\"polar\":{\"bgcolor\":\"#E5ECF6\",\"angularaxis\":{\"gridcolor\":\"white\",\"linecolor\":\"white\",\"ticks\":\"\"},\"radialaxis\":{\"gridcolor\":\"white\",\"linecolor\":\"white\",\"ticks\":\"\"}},\"ternary\":{\"bgcolor\":\"#E5ECF6\",\"aaxis\":{\"gridcolor\":\"white\",\"linecolor\":\"white\",\"ticks\":\"\"},\"baxis\":{\"gridcolor\":\"white\",\"linecolor\":\"white\",\"ticks\":\"\"},\"caxis\":{\"gridcolor\":\"white\",\"linecolor\":\"white\",\"ticks\":\"\"}},\"coloraxis\":{\"colorbar\":{\"outlinewidth\":0,\"ticks\":\"\"}},\"colorscale\":{\"sequential\":[[0.0,\"#0d0887\"],[0.1111111111111111,\"#46039f\"],[0.2222222222222222,\"#7201a8\"],[0.3333333333333333,\"#9c179e\"],[0.4444444444444444,\"#bd3786\"],[0.5555555555555556,\"#d8576b\"],[0.6666666666666666,\"#ed7953\"],[0.7777777777777778,\"#fb9f3a\"],[0.8888888888888888,\"#fdca26\"],[1.0,\"#f0f921\"]],\"sequentialminus\":[[0.0,\"#0d0887\"],[0.1111111111111111,\"#46039f\"],[0.2222222222222222,\"#7201a8\"],[0.3333333333333333,\"#9c179e\"],[0.4444444444444444,\"#bd3786\"],[0.5555555555555556,\"#d8576b\"],[0.6666666666666666,\"#ed7953\"],[0.7777777777777778,\"#fb9f3a\"],[0.8888888888888888,\"#fdca26\"],[1.0,\"#f0f921\"]],\"diverging\":[[0,\"#8e0152\"],[0.1,\"#c51b7d\"],[0.2,\"#de77ae\"],[0.3,\"#f1b6da\"],[0.4,\"#fde0ef\"],[0.5,\"#f7f7f7\"],[0.6,\"#e6f5d0\"],[0.7,\"#b8e186\"],[0.8,\"#7fbc41\"],[0.9,\"#4d9221\"],[1,\"#276419\"]]},\"xaxis\":{\"gridcolor\":\"white\",\"linecolor\":\"white\",\"ticks\":\"\",\"title\":{\"standoff\":15},\"zerolinecolor\":\"white\",\"automargin\":true,\"zerolinewidth\":2},\"yaxis\":{\"gridcolor\":\"white\",\"linecolor\":\"white\",\"ticks\":\"\",\"title\":{\"standoff\":15},\"zerolinecolor\":\"white\",\"automargin\":true,\"zerolinewidth\":2},\"scene\":{\"xaxis\":{\"backgroundcolor\":\"#E5ECF6\",\"gridcolor\":\"white\",\"linecolor\":\"white\",\"showbackground\":true,\"ticks\":\"\",\"zerolinecolor\":\"white\",\"gridwidth\":2},\"yaxis\":{\"backgroundcolor\":\"#E5ECF6\",\"gridcolor\":\"white\",\"linecolor\":\"white\",\"showbackground\":true,\"ticks\":\"\",\"zerolinecolor\":\"white\",\"gridwidth\":2},\"zaxis\":{\"backgroundcolor\":\"#E5ECF6\",\"gridcolor\":\"white\",\"linecolor\":\"white\",\"showbackground\":true,\"ticks\":\"\",\"zerolinecolor\":\"white\",\"gridwidth\":2}},\"shapedefaults\":{\"line\":{\"color\":\"#2a3f5f\"}},\"annotationdefaults\":{\"arrowcolor\":\"#2a3f5f\",\"arrowhead\":0,\"arrowwidth\":1},\"geo\":{\"bgcolor\":\"white\",\"landcolor\":\"#E5ECF6\",\"subunitcolor\":\"white\",\"showland\":true,\"showlakes\":true,\"lakecolor\":\"white\"},\"title\":{\"x\":0.05},\"mapbox\":{\"style\":\"light\"}}},\"xaxis\":{\"anchor\":\"y\",\"domain\":[0.0,1.0],\"title\":{\"text\":\"normX\"}},\"yaxis\":{\"anchor\":\"x\",\"domain\":[0.0,1.0],\"title\":{\"text\":\"normY\"}},\"legend\":{\"title\":{\"text\":\"NorthorSouth\"},\"tracegroupgap\":0},\"margin\":{\"t\":60},\"height\":400,\"width\":1000},                        {\"responsive\": true}                    ).then(function(){\n",
       "                            \n",
       "var gd = document.getElementById('c4c57ba9-7a70-40a8-8e4c-1632c8228629');\n",
       "var x = new MutationObserver(function (mutations, observer) {{\n",
       "        var display = window.getComputedStyle(gd).display;\n",
       "        if (!display || display === 'none') {{\n",
       "            console.log([gd, 'removed!']);\n",
       "            Plotly.purge(gd);\n",
       "            observer.disconnect();\n",
       "        }}\n",
       "}});\n",
       "\n",
       "// Listen for the removal of the full notebook cells\n",
       "var notebookContainer = gd.closest('#notebook-container');\n",
       "if (notebookContainer) {{\n",
       "    x.observe(notebookContainer, {childList: true});\n",
       "}}\n",
       "\n",
       "// Listen for the clearing of the current output cell\n",
       "var outputEl = gd.closest('.output');\n",
       "if (outputEl) {{\n",
       "    x.observe(outputEl, {childList: true});\n",
       "}}\n",
       "\n",
       "                        })                };                });            </script>        </div>"
      ]
     },
     "metadata": {},
     "output_type": "display_data"
    }
   ],
   "source": [
    "import plotly.express as px\n",
    "\n",
    "fig = px.line(summaries, x='normX', y='normY', color='NorthorSouth',\n",
    "              text='EarlyorLate', hover_data=['NorthorSouth', 'EarlyorLate'],\n",
    "              width=1000, height=400)\n",
    "\n",
    "fig.update_traces(textposition=['top center', 'bottom center'])\n",
    "\n",
    "fig.show()"
   ]
  },
  {
   "cell_type": "code",
   "execution_count": 168,
   "id": "1eee8aed-aa0a-4ee3-8f35-c480418cf3c0",
   "metadata": {},
   "outputs": [
    {
     "data": {
      "image/png": "[encoded data removed]",
      "text/plain": [
       "<Figure size 720x288 with 1 Axes>"
      ]
     },
     "metadata": {
      "needs_background": "light"
     },
     "output_type": "display_data"
    }
   ],
   "source": [
    "p1 = patches.FancyArrowPatch((summaries['normX'][0], summaries['normY'][0]), (summaries['normX'][2], summaries['normY'][2]), \n",
    "                             arrowstyle='-|>', mutation_scale=15, ec=\"purple\", fc=\"purple\", lw=2, label=\"North\")\n",
    "p2 = patches.FancyArrowPatch((summaries['normX'][1], summaries['normY'][1]), (summaries['normX'][3], summaries['normY'][3]), \n",
    "                             arrowstyle='-|>', mutation_scale=15, ec=\"darkorange\", fc=\"darkorange\", lw=2, label=\"South\")\n",
    "\n",
    "p3 = patches.Ellipse((summaries['normX'][0], summaries['normY'][0]), height=2000, width=300, ec=\"black\", fc=\"black\")\n",
    "p4 = patches.Ellipse((summaries['normX'][1], summaries['normY'][1]), height=2000, width=300, ec=\"black\", fc=\"black\")\n",
    "p5= patches.Ellipse((summaries['normX'][2], summaries['normY'][2]), height=2000, width=300, ec=\"black\", fc=\"black\")\n",
    "p6 = patches.Ellipse((summaries['normX'][3], summaries['normY'][3]), height=2000, width=300, ec=\"black\", fc=\"black\")\n",
    "\n",
    "fig, ax = plt.subplots(figsize=(10,4))\n",
    "ax.add_patch(p1)\n",
    "ax.add_patch(p2)\n",
    "ax.add_patch(p3)\n",
    "ax.add_patch(p4)\n",
    "ax.add_patch(p5)\n",
    "ax.add_patch(p6)\n",
    "\n",
    "# adjust the x and y limits of the plot\n",
    "eps = 10000\n",
    "ax.set_xlim(min(summaries['normX'])-eps, max(summaries['normX'])+eps)\n",
    "ax.set_ylim(min(summaries['normY'])-eps, max(summaries['normY'])+eps)\n",
    "\n",
    "#south\n",
    "plt.annotate(text=\"Early\", xy = (summaries['normX'][1]+0.05*eps, summaries['normY'][1]+0.1*eps))\n",
    "plt.annotate(text=\"Late\", xy = (summaries['normX'][3]-0.3*eps, summaries['normY'][3]-0.2*eps))\n",
    "#north\n",
    "plt.annotate(text=\"Early\", xy = (summaries['normX'][0]+0.08*eps, summaries['normY'][0]-0.15*eps))\n",
    "plt.annotate(text=\"Late\", xy = (summaries['normX'][2]-0.3*eps, summaries['normY'][2]-0.15*eps))\n",
    "\n",
    "\n",
    "#ax.set_facecolor('xkcd:pale blue')\n",
    "\n",
    "plt.xlabel(\"Longitude (Easting)\")\n",
    "plt.ylabel(\"Latitude (Northing)\")\n",
    "plt.title(\"Averaged Embedding Procrusted into Longitude and Latitude (x and y)\", fontsize=15)\n",
    "\n",
    "plt.legend(loc=4)\n",
    "ax.set_axisbelow(True)\n",
    "ax.grid(color=\"lightgrey\")\n",
    "\n",
    "plt.savefig(\"NS_earlyLate_lat_long_GB_ConcWins_rectangle_arrows.pdf\")\n",
    "\n",
    "plt.show()"
   ]
  },
  {
   "cell_type": "code",
   "execution_count": null,
   "id": "114ee571-3e35-4959-ad57-d66462affe0e",
   "metadata": {},
   "outputs": [],
   "source": []
  },
  {
   "cell_type": "code",
   "execution_count": null,
   "id": "691510f2-802a-4663-b620-89f512f3bb1b",
   "metadata": {},
   "outputs": [],
   "source": []
  },
  {
   "cell_type": "markdown",
   "id": "56563dc7-1ac7-401a-87ae-997a8ee8e641",
   "metadata": {},
   "source": [
    "## non-normalised, testing the Urban/rural divide"
   ]
  },
  {
   "cell_type": "code",
   "execution_count": 211,
   "id": "5d452e7a-3c06-4e60-a60a-74ba0403a55c",
   "metadata": {},
   "outputs": [],
   "source": [
    "df = early.append(late)"
   ]
  },
  {
   "cell_type": "code",
   "execution_count": 212,
   "id": "a578dad9-9954-49c4-8b34-cf30166ebcbc",
   "metadata": {},
   "outputs": [],
   "source": [
    "RUC = pd.read_csv(\"RUC_LAD_2011_EN_LU.csv\")"
   ]
  },
  {
   "cell_type": "code",
   "execution_count": 213,
   "id": "5e5e8360-7664-467b-954f-71834480cc43",
   "metadata": {},
   "outputs": [],
   "source": [
    "RUC = RUC[['LAD11CD', 'LAD18NM', 'RUC11CD']]"
   ]
  },
  {
   "cell_type": "code",
   "execution_count": 214,
   "id": "f394745b-a5f3-461b-b3c1-66f3c055d747",
   "metadata": {},
   "outputs": [],
   "source": [
    "df = df.merge(RUC, left_on=\"LAD\", right_on=\"LAD18NM\", how=\"left\")"
   ]
  },
  {
   "cell_type": "markdown",
   "id": "5be640d4-fb06-4d2d-b7db-826fddbee1a9",
   "metadata": {},
   "source": [
    "Change the NorthIndicator, so now this represents Urban (urban= north)"
   ]
  },
  {
   "cell_type": "code",
   "execution_count": 215,
   "id": "33d3b06e-168c-46c7-8611-3d27ba8c3798",
   "metadata": {},
   "outputs": [],
   "source": [
    "scot = pd.read_csv(\"Scotland_2016_LAD_population8fold_UR_classifications.csv\")"
   ]
  },
  {
   "cell_type": "code",
   "execution_count": 216,
   "id": "c8390019-b789-4dec-b356-7b63e9e008ea",
   "metadata": {},
   "outputs": [],
   "source": [
    "scot[\"sum1_2\"] = scot['Large Urban Areas'] + scot['Other Urban Areas']\n",
    "# I define \"urban\" as the top 2 out of 8 urban classifiers"
   ]
  },
  {
   "cell_type": "code",
   "execution_count": 217,
   "id": "ba808d69-316f-45b4-ae62-e520dc6b11a4",
   "metadata": {},
   "outputs": [],
   "source": [
    "scot2 = scot[[\"Local Authority\", \"sum1_2\"]]"
   ]
  },
  {
   "cell_type": "code",
   "execution_count": 218,
   "id": "d15da99a-a2ed-4091-bf5f-a7a66f6cd1d5",
   "metadata": {},
   "outputs": [],
   "source": [
    "df = df.merge(scot2, left_on=\"LAD\", right_on=\"Local Authority\", how=\"left\")"
   ]
  },
  {
   "cell_type": "code",
   "execution_count": 219,
   "id": "fff16a3f-8eab-4bdb-8cab-157ab7afae0c",
   "metadata": {},
   "outputs": [],
   "source": [
    "df = df.drop(columns={'LAD11CD_x', 'Local Authority', 'LAD11CD_y'})"
   ]
  },
  {
   "cell_type": "code",
   "execution_count": 220,
   "id": "1a62556b-5576-4773-a249-4efdf5a2778e",
   "metadata": {},
   "outputs": [],
   "source": [
    "df[\"NorthIndicator\"] = np.where( (df['RUC11CD'] > 4) | (df['sum1_2'] >= 90.0) | (df['LAD']==\"Swansea\") | (df['LAD']==\"Cardiff\") |(df['LAD']==\"Newport\") , 1 ,0) \n",
    "# has to have all conditions, for Scotland, "
   ]
  },
  {
   "cell_type": "code",
   "execution_count": 221,
   "id": "3151f893-4e51-4530-aa41-098c5967c0c1",
   "metadata": {},
   "outputs": [
    {
     "name": "stdout",
     "output_type": "stream",
     "text": [
      "[92, 288]\n"
     ]
    }
   ],
   "source": [
    "# how many LADs are in the north = urban\n",
    "n = df[(df[\"EarlyIndicator\"]==1) & (df[\"NorthIndicator\"]==1)].shape[0]\n",
    "# how many LADs are in the rural\n",
    "s = df[(df[\"EarlyIndicator\"]==1) & (df[\"NorthIndicator\"]==0)].shape[0]\n",
    "\n",
    "print([n,s])"
   ]
  },
  {
   "cell_type": "code",
   "execution_count": 222,
   "id": "32a57442-d381-4988-8a3c-e3c565b1567e",
   "metadata": {},
   "outputs": [],
   "source": [
    "mean_diff_early = []\n",
    "mean_diff_late = []"
   ]
  },
  {
   "cell_type": "code",
   "execution_count": 223,
   "id": "39e0d0f0-10f5-4d0d-965f-7392da9a3594",
   "metadata": {},
   "outputs": [],
   "source": [
    "earlyNorthdf = df[ (df[\"EarlyIndicator\"] == 1) & (df[\"NorthIndicator\"] == 1) ]\n",
    "earlySouthdf = df[ (df[\"EarlyIndicator\"] == 1) & (df[\"NorthIndicator\"] == 0) ]\n",
    "lateNorthdf = df[ (df[\"EarlyIndicator\"] == 0) & (df[\"NorthIndicator\"] == 1) ]\n",
    "lateSouthdf = df[ (df[\"EarlyIndicator\"] == 0) & (df[\"NorthIndicator\"] == 0) ]"
   ]
  },
  {
   "cell_type": "code",
   "execution_count": 224,
   "id": "84f09cb2-e07e-417e-897b-812ac0f256e7",
   "metadata": {},
   "outputs": [],
   "source": [
    "# calculate values of mean_diff_early_i for all i, i.e. all PCs, and store them in order in a vector\n",
    "# same for mean_diff_late_i\n",
    "\n",
    "for i in range(0,d):\n",
    "    valEarly = (n) * sum( earlyNorthdf.iloc[: ,i])  -  (s) * sum( earlySouthdf.iloc[: ,i])\n",
    "    valLate = (n) * sum( lateNorthdf.iloc[: ,i])  -  (s) * sum( lateSouthdf.iloc[: ,i])\n",
    "    mean_diff_early.append(valEarly)\n",
    "    mean_diff_late.append(valLate)"
   ]
  },
  {
   "cell_type": "code",
   "execution_count": 225,
   "id": "39105c7d-49b0-4486-a798-698f4e1b67e4",
   "metadata": {},
   "outputs": [
    {
     "data": {
      "text/plain": [
       "array([-1.12771006e+09, -7.66781372e+08, -3.39589989e+08,  2.08523708e+08])"
      ]
     },
     "execution_count": 225,
     "metadata": {},
     "output_type": "execute_result"
    }
   ],
   "source": [
    "# calculate T_PC_i\n",
    "T_PC = np.subtract(mean_diff_early, mean_diff_late)\n",
    "\n",
    "# length d vector of the subtracted values\n",
    "T_PC"
   ]
  },
  {
   "cell_type": "code",
   "execution_count": 226,
   "id": "229d7414-5f2c-4152-b1e3-79afef7276ee",
   "metadata": {},
   "outputs": [
    {
     "data": {
      "text/plain": [
       "2.0184871575955535e+18"
      ]
     },
     "execution_count": 226,
     "metadata": {},
     "output_type": "execute_result"
    }
   ],
   "source": [
    "T_full_obs = sum(T_PC**2) # this is T_obs\n",
    "T_obs = T_full_obs # incase I type wrong thing\n",
    "T_full_obs"
   ]
  },
  {
   "cell_type": "markdown",
   "id": "a2c30c09-9c88-4561-91ec-f36668378421",
   "metadata": {
    "tags": []
   },
   "source": [
    "#### Put it all together in a loop that iterates P times, and stores P items in a `T_full_p_list` item. "
   ]
  },
  {
   "cell_type": "code",
   "execution_count": 227,
   "id": "2cfa3e2a-a4cb-402f-bd32-46dc22b788f4",
   "metadata": {},
   "outputs": [],
   "source": [
    "rand_ones = np.array([0,1])\n",
    "df[\"A_indicator\"] = 0\n",
    "\n",
    "T_full_p_list = []\n",
    "P = 1000\n",
    "\n",
    "# for the individual PCs\n",
    "T_PC_p_table = pd.DataFrame(columns=['normX','normY','normEnterprises','normEverythingElse'])"
   ]
  },
  {
   "cell_type": "code",
   "execution_count": 228,
   "id": "16633946-45b9-4a0e-adec-7a01bdd4bfe9",
   "metadata": {},
   "outputs": [],
   "source": [
    "random.seed(12)\n",
    "\n",
    "summariesdf = pd.DataFrame()\n",
    "\n",
    "for p in range(P):\n",
    "\n",
    "    for lad in ladslist:\n",
    "        # to pick 1 timepoints at random for group A, and one for B, i.e. randomly assign to either early or late\n",
    "        random.shuffle(rand_ones)\n",
    "        # populates the \"A_indicator\" column\n",
    "        df.loc[df[\"LAD\"] == lad,\"A_indicator\"] = rand_ones\n",
    "\n",
    "# split the data into the 4 groups (made up of 2 binary labels, 2*2 = 4)\n",
    "    A_Northdf = df[ (df[\"A_indicator\"] == 1) & (df[\"NorthIndicator\"] == 1) ]\n",
    "    A_Southdf = df[ (df[\"A_indicator\"] == 1) & (df[\"NorthIndicator\"] == 0) ]\n",
    "    B_Northdf = df[ (df[\"A_indicator\"] == 0) & (df[\"NorthIndicator\"] == 1) ]\n",
    "    B_Southdf = df[ (df[\"A_indicator\"] == 0) & (df[\"NorthIndicator\"] == 0) ]\n",
    "    \n",
    "    ### THIS STUFF IS TO CONSTRUCT CONFIDENCE INTERVALS\n",
    "    A_North_summaries = [np.mean(A_Northdf['normX']) , np.mean(A_Northdf['normY']) , np.mean(A_Northdf['normEnterprises']) , np.mean(A_Northdf['normEverythingElse'])]\n",
    "    A_South_summaries = [np.mean(A_Southdf['normX']) , np.mean(A_Southdf['normY']) , np.mean(A_Southdf['normEnterprises']) , np.mean(A_Southdf['normEverythingElse'])]\n",
    "    B_North_summaries = [np.mean(B_Northdf['normX']) , np.mean(B_Northdf['normY']) , np.mean(B_Northdf['normEnterprises']) , np.mean(B_Northdf['normEverythingElse'])]\n",
    "    B_South_summaries = [np.mean(B_Southdf['normX']) , np.mean(B_Southdf['normY']) , np.mean(B_Southdf['normEnterprises']) , np.mean(B_Southdf['normEverythingElse'])]\n",
    "    summaries = pd.DataFrame (A_North_summaries, columns = ['A_North'])\n",
    "    summaries['A_South'] = A_South_summaries\n",
    "    summaries['B_North'] = B_North_summaries\n",
    "    summaries['B_South'] = B_South_summaries\n",
    "    summaries.index = (['normX','normY','normEnterprises','normEverythingElse'])\n",
    "    summaries = summaries.transpose()\n",
    "    summaries['NorthIndicator'] = [1,0,1,0]\n",
    "    summaries['NorthorSouth'] = np.where(summaries['NorthIndicator'] >0, 'North', 'South')\n",
    "    summaries['A_Indicator'] = [1,1,0,0]\n",
    "    summaries['AorB'] = np.where(summaries['A_Indicator'] >0, 'A', 'B')\n",
    "    summaries['permutation'] = p\n",
    "    summariesdf = pd.concat([summariesdf, summaries], axis=0)\n",
    "\n",
    "\n",
    "    # length d vectors of the difference between the mean locations of the North and South for the 2 groups, A and B \n",
    "    mean_diff_A_p = []  #A is early, B is late\n",
    "    mean_diff_B_p = []\n",
    "    # calculate values of mean_diff_A_i for all i, i.e. all PCs, and store them in order in a vector\n",
    "    # same for mean_diff_B_i\n",
    "    for i in range(0,d):\n",
    "        valA = (n) * sum( A_Northdf.iloc[: ,i])  -  (s) * sum( A_Southdf.iloc[: ,i])\n",
    "        valB = (n) * sum( B_Northdf.iloc[: ,i])  -  (s) * sum( B_Southdf.iloc[: ,i])\n",
    "        mean_diff_A_p.append(valA)\n",
    "        mean_diff_B_p.append(valB)\n",
    "\n",
    "    # calculate T_PC_i_p\n",
    "    T_PC_p = np.subtract(mean_diff_A_p, mean_diff_B_p)\n",
    "\n",
    "    T_full_p = sum(T_PC_p**2) # this is T_obs\n",
    "\n",
    "    # values for all dimensions statistic \n",
    "    T_full_p_list.append(T_full_p)\n",
    "    \n",
    "    # values for individual dimension statistic\n",
    "    T_PC_p_table.loc[p,:] = T_PC_p"
   ]
  },
  {
   "cell_type": "code",
   "execution_count": 229,
   "id": "5c05df0f-d370-4063-ad26-7debfc161b62",
   "metadata": {},
   "outputs": [
    {
     "data": {
      "text/plain": [
       "[1.0, 0.998001998001998, 0.8711288711288712, 0.2907092907092907]"
      ]
     },
     "execution_count": 229,
     "metadata": {},
     "output_type": "execute_result"
    }
   ],
   "source": [
    "# Testing if time matters in each of the 4 dimensions independently\n",
    "counters_PCs = []\n",
    "for dim in range(d):\n",
    "    counter = 0\n",
    "    for p in range(P):\n",
    "        if T_PC_p_table.iloc[p , dim] > T_PC[dim]:\n",
    "            counter += 1\n",
    "        else: \n",
    "            counter = counter\n",
    "    counters_PCs.append(counter)\n",
    "\n",
    "PC_p_values = [(x+1) / (P+1) for x in counters_PCs] # (x+1) add 1 as include the observed value\n",
    "PC_p_values"
   ]
  },
  {
   "cell_type": "code",
   "execution_count": 230,
   "id": "0cf4be0b-fff5-4809-96fd-5dec56a9d50d",
   "metadata": {},
   "outputs": [],
   "source": [
    "# can square all the values in the `T_PC_p_table` table.\n",
    "# This is to say we are looking at the value of   (mean_diff_A_p_i - mean_diff_B_p_i)**2\n",
    "# when we look at row p, column i in the table\n",
    "\n",
    "T_PC_p_table_squared = T_PC_p_table**2 # #square every value in df"
   ]
  },
  {
   "cell_type": "markdown",
   "id": "134eaeb6-a6ee-42b6-8e7f-4b352791c3d1",
   "metadata": {},
   "source": [
    "### Histograms for *(mean_diff_A_p_i - mean_diff_B_p_i)$^2$*, where there is a plot for each `i` (the dimension), and `P` counts. "
   ]
  },
  {
   "cell_type": "code",
   "execution_count": 231,
   "id": "ab16c3e6-cafb-4e78-837d-1e4b8e551a7f",
   "metadata": {},
   "outputs": [
    {
     "data": {
      "text/plain": [
       "[0.000999000999000999,\n",
       " 0.003996003996003996,\n",
       " 0.24675324675324675,\n",
       " 0.5754245754245755]"
      ]
     },
     "execution_count": 231,
     "metadata": {},
     "output_type": "execute_result"
    }
   ],
   "source": [
    "counters_PCs = []\n",
    "for dim in range(d):\n",
    "    counter = 0\n",
    "    for p in range(P):\n",
    "        if T_PC_p_table_squared.iloc[p , dim] > (T_PC[dim])**2:\n",
    "            counter += 1\n",
    "        else: \n",
    "            counter = counter\n",
    "    counters_PCs.append(counter)\n",
    "\n",
    "PC_p_square_values = [(x+1) / (P+1) for x in counters_PCs] # (x+1) add 1 as include the observed value\n",
    "\n",
    "# p-values for each dimension\n",
    "PC_p_square_values"
   ]
  },
  {
   "cell_type": "code",
   "execution_count": 232,
   "id": "1b0b24d9-3dba-4c06-b206-7b1fabad0313",
   "metadata": {},
   "outputs": [
    {
     "data": {
      "image/png": "[encoded data removed]",
      "text/plain": [
       "<Figure size 432x288 with 1 Axes>"
      ]
     },
     "metadata": {
      "needs_background": "light"
     },
     "output_type": "display_data"
    },
    {
     "data": {
      "image/png": "[encoded data removed]",
      "text/plain": [
       "<Figure size 432x288 with 1 Axes>"
      ]
     },
     "metadata": {
      "needs_background": "light"
     },
     "output_type": "display_data"
    },
    {
     "data": {
      "image/png": "[encoded data removed]",
      "text/plain": [
       "<Figure size 432x288 with 1 Axes>"
      ]
     },
     "metadata": {
      "needs_background": "light"
     },
     "output_type": "display_data"
    },
    {
     "data": {
      "image/png": "[encoded data removed]",
      "text/plain": [
       "<Figure size 432x288 with 1 Axes>"
      ]
     },
     "metadata": {
      "needs_background": "light"
     },
     "output_type": "display_data"
    }
   ],
   "source": [
    "# squared values of distance between mean diff in groups A and B\n",
    "names = ['normX','normY','normEnterprises','normEverythingElse']\n",
    "\n",
    "for dim in range(d):\n",
    "    f, ax = plt.subplots()\n",
    "    ax = sns.histplot(T_PC_p_table_squared.iloc[:,dim], bins=20)\n",
    "    plt.axvline( (T_PC[dim])**2 , color=\"red\")\n",
    "    ax.set_title(names[dim])\n",
    "    \n",
    "    fig = ax.get_figure()"
   ]
  },
  {
   "cell_type": "markdown",
   "id": "a1f7192b-753c-4063-bae2-ea49ba021938",
   "metadata": {},
   "source": [
    "#### plots to check if diverging or converging relationship over time in the Urban/Rural divide\n",
    "03/05/2023"
   ]
  },
  {
   "cell_type": "code",
   "execution_count": 233,
   "id": "dedca576-8196-4658-a3fe-6f572fbeaf46",
   "metadata": {},
   "outputs": [
    {
     "data": {
      "image/png": "[encoded data removed]",
      "text/plain": [
       "<Figure size 720x288 with 1 Axes>"
      ]
     },
     "metadata": {
      "needs_background": "light"
     },
     "output_type": "display_data"
    }
   ],
   "source": [
    "p1 = patches.FancyArrowPatch((summaries['normX'][0], summaries['normY'][0]), (summaries['normX'][2], summaries['normY'][2]), \n",
    "                             arrowstyle='-|>', mutation_scale=15, ec=\"purple\", fc=\"purple\", lw=2, label=\"North\")\n",
    "p2 = patches.FancyArrowPatch((summaries['normX'][1], summaries['normY'][1]), (summaries['normX'][3], summaries['normY'][3]), \n",
    "                             arrowstyle='-|>', mutation_scale=15, ec=\"darkorange\", fc=\"darkorange\", lw=2, label=\"South\")\n",
    "\n",
    "p3 = patches.Ellipse((summaries['normX'][0], summaries['normY'][0]), height=200, width=300, ec=\"black\", fc=\"black\")\n",
    "p4 = patches.Ellipse((summaries['normX'][1], summaries['normY'][1]), height=200, width=300, ec=\"black\", fc=\"black\")\n",
    "p5= patches.Ellipse((summaries['normX'][2], summaries['normY'][2]), height=200, width=300, ec=\"black\", fc=\"black\")\n",
    "p6 = patches.Ellipse((summaries['normX'][3], summaries['normY'][3]), height=200, width=300, ec=\"black\", fc=\"black\")\n",
    "\n",
    "fig, ax = plt.subplots(figsize=(10,4))\n",
    "ax.add_patch(p1)\n",
    "ax.add_patch(p2)\n",
    "ax.add_patch(p3)\n",
    "ax.add_patch(p4)\n",
    "ax.add_patch(p5)\n",
    "ax.add_patch(p6)\n",
    "\n",
    "# adjust the x and y limits of the plot\n",
    "eps = 1000\n",
    "ax.set_xlim(min(summaries['normX'])-eps, max(summaries['normX'])+eps)\n",
    "ax.set_ylim(min(summaries['normY'])-eps, max(summaries['normY'])+eps)\n",
    "\n",
    "#south\n",
    "plt.annotate(text=\"Early\", xy = (summaries['normX'][1], summaries['normY'][1]))\n",
    "plt.annotate(text=\"Late\", xy = (summaries['normX'][3], summaries['normY'][3]))\n",
    "#north\n",
    "plt.annotate(text=\"Early\", xy = (summaries['normX'][0], summaries['normY'][0]))\n",
    "plt.annotate(text=\"Late\", xy = (summaries['normX'][2], summaries['normY'][2]))\n",
    "\n",
    "\n",
    "#ax.set_facecolor('xkcd:pale blue')\n",
    "\n",
    "plt.xlabel(\"Longitude (Easting)\")\n",
    "plt.ylabel(\"Latitude (Northing)\")\n",
    "plt.title(\"Averaged Embedding Procrusted into Longitude and Latitude (x and y)\", fontsize=15)\n",
    "\n",
    "plt.legend(loc=4)\n",
    "ax.set_axisbelow(True)\n",
    "ax.grid(color=\"lightgrey\")\n",
    "\n",
    "plt.show()"
   ]
  },
  {
   "cell_type": "code",
   "execution_count": null,
   "id": "912138fa-aea3-4132-98c4-9e18b7a2e163",
   "metadata": {},
   "outputs": [],
   "source": []
  },
  {
   "cell_type": "code",
   "execution_count": null,
   "id": "7e0bb659-5e75-41f6-a0af-614c17be061c",
   "metadata": {},
   "outputs": [],
   "source": []
  },
  {
   "cell_type": "code",
   "execution_count": null,
   "id": "141e7b09-4685-4de6-af7b-eafe0cb9bdcd",
   "metadata": {},
   "outputs": [],
   "source": []
  },
  {
   "cell_type": "markdown",
   "id": "44c00906-925b-411b-b7fa-e87ea692861c",
   "metadata": {},
   "source": [
    "## London/notLondon"
   ]
  },
  {
   "cell_type": "code",
   "execution_count": 192,
   "id": "a90eb2fd-624f-479c-8172-b88620d6c513",
   "metadata": {},
   "outputs": [],
   "source": [
    "df = early.append(late)"
   ]
  },
  {
   "cell_type": "markdown",
   "id": "8678ee57-b7f3-42d8-a8b9-93bd36f1d27e",
   "metadata": {},
   "source": [
    "#### Change this so that what is \"North\" in the code now represents \"London\""
   ]
  },
  {
   "cell_type": "code",
   "execution_count": 193,
   "id": "f9a9c52c-3c80-4377-9b71-a9dee4115e39",
   "metadata": {},
   "outputs": [],
   "source": [
    "df[\"NorthIndicator\"] = np.where( (df[\"RGN11NM\"] == \"London\") , 1 ,0) "
   ]
  },
  {
   "cell_type": "code",
   "execution_count": 194,
   "id": "741187be-64d7-4ebd-8f0e-15863ba260a2",
   "metadata": {},
   "outputs": [
    {
     "name": "stdout",
     "output_type": "stream",
     "text": [
      "[33, 347]\n"
     ]
    }
   ],
   "source": [
    "# how many LADs are in the north = London\n",
    "n = df[(df[\"EarlyIndicator\"]==1) & (df[\"NorthIndicator\"]==1)].shape[0]\n",
    "# how many LADs are in the not London\n",
    "s = df[(df[\"EarlyIndicator\"]==1) & (df[\"NorthIndicator\"]==0)].shape[0]\n",
    "\n",
    "print([n,s])"
   ]
  },
  {
   "cell_type": "code",
   "execution_count": 195,
   "id": "a239ed0a-6ec8-448f-9173-773c9bd5b12e",
   "metadata": {},
   "outputs": [],
   "source": [
    "mean_diff_early = []\n",
    "mean_diff_late = []"
   ]
  },
  {
   "cell_type": "code",
   "execution_count": 196,
   "id": "9f37e546-a68c-4893-9de5-ea76a2beeeec",
   "metadata": {},
   "outputs": [],
   "source": [
    "earlyNorthdf = df[ (df[\"EarlyIndicator\"] == 1) & (df[\"NorthIndicator\"] == 1) ]\n",
    "earlySouthdf = df[ (df[\"EarlyIndicator\"] == 1) & (df[\"NorthIndicator\"] == 0) ]\n",
    "lateNorthdf = df[ (df[\"EarlyIndicator\"] == 0) & (df[\"NorthIndicator\"] == 1) ]\n",
    "lateSouthdf = df[ (df[\"EarlyIndicator\"] == 0) & (df[\"NorthIndicator\"] == 0) ]"
   ]
  },
  {
   "cell_type": "code",
   "execution_count": 197,
   "id": "ccf8786f-b6dc-425b-bc55-2867241ce10f",
   "metadata": {},
   "outputs": [],
   "source": [
    "# calculate values of mean_diff_early_i for all i, i.e. all PCs, and store them in order in a vector\n",
    "# same for mean_diff_late_i\n",
    "\n",
    "for i in range(0,d):\n",
    "    valEarly = (n) * sum( earlyNorthdf.iloc[: ,i])  -  (s) * sum( earlySouthdf.iloc[: ,i])\n",
    "    valLate = (n) * sum( lateNorthdf.iloc[: ,i])  -  (s) * sum( lateSouthdf.iloc[: ,i])\n",
    "    mean_diff_early.append(valEarly)\n",
    "    mean_diff_late.append(valLate)"
   ]
  },
  {
   "cell_type": "code",
   "execution_count": 198,
   "id": "d3c5e082-73b3-41ff-a6ea-4c1194be9702",
   "metadata": {},
   "outputs": [
    {
     "data": {
      "text/plain": [
       "array([-1.51047763e+09, -1.44239741e+09, -1.05003749e+09,  3.60619180e+08])"
      ]
     },
     "execution_count": 198,
     "metadata": {},
     "output_type": "execute_result"
    }
   ],
   "source": [
    "# calculate T_PC_i\n",
    "T_PC = np.subtract(mean_diff_early, mean_diff_late)\n",
    "\n",
    "# length d vector of the subtracted values\n",
    "T_PC"
   ]
  },
  {
   "cell_type": "code",
   "execution_count": 199,
   "id": "f3c59d13-c0d4-4836-b744-a0da81521fc8",
   "metadata": {},
   "outputs": [
    {
     "data": {
      "text/plain": [
       "5.594677874696807e+18"
      ]
     },
     "execution_count": 199,
     "metadata": {},
     "output_type": "execute_result"
    }
   ],
   "source": [
    "T_full_obs = sum(T_PC**2) # this is T_obs\n",
    "T_obs = T_full_obs # incase I type wrong thing\n",
    "T_full_obs"
   ]
  },
  {
   "cell_type": "markdown",
   "id": "e2d188b0-17bd-4e91-8d30-051777a0777d",
   "metadata": {
    "tags": []
   },
   "source": [
    "#### Put it all together in a loop that iterates P times, and stores P items in a `T_full_p_list` item. "
   ]
  },
  {
   "cell_type": "code",
   "execution_count": 200,
   "id": "a5cd8653-f768-4064-b7c0-9bf6f4f4b428",
   "metadata": {},
   "outputs": [],
   "source": [
    "rand_ones = np.array([0,1])\n",
    "df[\"A_indicator\"] = 0\n",
    "\n",
    "T_full_p_list = []\n",
    "P = 5000\n",
    "\n",
    "# for the individual PCs\n",
    "T_PC_p_table = pd.DataFrame(columns=['normX','normY','normEnterprises','normEverythingElse'])"
   ]
  },
  {
   "cell_type": "code",
   "execution_count": 201,
   "id": "ff749789-1324-4998-8bff-6c75e85c9e67",
   "metadata": {},
   "outputs": [],
   "source": [
    "random.seed(12)\n",
    "\n",
    "summariesdf = pd.DataFrame()\n",
    "\n",
    "for p in range(P):\n",
    "\n",
    "    for lad in ladslist:\n",
    "        # to pick 1 timepoints at random for group A, and one for B, i.e. randomly assign to either early or late\n",
    "        random.shuffle(rand_ones)\n",
    "        # populates the \"A_indicator\" column\n",
    "        df.loc[df[\"LAD\"] == lad,\"A_indicator\"] = rand_ones\n",
    "\n",
    "# split the data into the 4 groups (made up of 2 binary labels, 2*2 = 4)\n",
    "    A_Northdf = df[ (df[\"A_indicator\"] == 1) & (df[\"NorthIndicator\"] == 1) ]\n",
    "    A_Southdf = df[ (df[\"A_indicator\"] == 1) & (df[\"NorthIndicator\"] == 0) ]\n",
    "    B_Northdf = df[ (df[\"A_indicator\"] == 0) & (df[\"NorthIndicator\"] == 1) ]\n",
    "    B_Southdf = df[ (df[\"A_indicator\"] == 0) & (df[\"NorthIndicator\"] == 0) ]\n",
    "    \n",
    "    ### THIS STUFF IS TO CONSTRUCT CONFIDENCE INTERVALS\n",
    "    A_North_summaries = [np.mean(A_Northdf['normX']) , np.mean(A_Northdf['normY']) , np.mean(A_Northdf['normEnterprises']) , np.mean(A_Northdf['normEverythingElse'])]\n",
    "    A_South_summaries = [np.mean(A_Southdf['normX']) , np.mean(A_Southdf['normY']) , np.mean(A_Southdf['normEnterprises']) , np.mean(A_Southdf['normEverythingElse'])]\n",
    "    B_North_summaries = [np.mean(B_Northdf['normX']) , np.mean(B_Northdf['normY']) , np.mean(B_Northdf['normEnterprises']) , np.mean(B_Northdf['normEverythingElse'])]\n",
    "    B_South_summaries = [np.mean(B_Southdf['normX']) , np.mean(B_Southdf['normY']) , np.mean(B_Southdf['normEnterprises']) , np.mean(B_Southdf['normEverythingElse'])]\n",
    "    summaries = pd.DataFrame (A_North_summaries, columns = ['A_North'])\n",
    "    summaries['A_South'] = A_South_summaries\n",
    "    summaries['B_North'] = B_North_summaries\n",
    "    summaries['B_South'] = B_South_summaries\n",
    "    summaries.index = (['normX','normY','normEnterprises','normEverythingElse'])\n",
    "    summaries = summaries.transpose()\n",
    "    summaries['NorthIndicator'] = [1,0,1,0]\n",
    "    summaries['NorthorSouth'] = np.where(summaries['NorthIndicator'] >0, 'North', 'South')\n",
    "    summaries['A_Indicator'] = [1,1,0,0]\n",
    "    summaries['AorB'] = np.where(summaries['A_Indicator'] >0, 'A', 'B')\n",
    "    summaries['permutation'] = p\n",
    "    summariesdf = pd.concat([summariesdf, summaries], axis=0)\n",
    "\n",
    "\n",
    "    # length d vectors of the difference between the mean locations of the North and South for the 2 groups, A and B \n",
    "    mean_diff_A_p = []  #A is early, B is late\n",
    "    mean_diff_B_p = []\n",
    "    # calculate values of mean_diff_A_i for all i, i.e. all PCs, and store them in order in a vector\n",
    "    # same for mean_diff_B_i\n",
    "    for i in range(0,d):\n",
    "        valA = (n) * sum( A_Northdf.iloc[: ,i])  -  (s) * sum( A_Southdf.iloc[: ,i])\n",
    "        valB = (n) * sum( B_Northdf.iloc[: ,i])  -  (s) * sum( B_Southdf.iloc[: ,i])\n",
    "        mean_diff_A_p.append(valA)\n",
    "        mean_diff_B_p.append(valB)\n",
    "\n",
    "    # calculate T_PC_i_p\n",
    "    T_PC_p = np.subtract(mean_diff_A_p, mean_diff_B_p)\n",
    "\n",
    "    T_full_p = sum(T_PC_p**2) # this is T_obs\n",
    "\n",
    "    # values for all dimensions statistic \n",
    "    T_full_p_list.append(T_full_p)\n",
    "    \n",
    "    # values for individual dimension statistic\n",
    "    T_PC_p_table.loc[p,:] = T_PC_p"
   ]
  },
  {
   "cell_type": "code",
   "execution_count": 202,
   "id": "d248673f-2c20-4eb3-804f-b64ec9cb1f88",
   "metadata": {},
   "outputs": [
    {
     "data": {
      "text/plain": [
       "[1.0, 1.0, 0.9976004799040192, 0.21295740851829634]"
      ]
     },
     "execution_count": 202,
     "metadata": {},
     "output_type": "execute_result"
    }
   ],
   "source": [
    "# Testing if time matters in each of the 4 dimensions independently\n",
    "counters_PCs = []\n",
    "for dim in range(d):\n",
    "    counter = 0\n",
    "    for p in range(P):\n",
    "        if T_PC_p_table.iloc[p , dim] > T_PC[dim]:\n",
    "            counter += 1\n",
    "        else: \n",
    "            counter = counter\n",
    "    counters_PCs.append(counter)\n",
    "\n",
    "PC_p_values = [(x+1) / (P+1) for x in counters_PCs] # (x+1) add 1 as include the observed value\n",
    "PC_p_values"
   ]
  },
  {
   "cell_type": "code",
   "execution_count": 203,
   "id": "9190ee14-019e-4f08-aca9-bb7c6e9a32ee",
   "metadata": {},
   "outputs": [],
   "source": [
    "# can square all the values in the `T_PC_p_table` table.\n",
    "# This is to say we are looking at the value of   (mean_diff_A_p_i - mean_diff_B_p_i)**2\n",
    "# when we look at row p, column i in the table\n",
    "\n",
    "T_PC_p_table_squared = T_PC_p_table**2 # #square every value in df"
   ]
  },
  {
   "cell_type": "markdown",
   "id": "b963e576-f9c9-49ff-a189-1dc952ad4052",
   "metadata": {},
   "source": [
    "### Histograms for *(mean_diff_A_p_i - mean_diff_B_p_i)$^2$*, where there is a plot for each `i` (the dimension), and `P` counts. "
   ]
  },
  {
   "cell_type": "code",
   "execution_count": 204,
   "id": "d55244c4-52e1-4039-bfab-086832b1af99",
   "metadata": {},
   "outputs": [
    {
     "data": {
      "text/plain": [
       "[0.0001999600079984003,\n",
       " 0.0001999600079984003,\n",
       " 0.004199160167966407,\n",
       " 0.4159168166366727]"
      ]
     },
     "execution_count": 204,
     "metadata": {},
     "output_type": "execute_result"
    }
   ],
   "source": [
    "counters_PCs = []\n",
    "for dim in range(d):\n",
    "    counter = 0\n",
    "    for p in range(P):\n",
    "        if T_PC_p_table_squared.iloc[p , dim] > (T_PC[dim])**2:\n",
    "            counter += 1\n",
    "        else: \n",
    "            counter = counter\n",
    "    counters_PCs.append(counter)\n",
    "\n",
    "PC_p_square_values = [(x+1) / (P+1) for x in counters_PCs] # (x+1) add 1 as include the observed value\n",
    "\n",
    "# p-values for each dimension\n",
    "PC_p_square_values"
   ]
  },
  {
   "cell_type": "code",
   "execution_count": 205,
   "id": "ccadbcae-50ea-4789-a0f3-3459272cffb9",
   "metadata": {},
   "outputs": [
    {
     "data": {
      "image/png": "[encoded data removed]",
      "text/plain": [
       "<Figure size 432x288 with 1 Axes>"
      ]
     },
     "metadata": {
      "needs_background": "light"
     },
     "output_type": "display_data"
    },
    {
     "data": {
      "image/png": "[encoded data removed]",
      "text/plain": [
       "<Figure size 432x288 with 1 Axes>"
      ]
     },
     "metadata": {
      "needs_background": "light"
     },
     "output_type": "display_data"
    },
    {
     "data": {
      "image/png": "[encoded data removed]",
      "text/plain": [
       "<Figure size 432x288 with 1 Axes>"
      ]
     },
     "metadata": {
      "needs_background": "light"
     },
     "output_type": "display_data"
    },
    {
     "data": {
      "image/png": "[encoded data removed]",
      "text/plain": [
       "<Figure size 432x288 with 1 Axes>"
      ]
     },
     "metadata": {
      "needs_background": "light"
     },
     "output_type": "display_data"
    }
   ],
   "source": [
    "# squared values of distance between mean diff in groups A and B\n",
    "names = ['normX','normY','normEnterprises','normEverythingElse']\n",
    "\n",
    "for dim in range(d):\n",
    "    f, ax = plt.subplots()\n",
    "    ax = sns.histplot(T_PC_p_table_squared.iloc[:,dim], bins=20)\n",
    "    plt.axvline( (T_PC[dim])**2 , color=\"red\")\n",
    "    ax.set_title(names[dim])\n",
    "    \n",
    "    fig = ax.get_figure()"
   ]
  },
  {
   "cell_type": "markdown",
   "id": "fa56b5c9-0f88-48ee-a82b-0415b1cd9502",
   "metadata": {},
   "source": [
    "#### Check diverging or converging London/notLondon\n",
    "03/05/2023"
   ]
  },
  {
   "cell_type": "code",
   "execution_count": 209,
   "id": "877e7837-ebed-43cf-8d41-940586b9275d",
   "metadata": {},
   "outputs": [
    {
     "data": {
      "image/png": "[encoded data removed]",
      "text/plain": [
       "<Figure size 720x288 with 1 Axes>"
      ]
     },
     "metadata": {
      "needs_background": "light"
     },
     "output_type": "display_data"
    }
   ],
   "source": [
    "p1 = patches.FancyArrowPatch((summaries['normX'][0], summaries['normY'][0]), (summaries['normX'][2], summaries['normY'][2]), \n",
    "                             arrowstyle='-|>', mutation_scale=15, ec=\"purple\", fc=\"purple\", lw=2, label=\"North\")\n",
    "p2 = patches.FancyArrowPatch((summaries['normX'][1], summaries['normY'][1]), (summaries['normX'][3], summaries['normY'][3]), \n",
    "                             arrowstyle='-|>', mutation_scale=15, ec=\"darkorange\", fc=\"darkorange\", lw=2, label=\"South\")\n",
    "\n",
    "p3 = patches.Ellipse((summaries['normX'][0], summaries['normY'][0]), height=2000, width=300, ec=\"black\", fc=\"black\")\n",
    "p4 = patches.Ellipse((summaries['normX'][1], summaries['normY'][1]), height=2000, width=300, ec=\"black\", fc=\"black\")\n",
    "p5= patches.Ellipse((summaries['normX'][2], summaries['normY'][2]), height=2000, width=300, ec=\"black\", fc=\"black\")\n",
    "p6 = patches.Ellipse((summaries['normX'][3], summaries['normY'][3]), height=2000, width=300, ec=\"black\", fc=\"black\")\n",
    "\n",
    "fig, ax = plt.subplots(figsize=(10,4))\n",
    "ax.add_patch(p1)\n",
    "ax.add_patch(p2)\n",
    "ax.add_patch(p3)\n",
    "ax.add_patch(p4)\n",
    "ax.add_patch(p5)\n",
    "ax.add_patch(p6)\n",
    "\n",
    "# adjust the x and y limits of the plot\n",
    "eps = 10000\n",
    "ax.set_xlim(min(summaries['normX'])-eps, max(summaries['normX'])+eps)\n",
    "ax.set_ylim(min(summaries['normY'])-eps, max(summaries['normY'])+eps)\n",
    "\n",
    "#south\n",
    "plt.annotate(text=\"Early\", xy = (summaries['normX'][1], summaries['normY'][1]))\n",
    "plt.annotate(text=\"Late\", xy = (summaries['normX'][3], summaries['normY'][3]))\n",
    "#north\n",
    "plt.annotate(text=\"Early\", xy = (summaries['normX'][0], summaries['normY'][0]))\n",
    "plt.annotate(text=\"Late\", xy = (summaries['normX'][2], summaries['normY'][2]))\n",
    "\n",
    "\n",
    "#ax.set_facecolor('xkcd:pale blue')\n",
    "\n",
    "plt.xlabel(\"Longitude (Easting)\")\n",
    "plt.ylabel(\"Latitude (Northing)\")\n",
    "plt.title(\"Averaged Embedding Procrusted into Longitude and Latitude (x and y)\", fontsize=15)\n",
    "\n",
    "plt.legend(loc=4)\n",
    "ax.set_axisbelow(True)\n",
    "ax.grid(color=\"lightgrey\")\n",
    "\n",
    "plt.show()"
   ]
  },
  {
   "cell_type": "code",
   "execution_count": 210,
   "id": "968969a3-7f05-4d38-b816-478c28ecba56",
   "metadata": {},
   "outputs": [
    {
     "data": {
      "image/png": "[encoded data removed]",
      "text/plain": [
       "<Figure size 720x288 with 1 Axes>"
      ]
     },
     "metadata": {
      "needs_background": "light"
     },
     "output_type": "display_data"
    }
   ],
   "source": [
    "p1 = patches.FancyArrowPatch((summaries['normEnterprises'][0], summaries['normEverythingElse'][0]), (summaries['normEnterprises'][2], summaries['normEverythingElse'][2]), \n",
    "                             arrowstyle='-|>', mutation_scale=15, ec=\"purple\", fc=\"purple\", lw=2, label=\"North\")\n",
    "p2 = patches.FancyArrowPatch((summaries['normEnterprises'][1], summaries['normEverythingElse'][1]), (summaries['normEnterprises'][3], summaries['normEverythingElse'][3]), \n",
    "                             arrowstyle='-|>', mutation_scale=15, ec=\"darkorange\", fc=\"darkorange\", lw=2, label=\"South\")\n",
    "\n",
    "p3 = patches.Ellipse((summaries['normEnterprises'][0], summaries['normEverythingElse'][0]), height=2000, width=300, ec=\"black\", fc=\"black\")\n",
    "p4 = patches.Ellipse((summaries['normEnterprises'][1], summaries['normEverythingElse'][1]), height=2000, width=300, ec=\"black\", fc=\"black\")\n",
    "p5= patches.Ellipse((summaries['normEnterprises'][2], summaries['normEverythingElse'][2]), height=2000, width=300, ec=\"black\", fc=\"black\")\n",
    "p6 = patches.Ellipse((summaries['normEnterprises'][3], summaries['normEverythingElse'][3]), height=2000, width=300, ec=\"black\", fc=\"black\")\n",
    "\n",
    "fig, ax = plt.subplots(figsize=(10,4))\n",
    "ax.add_patch(p1)\n",
    "ax.add_patch(p2)\n",
    "ax.add_patch(p3)\n",
    "ax.add_patch(p4)\n",
    "ax.add_patch(p5)\n",
    "ax.add_patch(p6)\n",
    "\n",
    "# adjust the x and y limits of the plot\n",
    "eps = 10000\n",
    "ax.set_xlim(min(summaries['normEnterprises'])-eps, max(summaries['normEnterprises'])+eps)\n",
    "ax.set_ylim(min(summaries['normEverythingElse'])-eps, max(summaries['normEverythingElse'])+eps)\n",
    "\n",
    "#south\n",
    "plt.annotate(text=\"Early\", xy = (summaries['normEnterprises'][1], summaries['normEverythingElse'][1]))\n",
    "plt.annotate(text=\"Late\", xy = (summaries['normEnterprises'][3], summaries['normEverythingElse'][3]))\n",
    "#north\n",
    "plt.annotate(text=\"Early\", xy = (summaries['normEnterprises'][0], summaries['normEverythingElse'][0]))\n",
    "plt.annotate(text=\"Late\", xy = (summaries['normEnterprises'][2], summaries['normEverythingElse'][2]))\n",
    "\n",
    "\n",
    "#ax.set_facecolor('xkcd:pale blue')\n",
    "\n",
    "plt.xlabel(\"Enterprises\")\n",
    "plt.ylabel(\"Everything Else (zeros)\")\n",
    "plt.title(\"Averaged Embedding Procrusted into Enterprises and Zeros\", fontsize=15)\n",
    "\n",
    "plt.legend(loc=4)\n",
    "ax.set_axisbelow(True)\n",
    "ax.grid(color=\"lightgrey\")\n",
    "\n",
    "plt.show()"
   ]
  },
  {
   "cell_type": "code",
   "execution_count": null,
   "id": "e4c86601-155c-43ea-bf5e-1841090e62fa",
   "metadata": {},
   "outputs": [],
   "source": []
  }
 ],
 "metadata": {
  "kernelspec": {
   "display_name": "Python 3 (ipykernel)",
   "language": "python",
   "name": "python3"
  },
  "language_info": {
   "codemirror_mode": {
    "name": "ipython",
    "version": 3
   },
   "file_extension": ".py",
   "mimetype": "text/x-python",
   "name": "python",
   "nbconvert_exporter": "python",
   "pygments_lexer": "ipython3",
   "version": "3.9.7"
  }
 },
 "nbformat": 4,
 "nbformat_minor": 5
}
