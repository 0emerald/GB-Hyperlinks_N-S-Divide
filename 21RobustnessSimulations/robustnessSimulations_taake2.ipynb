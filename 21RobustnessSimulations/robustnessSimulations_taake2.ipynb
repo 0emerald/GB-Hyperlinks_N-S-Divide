{
 "cells": [
  {
   "cell_type": "code",
   "execution_count": 71,
   "metadata": {},
   "outputs": [],
   "source": [
    "import numpy as np\n",
    "import matplotlib.pyplot as plt\n",
    "import seaborn as sns\n",
    "from scipy.stats.mstats import winsorize\n",
    "from scipy import stats"
   ]
  },
  {
   "cell_type": "markdown",
   "metadata": {},
   "source": [
    "Simulate some data, embed it and calculate the *true* value of the test statistic. This will be the same for any permutationss or iterations, so is calculated outside of the loops and is stored."
   ]
  },
  {
   "cell_type": "code",
   "execution_count": 72,
   "metadata": {},
   "outputs": [],
   "source": [
    "# Set a random seed for reproducibility\n",
    "np.random.seed(6)\n",
    "\n",
    "p_values_iter = []\n",
    "# Parameters\n",
    "n = 100  # Number of permutations\n",
    "d = 2  # Number of dimensions\n",
    "T = 4\n",
    "\n",
    "# MANY ITERATIONS TO GET MANY P-VALUES BACK\n",
    "for iter in range(1000):\n",
    "    # A = abs(np.random.normal(0, 1, (n, n*T)))\n",
    "    A = np.round(abs(np.random.standard_t(df=1.2, size=(n, n*T))), decimals=0)\n",
    "    u, s, vt = np.linalg.svd(A, full_matrices=True)  # number of singular values and vectors to compute\n",
    "\n",
    "    s_idx = np.argsort(s)[::-1][0:d]\n",
    "    ya = vt.T[:, s_idx] @ np.diag(np.sqrt(s[s_idx]))\n",
    "\n",
    "    # label nodes - 1=earlyC1, 2=earlyC2, 3=lateC1, 4=lateC2\n",
    "    label = np.repeat(1, n*T/4)\n",
    "    for i in range(2, 5):\n",
    "        label = np.hstack((label, np.repeat(i, n*T/4)))\n",
    "\n",
    "    # # Calculate a test statistic based on the \"true observation\"\n",
    "    earlydiff = np.mean(ya[0:int(n*T/4), :], axis=0) - np.mean(ya[int(n*T/4):int(2*n*T/4), :], axis=0) # between earlyC1 and earlyC2\n",
    "    latediff = np.mean(ya[int(2*n*T/4):int(3*n*T/4), :], axis=0) - np.mean(ya[int(3*n*T/4):int(4*n*T/4), :], axis=0) # between lateC1 and lateC2\n",
    "    true_stat = earlydiff - latediff # this is a d-dimensional vector\n",
    "\n",
    "\n",
    "    shuff_perm_stats = []\n",
    "    pvalues = []\n",
    "\n",
    "    for p in range(100): # number of permuations\n",
    "        # so now each row still has the same node in it, but they are shuffled around as if time doesn't matter \n",
    "        shuffya = ya # np.zeros((n*T, d)) # intialise\n",
    "\n",
    "        for node in range(n):# randomly assign each node indep as early/late\n",
    "            # find a way to pick out 2 of each node's observations \n",
    "            order = np.random.permutation([0,1,2,3])\n",
    "            node_embeddings = ya[[node, (n+node), ((2*n)+node), ((3*n)+node)],:]\n",
    "            shuffya[node,:] = node_embeddings[order[0],:]\n",
    "            shuffya[n+node,:] = node_embeddings[order[1],:]\n",
    "            shuffya[(2*n)+node,:] = node_embeddings[order[2],:]\n",
    "            shuffya[(3*n)+node,:] = node_embeddings[order[3],:]\n",
    "\n",
    "        # THINK ABOUT WHAT IS C1 AND C2 AND EARLY AND LATE AND FIGURE OUT HOW TO SPLIT UP THE SHUFFLED 4 PARTITIONS AND THEN CALCULATE THE TEST STATISTIC\n",
    "        shuffearlydiff = np.mean(shuffya[0:int(n*T/4), :], axis=0) - np.mean(shuffya[int(n*T/4):int(2*n*T/4), :], axis=0) # between \"early\"C1 and \"early\"C2\n",
    "        shufflatediff = np.mean(shuffya[int(2*n*T/4):int(3*n*T/4), :], axis=0) - np.mean(shuffya[int(3*n*T/4):int(4*n*T/4), :], axis=0) # between \"late\"C1 and \"late\"C2\n",
    "        shuff_perm_stat = shuffearlydiff - shufflatediff # this is a d-dimensional vector\n",
    "\n",
    "        #add it to the list of perm stats\n",
    "        shuff_perm_stats.append(shuff_perm_stat)\n",
    "\n",
    "    # Add the true stat to the list of permutation stats, as need it to calculate p-value\n",
    "    shuff_perm_stats.append(true_stat)\n",
    "\n",
    "    # calculate the d p-values\n",
    "    p_values = []\n",
    "    for dim in range(d):\n",
    "        perm_stats_dim = []\n",
    "        for i in range(len(shuff_perm_stats)):\n",
    "            perm_stats_dim.append(shuff_perm_stats[i][dim])\n",
    "        p_value = (np.sum(perm_stats_dim >= true_stat[dim]) + np.sum(perm_stats_dim <= -true_stat[dim])) / (2*(n+1))\n",
    "        p_values.append(p_value)\n",
    "\n",
    "    p_values_iter.append(p_values)"
   ]
  },
  {
   "cell_type": "code",
   "execution_count": 73,
   "metadata": {},
   "outputs": [],
   "source": [
    "# extract the p-values for each dimension\n",
    "dim1_pvalues = [sublist[0] for sublist in p_values_iter]\n",
    "dim2_pvalues = [sublist[1] for sublist in p_values_iter]"
   ]
  },
  {
   "cell_type": "code",
   "execution_count": 74,
   "metadata": {},
   "outputs": [
    {
     "data": {
      "text/plain": [
       "(array([63., 47., 39., 53., 36., 47., 45., 51., 57., 57., 43., 46., 47.,\n",
       "        57., 56., 49., 48., 54., 45., 60.]),\n",
       " array([0.0049505 , 0.05470297, 0.10445545, 0.15420792, 0.2039604 ,\n",
       "        0.25371287, 0.30346535, 0.35321782, 0.4029703 , 0.45272277,\n",
       "        0.50247525, 0.55222772, 0.6019802 , 0.65173267, 0.70148515,\n",
       "        0.75123762, 0.8009901 , 0.85074257, 0.90049505, 0.95024752,\n",
       "        1.        ]),\n",
       " <BarContainer object of 20 artists>)"
      ]
     },
     "execution_count": 74,
     "metadata": {},
     "output_type": "execute_result"
    },
    {
     "data": {
      "image/png": "[encoded data removed]",
      "text/plain": [
       "<Figure size 432x288 with 1 Axes>"
      ]
     },
     "metadata": {
      "needs_background": "light"
     },
     "output_type": "display_data"
    }
   ],
   "source": [
    "plt.hist(dim1_pvalues, bins=20)"
   ]
  },
  {
   "cell_type": "code",
   "execution_count": 75,
   "metadata": {},
   "outputs": [
    {
     "data": {
      "text/plain": [
       "(array([56., 47., 55., 61., 39., 60., 57., 41., 50., 42., 52., 49., 63.,\n",
       "        42., 50., 45., 46., 52., 35., 58.]),\n",
       " array([0.0049505 , 0.05470297, 0.10445545, 0.15420792, 0.2039604 ,\n",
       "        0.25371287, 0.30346535, 0.35321782, 0.4029703 , 0.45272277,\n",
       "        0.50247525, 0.55222772, 0.6019802 , 0.65173267, 0.70148515,\n",
       "        0.75123762, 0.8009901 , 0.85074257, 0.90049505, 0.95024752,\n",
       "        1.        ]),\n",
       " <BarContainer object of 20 artists>)"
      ]
     },
     "execution_count": 75,
     "metadata": {},
     "output_type": "execute_result"
    },
    {
     "data": {
      "image/png": "[encoded data removed]",
      "text/plain": [
       "<Figure size 432x288 with 1 Axes>"
      ]
     },
     "metadata": {
      "needs_background": "light"
     },
     "output_type": "display_data"
    }
   ],
   "source": [
    "plt.hist(dim2_pvalues, bins=20)"
   ]
  },
  {
   "cell_type": "markdown",
   "metadata": {},
   "source": [
    "Transform A with a log and Wins and see if this affects the p-values"
   ]
  },
  {
   "cell_type": "code",
   "execution_count": 76,
   "metadata": {},
   "outputs": [],
   "source": [
    "# log and winsorize\n",
    "Atransformed = np.log10(A+1)\n",
    "Atransformed = winsorize(Atransformed, limits = [0, 0.01])"
   ]
  },
  {
   "cell_type": "code",
   "execution_count": 77,
   "metadata": {},
   "outputs": [],
   "source": [
    "# Set a random seed for reproducibility\n",
    "np.random.seed(6)\n",
    "\n",
    "p_values_iter = []\n",
    "# Parameters\n",
    "n = 100  # Number of permutations\n",
    "d = 2  # Number of dimensions\n",
    "T = 4\n",
    "\n",
    "# MANY ITERATIONS TO GET MANY P-VALUES BACK\n",
    "for iter in range(1000):\n",
    "    # A = abs(np.random.normal(0, 1, (n, n*T)))\n",
    "    A = np.round(abs(np.random.standard_t(df=1.2, size=(n, n*T))), decimals=0)\n",
    "    # log and winsorize\n",
    "    A = np.log10(A+1)\n",
    "    A = winsorize(A, limits = [0, 0.01])\n",
    "    u, s, vt = np.linalg.svd(A, full_matrices=True)  # number of singular values and vectors to compute\n",
    "\n",
    "    s_idx = np.argsort(s)[::-1][0:d]\n",
    "    ya = vt.T[:, s_idx].dot(np.diag(np.sqrt(s[s_idx])))\n",
    "\n",
    "    # label nodes - 1=earlyC1, 2=earlyC2, 3=lateC1, 4=lateC2\n",
    "    label = np.repeat(1, n*T/4)\n",
    "    for i in range(2, 5):\n",
    "        label = np.hstack((label, np.repeat(i, n*T/4)))\n",
    "\n",
    "    # # Calculate a test statistic based on the \"true observation\"\n",
    "    earlydiff = np.mean(ya[0:int(n*T/4), :], axis=0) - np.mean(ya[int(n*T/4):int(2*n*T/4), :], axis=0) # between earlyC1 and earlyC2\n",
    "    latediff = np.mean(ya[int(2*n*T/4):int(3*n*T/4), :], axis=0) - np.mean(ya[int(3*n*T/4):int(4*n*T/4), :], axis=0) # between lateC1 and lateC2\n",
    "    true_stat = earlydiff - latediff # this is a d-dimensional vector\n",
    "\n",
    "\n",
    "    shuff_perm_stats = []\n",
    "    pvalues = []\n",
    "\n",
    "    for p in range(100): # number of permuations\n",
    "        # so now each row still has the same node in it, but they are shuffled around as if time doesn't matter \n",
    "        shuffya = ya # np.zeros((n*T, d)) # intialise\n",
    "\n",
    "        for node in range(n):# randomly assign each node indep as early/late\n",
    "            # find a way to pick out 2 of each node's observations \n",
    "            order = np.random.permutation([0,1,2,3])\n",
    "            node_embeddings = ya[[node, (n+node), ((2*n)+node), ((3*n)+node)],:]\n",
    "            shuffya[node,:] = node_embeddings[order[0],:]\n",
    "            shuffya[n+node,:] = node_embeddings[order[1],:]\n",
    "            shuffya[(2*n)+node,:] = node_embeddings[order[2],:]\n",
    "            shuffya[(3*n)+node,:] = node_embeddings[order[3],:]\n",
    "\n",
    "        # THINK ABOUT WHAT IS C1 AND C2 AND EARLY AND LATE AND FIGURE OUT HOW TO SPLIT UP THE SHUFFLED 4 PARTITIONS AND THEN CALCULATE THE TEST STATISTIC\n",
    "        shuffearlydiff = np.mean(shuffya[0:int(n*T/4), :], axis=0) - np.mean(shuffya[int(n*T/4):int(2*n*T/4), :], axis=0) # between \"early\"C1 and \"early\"C2\n",
    "        shufflatediff = np.mean(shuffya[int(2*n*T/4):int(3*n*T/4), :], axis=0) - np.mean(shuffya[int(3*n*T/4):int(4*n*T/4), :], axis=0) # between \"late\"C1 and \"late\"C2\n",
    "        shuff_perm_stat = shuffearlydiff - shufflatediff # this is a d-dimensional vector\n",
    "\n",
    "        #add it to the list of perm stats\n",
    "        shuff_perm_stats.append(shuff_perm_stat)\n",
    "\n",
    "    # Add the true stat to the list of permutation stats, as need it to calculate p-value\n",
    "    shuff_perm_stats.append(true_stat)\n",
    "\n",
    "    # calculate the d p-values\n",
    "    p_values = []\n",
    "    for dim in range(d):\n",
    "        perm_stats_dim = []\n",
    "        for i in range(len(shuff_perm_stats)):\n",
    "            perm_stats_dim.append(shuff_perm_stats[i][dim])\n",
    "        p_value = (np.sum(perm_stats_dim >= true_stat[dim]) + np.sum(perm_stats_dim <= -true_stat[dim])) / (2*(n+1))\n",
    "        p_values.append(p_value)\n",
    "\n",
    "    p_values_iter.append(p_values)"
   ]
  },
  {
   "cell_type": "code",
   "execution_count": 78,
   "metadata": {},
   "outputs": [],
   "source": [
    "# extract the p-values for each dimension\n",
    "dim1_pvalues_transformed = [sublist[0] for sublist in p_values_iter]\n",
    "dim2_pvalues_transformed = [sublist[1] for sublist in p_values_iter]"
   ]
  },
  {
   "cell_type": "code",
   "execution_count": 79,
   "metadata": {},
   "outputs": [
    {
     "data": {
      "text/plain": [
       "(array([53., 42., 45., 66., 55., 41., 48., 47., 47., 59., 54., 46., 51.,\n",
       "        53., 54., 45., 46., 52., 53., 43.]),\n",
       " array([0.0049505 , 0.05470297, 0.10445545, 0.15420792, 0.2039604 ,\n",
       "        0.25371287, 0.30346535, 0.35321782, 0.4029703 , 0.45272277,\n",
       "        0.50247525, 0.55222772, 0.6019802 , 0.65173267, 0.70148515,\n",
       "        0.75123762, 0.8009901 , 0.85074257, 0.90049505, 0.95024752,\n",
       "        1.        ]),\n",
       " <BarContainer object of 20 artists>)"
      ]
     },
     "execution_count": 79,
     "metadata": {},
     "output_type": "execute_result"
    },
    {
     "data": {
      "image/png": "[encoded data removed]",
      "text/plain": [
       "<Figure size 432x288 with 1 Axes>"
      ]
     },
     "metadata": {
      "needs_background": "light"
     },
     "output_type": "display_data"
    }
   ],
   "source": [
    "plt.hist(dim1_pvalues_transformed, bins=20)"
   ]
  },
  {
   "cell_type": "code",
   "execution_count": 80,
   "metadata": {},
   "outputs": [
    {
     "data": {
      "text/plain": [
       "(array([45., 49., 61., 50., 56., 48., 51., 49., 40., 57., 58., 43., 48.,\n",
       "        49., 39., 54., 46., 43., 54., 60.]),\n",
       " array([0.0049505 , 0.05470297, 0.10445545, 0.15420792, 0.2039604 ,\n",
       "        0.25371287, 0.30346535, 0.35321782, 0.4029703 , 0.45272277,\n",
       "        0.50247525, 0.55222772, 0.6019802 , 0.65173267, 0.70148515,\n",
       "        0.75123762, 0.8009901 , 0.85074257, 0.90049505, 0.95024752,\n",
       "        1.        ]),\n",
       " <BarContainer object of 20 artists>)"
      ]
     },
     "execution_count": 80,
     "metadata": {},
     "output_type": "execute_result"
    },
    {
     "data": {
      "image/png": "[encoded data removed]",
      "text/plain": [
       "<Figure size 432x288 with 1 Axes>"
      ]
     },
     "metadata": {
      "needs_background": "light"
     },
     "output_type": "display_data"
    }
   ],
   "source": [
    "plt.hist(dim2_pvalues_transformed, bins=20)"
   ]
  },
  {
   "cell_type": "code",
   "execution_count": 81,
   "metadata": {},
   "outputs": [
    {
     "data": {
      "text/plain": [
       "KstestResult(statistic=0.025415841584158383, pvalue=0.5296851230823691)"
      ]
     },
     "execution_count": 81,
     "metadata": {},
     "output_type": "execute_result"
    }
   ],
   "source": [
    "stats.kstest(dim2_pvalues,\n",
    "             stats.uniform.cdf)"
   ]
  },
  {
   "cell_type": "code",
   "execution_count": 82,
   "metadata": {},
   "outputs": [
    {
     "data": {
      "text/plain": [
       "KstestResult(statistic=0.017178217821782193, pvalue=0.9244388516637689)"
      ]
     },
     "execution_count": 82,
     "metadata": {},
     "output_type": "execute_result"
    }
   ],
   "source": [
    "stats.kstest(dim2_pvalues_transformed,\n",
    "             stats.uniform.cdf)"
   ]
  },
  {
   "cell_type": "code",
   "execution_count": 83,
   "metadata": {},
   "outputs": [
    {
     "data": {
      "text/plain": [
       "KstestResult(statistic=0.028287128712871257, pvalue=0.3930802553494678)"
      ]
     },
     "execution_count": 83,
     "metadata": {},
     "output_type": "execute_result"
    }
   ],
   "source": [
    "stats.kstest(dim1_pvalues,\n",
    "             stats.uniform.cdf)"
   ]
  },
  {
   "cell_type": "code",
   "execution_count": 84,
   "metadata": {},
   "outputs": [
    {
     "data": {
      "text/plain": [
       "KstestResult(statistic=0.019712871287128717, pvalue=0.8243812568239157)"
      ]
     },
     "execution_count": 84,
     "metadata": {},
     "output_type": "execute_result"
    }
   ],
   "source": [
    "stats.kstest(dim1_pvalues_transformed,\n",
    "             stats.uniform.cdf)"
   ]
  },
  {
   "cell_type": "code",
   "execution_count": null,
   "metadata": {},
   "outputs": [],
   "source": []
  }
 ],
 "metadata": {
  "kernelspec": {
   "display_name": "base",
   "language": "python",
   "name": "python3"
  },
  "language_info": {
   "codemirror_mode": {
    "name": "ipython",
    "version": 3
   },
   "file_extension": ".py",
   "mimetype": "text/x-python",
   "name": "python",
   "nbconvert_exporter": "python",
   "pygments_lexer": "ipython3",
   "version": "3.9.7"
  },
  "orig_nbformat": 4
 },
 "nbformat": 4,
 "nbformat_minor": 2
}
