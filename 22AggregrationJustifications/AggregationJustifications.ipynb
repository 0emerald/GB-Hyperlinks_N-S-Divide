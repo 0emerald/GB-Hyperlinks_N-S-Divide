{
 "cells": [
  {
   "cell_type": "code",
   "execution_count": 10,
   "metadata": {},
   "outputs": [],
   "source": [
    "import numpy as np\n",
    "import pandas as pd\n",
    "from scipy.sparse import csr_matrix, hstack\n",
    "from scipy.io import mmread, mmwrite\n",
    "import matplotlib.pyplot as plt\n",
    "from scipy import sparse\n",
    "import plotly.express as px\n",
    "import random\n",
    "import math\n",
    "import seaborn as sns\n",
    "from plotly import graph_objects as go\n",
    "import matplotlib.patches as patches\n",
    "from tqdm.notebook import tqdm"
   ]
  },
  {
   "cell_type": "markdown",
   "metadata": {},
   "source": [
    "v5 matrices at LAD level are binary and for GB. (they are named Uk but for GB)"
   ]
  },
  {
   "cell_type": "markdown",
   "metadata": {},
   "source": [
    "MSOA matrices"
   ]
  },
  {
   "cell_type": "code",
   "execution_count": 11,
   "metadata": {},
   "outputs": [],
   "source": [
    "A_MSOA_list = []\n",
    "\n",
    "for year in range(2005,2011):\n",
    "    # does 2005-2010 inclusive\n",
    "    filepath = \"A_for_\" + str(year) + \"_binary_MSOA_UK.mtx\" # file name to read in \n",
    "    A = mmread(filepath).todense()[0:8483, 0:8483] # don't want the Northern Ireland MSOAs\n",
    "    \n",
    "    A_MSOA_list.append(A)"
   ]
  },
  {
   "cell_type": "markdown",
   "metadata": {},
   "source": [
    "LAD matrices"
   ]
  },
  {
   "cell_type": "code",
   "execution_count": 12,
   "metadata": {},
   "outputs": [],
   "source": [
    "A_LAD_list = []\n",
    "year_list = []\n",
    "\n",
    "for year in range(2005,2011):\n",
    "    # does 2005-2010 inclusive\n",
    "    filepath = \"A_LAD_\" + str(year) + \"_UK_v5.mtx\" # file name to read in \n",
    "    A = mmread(filepath).todense() # temporary\n",
    "    \n",
    "    year_list.append(year)\n",
    "    A_LAD_list.append(A)"
   ]
  },
  {
   "cell_type": "markdown",
   "metadata": {},
   "source": [
    "Region matrices"
   ]
  },
  {
   "cell_type": "code",
   "execution_count": 13,
   "metadata": {},
   "outputs": [],
   "source": [
    "A_Reg_list = []\n",
    "\n",
    "for year in range(2005,2011):\n",
    "    # does 2005-2010 inclusive\n",
    "    filepath = \"A_Reg_\" + str(year) + \"_GB.mtx\" # file name to read in \n",
    "    A = mmread(filepath).todense() # temporary\n",
    "    \n",
    "    A_Reg_list.append(A)"
   ]
  },
  {
   "cell_type": "markdown",
   "metadata": {},
   "source": [
    "### Z scores"
   ]
  },
  {
   "cell_type": "code",
   "execution_count": 14,
   "metadata": {},
   "outputs": [],
   "source": [
    "T = len(year_list)"
   ]
  },
  {
   "cell_type": "markdown",
   "metadata": {},
   "source": [
    "MSOA matrices"
   ]
  },
  {
   "cell_type": "code",
   "execution_count": 15,
   "metadata": {},
   "outputs": [
    {
     "data": {
      "application/vnd.jupyter.widget-view+json": {
       "model_id": "68d22b3fbdb64ebc956dd25056fd5667",
       "version_major": 2,
       "version_minor": 0
      },
      "text/plain": [
       "  0%|          | 0/8483 [00:00<?, ?it/s]"
      ]
     },
     "metadata": {},
     "output_type": "display_data"
    }
   ],
   "source": [
    "n_MSOA = A_MSOA_list[0].shape[0]\n",
    "\n",
    "Zscores_all_MSOA = np.zeros((T, n_MSOA, n_MSOA))\n",
    "zero_std_MSOA = 0\n",
    "\n",
    "for i in tqdm(range(n_MSOA)): # wrap in tqdm for progress bar\n",
    "    for j in range(n_MSOA):\n",
    "        Aij_values = [] \n",
    "        # collect Aij values for all years\n",
    "        for t in range(len(year_list)):\n",
    "            Aij_values.append(A_MSOA_list[t][i,j])\n",
    "        # calculate mean and standard deviation\n",
    "        mean_Aij = np.mean(Aij_values)\n",
    "        stddev_Aij = np.std(Aij_values)\n",
    "\n",
    "        # calculate Zscores\n",
    "        Zscores_Aij = []\n",
    "        for k in Aij_values:\n",
    "            if stddev_Aij == 0:\n",
    "                Zscores_Aij.append(0)\n",
    "            else:\n",
    "                Zscores_Aij.append((k - mean_Aij) / stddev_Aij)\n",
    "        Zscores_all_MSOA[:,i,j] = Zscores_Aij\n",
    "    \n",
    "        # find out if LAD-LAD pair never share an edge\n",
    "        for k in Aij_values:\n",
    "            if (stddev_Aij == 0) & (mean_Aij == 0):\n",
    "                zero_std_MSOA += 1\n",
    "            else:\n",
    "                pass"
   ]
  },
  {
   "cell_type": "code",
   "execution_count": 16,
   "metadata": {},
   "outputs": [
    {
     "data": {
      "text/plain": [
       "0.998032692271535"
      ]
     },
     "execution_count": 16,
     "metadata": {},
     "output_type": "execute_result"
    }
   ],
   "source": [
    "(zero_std_MSOA) / (T*n_MSOA*n_MSOA)\n"
   ]
  },
  {
   "cell_type": "code",
   "execution_count": 21,
   "metadata": {},
   "outputs": [
    {
     "data": {
      "text/plain": [
       "0.0019673077284649843"
      ]
     },
     "execution_count": 21,
     "metadata": {},
     "output_type": "execute_result"
    }
   ],
   "source": [
    "1 - 0.998032692271535"
   ]
  },
  {
   "cell_type": "code",
   "execution_count": 17,
   "metadata": {},
   "outputs": [
    {
     "data": {
      "image/png": "[encoded data removed]",
      "text/plain": [
       "<Figure size 432x288 with 1 Axes>"
      ]
     },
     "metadata": {
      "needs_background": "light"
     },
     "output_type": "display_data"
    }
   ],
   "source": [
    "# Reshape the 3D array to a 1D array\n",
    "Zscores_all_MSOA_flatten = Zscores_all_MSOA.flatten()\n",
    "\n",
    "plt.hist(Zscores_all_MSOA_flatten, bins=21)\n",
    "plt.title(\"Histogram of Z-scores for MSOA level graphs\")\n",
    "plt.savefig(\"Histogram_of_Z-scores_for_MSOA_level_graphs.png\")"
   ]
  },
  {
   "cell_type": "markdown",
   "metadata": {},
   "source": [
    "LAD matrices"
   ]
  },
  {
   "cell_type": "code",
   "execution_count": 15,
   "metadata": {},
   "outputs": [
    {
     "data": {
      "application/vnd.jupyter.widget-view+json": {
       "model_id": "de322cbee8b046198f011d9aea58bd93",
       "version_major": 2,
       "version_minor": 0
      },
      "text/plain": [
       "  0%|          | 0/380 [00:00<?, ?it/s]"
      ]
     },
     "metadata": {},
     "output_type": "display_data"
    }
   ],
   "source": [
    "n_LAD = A_LAD_list[0].shape[0]\n",
    "\n",
    "Zscores_all_LAD = np.zeros((T, n_LAD, n_LAD))\n",
    "zero_std_LAD = 0\n",
    "\n",
    "for i in tqdm(range(n_LAD)): # wrap in tqdm for progress bar\n",
    "    for j in range(n_LAD):\n",
    "        Aij_values = [] \n",
    "        # collect Aij values for all years\n",
    "        for t in range(len(year_list)):\n",
    "            Aij_values.append(A_LAD_list[t][i,j])\n",
    "        # calculate mean and standard deviation\n",
    "        mean_Aij = np.mean(Aij_values)\n",
    "        stddev_Aij = np.std(Aij_values)\n",
    "\n",
    "        # calculate Zscores\n",
    "        Zscores_Aij = []\n",
    "        for k in Aij_values:\n",
    "            if stddev_Aij == 0:\n",
    "                Zscores_Aij.append(0)\n",
    "            else:\n",
    "                Zscores_Aij.append((k - mean_Aij) / stddev_Aij)\n",
    "        Zscores_all_LAD[:,i,j] = Zscores_Aij\n",
    "    \n",
    "        # find out if LAD-LAD pair never share an edge\n",
    "        for k in Aij_values:\n",
    "            if (stddev_Aij == 0) & (mean_Aij == 0):\n",
    "                zero_std_LAD += 1\n",
    "            else:\n",
    "                pass"
   ]
  },
  {
   "cell_type": "code",
   "execution_count": 16,
   "metadata": {},
   "outputs": [
    {
     "data": {
      "text/plain": [
       "0.5903808864265928"
      ]
     },
     "execution_count": 16,
     "metadata": {},
     "output_type": "execute_result"
    }
   ],
   "source": [
    "(zero_std_LAD) / (T*n_LAD*n_LAD)\n",
    "\n",
    "# 59% of LAD-LAD pairs never share an edge"
   ]
  },
  {
   "cell_type": "code",
   "execution_count": 22,
   "metadata": {},
   "outputs": [
    {
     "data": {
      "text/plain": [
       "0.4096191135734072"
      ]
     },
     "execution_count": 22,
     "metadata": {},
     "output_type": "execute_result"
    }
   ],
   "source": [
    "1 - 0.5903808864265928"
   ]
  },
  {
   "cell_type": "code",
   "execution_count": 30,
   "metadata": {},
   "outputs": [
    {
     "data": {
      "image/png": "[encoded data removed]",
      "text/plain": [
       "<Figure size 432x288 with 1 Axes>"
      ]
     },
     "metadata": {
      "needs_background": "light"
     },
     "output_type": "display_data"
    }
   ],
   "source": [
    "# Reshape the 3D array to a 1D array\n",
    "Zscores_all_LAD_flatten = Zscores_all_LAD.flatten()\n",
    "\n",
    "plt.hist(Zscores_all_LAD_flatten, bins=21)\n",
    "plt.title(\"Histogram of z-scores for LAD level graphs\")\n",
    "plt.savefig(\"Histogram_of_z-scores_for_LAD_level_graphs.png\")"
   ]
  },
  {
   "cell_type": "markdown",
   "metadata": {},
   "source": [
    "Region matrices"
   ]
  },
  {
   "cell_type": "code",
   "execution_count": 23,
   "metadata": {},
   "outputs": [
    {
     "data": {
      "application/vnd.jupyter.widget-view+json": {
       "model_id": "3e3e128850f04531905eaf8dc1f76ae8",
       "version_major": 2,
       "version_minor": 0
      },
      "text/plain": [
       "  0%|          | 0/11 [00:00<?, ?it/s]"
      ]
     },
     "metadata": {},
     "output_type": "display_data"
    }
   ],
   "source": [
    "n_Reg = A_Reg_list[0].shape[0]\n",
    "\n",
    "Zscores_all_Reg = np.zeros((T, n_Reg, n_Reg))\n",
    "\n",
    "zero_std_Reg = 0\n",
    "\n",
    "for i in tqdm(range(n_Reg)): # wrap in tqdm for progress bar\n",
    "    for j in range(n_Reg):\n",
    "        Aij_values = [] \n",
    "        for t in range(len(year_list)):\n",
    "            Aij_values.append(A_Reg_list[t][i,j])\n",
    "        mean_Aij = np.mean(Aij_values)\n",
    "        stddev_Aij = np.std(Aij_values)\n",
    "        Zscores_Aij = []\n",
    "        for k in Aij_values:\n",
    "            if stddev_Aij == 0:\n",
    "                Zscores_Aij.append(0)\n",
    "            else:\n",
    "                Zscores_Aij.append((k - mean_Aij) / stddev_Aij)\n",
    "        Zscores_all_Reg[:,i,j] = Zscores_Aij\n",
    "\n",
    "        # find out if Reg-Reg pair never share an edge\n",
    "        for k in Aij_values:\n",
    "            if (stddev_Aij == 0) & (mean_Aij == 0):\n",
    "                zero_std_Reg += 1\n",
    "            else:\n",
    "                pass"
   ]
  },
  {
   "cell_type": "code",
   "execution_count": 25,
   "metadata": {},
   "outputs": [
    {
     "data": {
      "text/plain": [
       "0.0"
      ]
     },
     "execution_count": 25,
     "metadata": {},
     "output_type": "execute_result"
    }
   ],
   "source": [
    "(zero_std_Reg) / (T*n_Reg*n_Reg)\n"
   ]
  },
  {
   "cell_type": "code",
   "execution_count": 19,
   "metadata": {},
   "outputs": [
    {
     "data": {
      "image/png": "[encoded data removed]",
      "text/plain": [
       "<Figure size 432x288 with 1 Axes>"
      ]
     },
     "metadata": {
      "needs_background": "light"
     },
     "output_type": "display_data"
    }
   ],
   "source": [
    "# Reshape the 3D array to a 1D array\n",
    "Zscores_all_Reg_flatten = Zscores_all_Reg.flatten()\n",
    "\n",
    "plt.hist(Zscores_all_Reg_flatten, bins=50)\n",
    "plt.title(\"Histogram of Z-scores for Region level graphs\")\n",
    "plt.savefig(\"Histogram_of_Z-scores_for_Reg_level_graphs.png\")"
   ]
  },
  {
   "cell_type": "code",
   "execution_count": 20,
   "metadata": {},
   "outputs": [
    {
     "ename": "NameError",
     "evalue": "name 'zero_std_MSOA' is not defined",
     "output_type": "error",
     "traceback": [
      "\u001b[0;31m---------------------------------------------------------------------------\u001b[0m",
      "\u001b[0;31mNameError\u001b[0m                                 Traceback (most recent call last)",
      "\u001b[0;32m/tmp/ipykernel_5851/2378870069.py\u001b[0m in \u001b[0;36m<module>\u001b[0;34m\u001b[0m\n\u001b[1;32m      2\u001b[0m \u001b[0;34m\u001b[0m\u001b[0m\n\u001b[1;32m      3\u001b[0m \u001b[0mnonRelsdf\u001b[0m \u001b[0;34m=\u001b[0m \u001b[0mpd\u001b[0m\u001b[0;34m.\u001b[0m\u001b[0mDataFrame\u001b[0m\u001b[0;34m(\u001b[0m\u001b[0mcolumns\u001b[0m \u001b[0;34m=\u001b[0m \u001b[0;34m[\u001b[0m\u001b[0;34m\"Level\"\u001b[0m\u001b[0;34m,\u001b[0m \u001b[0;34m\"Proportion pairs in graphs that never make a connection\"\u001b[0m\u001b[0;34m]\u001b[0m\u001b[0;34m)\u001b[0m\u001b[0;34m\u001b[0m\u001b[0;34m\u001b[0m\u001b[0m\n\u001b[0;32m----> 4\u001b[0;31m \u001b[0mnonRelsdf\u001b[0m\u001b[0;34m.\u001b[0m\u001b[0mloc\u001b[0m\u001b[0;34m[\u001b[0m\u001b[0;36m0\u001b[0m\u001b[0;34m]\u001b[0m \u001b[0;34m=\u001b[0m \u001b[0;34m[\u001b[0m\u001b[0;34m\"MSOA\"\u001b[0m\u001b[0;34m,\u001b[0m \u001b[0;34m(\u001b[0m\u001b[0mzero_std_MSOA\u001b[0m\u001b[0;34m)\u001b[0m \u001b[0;34m/\u001b[0m \u001b[0;34m(\u001b[0m\u001b[0mT\u001b[0m\u001b[0;34m*\u001b[0m\u001b[0mn_MSOA\u001b[0m\u001b[0;34m*\u001b[0m\u001b[0mn_MSOA\u001b[0m\u001b[0;34m)\u001b[0m\u001b[0;34m]\u001b[0m\u001b[0;34m\u001b[0m\u001b[0;34m\u001b[0m\u001b[0m\n\u001b[0m\u001b[1;32m      5\u001b[0m \u001b[0mnonRelsdf\u001b[0m\u001b[0;34m.\u001b[0m\u001b[0mloc\u001b[0m\u001b[0;34m[\u001b[0m\u001b[0;36m1\u001b[0m\u001b[0;34m]\u001b[0m \u001b[0;34m=\u001b[0m \u001b[0;34m[\u001b[0m\u001b[0;34m\"LAD\"\u001b[0m\u001b[0;34m,\u001b[0m \u001b[0;34m(\u001b[0m\u001b[0mzero_std_LAD\u001b[0m\u001b[0;34m)\u001b[0m \u001b[0;34m/\u001b[0m \u001b[0;34m(\u001b[0m\u001b[0mT\u001b[0m\u001b[0;34m*\u001b[0m\u001b[0mn_LAD\u001b[0m\u001b[0;34m*\u001b[0m\u001b[0mn_LAD\u001b[0m\u001b[0;34m)\u001b[0m\u001b[0;34m]\u001b[0m\u001b[0;34m\u001b[0m\u001b[0;34m\u001b[0m\u001b[0m\n\u001b[1;32m      6\u001b[0m \u001b[0mnonRelsdf\u001b[0m\u001b[0;34m.\u001b[0m\u001b[0mloc\u001b[0m\u001b[0;34m[\u001b[0m\u001b[0;36m2\u001b[0m\u001b[0;34m]\u001b[0m \u001b[0;34m=\u001b[0m \u001b[0;34m[\u001b[0m\u001b[0;34m\"Region\"\u001b[0m\u001b[0;34m,\u001b[0m \u001b[0;34m(\u001b[0m\u001b[0mzero_std_Reg\u001b[0m\u001b[0;34m)\u001b[0m \u001b[0;34m/\u001b[0m \u001b[0;34m(\u001b[0m\u001b[0mT\u001b[0m\u001b[0;34m*\u001b[0m\u001b[0mn_Reg\u001b[0m\u001b[0;34m*\u001b[0m\u001b[0mn_Reg\u001b[0m\u001b[0;34m)\u001b[0m\u001b[0;34m]\u001b[0m\u001b[0;34m\u001b[0m\u001b[0;34m\u001b[0m\u001b[0m\n",
      "\u001b[0;31mNameError\u001b[0m: name 'zero_std_MSOA' is not defined"
     ]
    }
   ],
   "source": [
    "# make a pandas df of (zero_std_MSOA) / (T*n_MSOA*n_MSOA) \n",
    "\n",
    "nonRelsdf = pd.DataFrame(columns = [\"Level\", \"Proportion pairs in graphs that never make a connection\"])\n",
    "nonRelsdf.loc[0] = [\"MSOA\", (zero_std_MSOA) / (T*n_MSOA*n_MSOA)]\n",
    "nonRelsdf.loc[1] = [\"LAD\", (zero_std_LAD) / (T*n_LAD*n_LAD)]\n",
    "nonRelsdf.loc[2] = [\"Region\", (zero_std_Reg) / (T*n_Reg*n_Reg)]\n",
    "\n",
    "nonRelsdf"
   ]
  },
  {
   "cell_type": "code",
   "execution_count": null,
   "metadata": {},
   "outputs": [],
   "source": []
  },
  {
   "cell_type": "code",
   "execution_count": null,
   "metadata": {},
   "outputs": [],
   "source": []
  },
  {
   "cell_type": "code",
   "execution_count": null,
   "metadata": {},
   "outputs": [],
   "source": []
  },
  {
   "cell_type": "code",
   "execution_count": null,
   "metadata": {},
   "outputs": [],
   "source": []
  },
  {
   "cell_type": "code",
   "execution_count": null,
   "metadata": {},
   "outputs": [],
   "source": []
  }
 ],
 "metadata": {
  "kernelspec": {
   "display_name": "base",
   "language": "python",
   "name": "python3"
  },
  "language_info": {
   "codemirror_mode": {
    "name": "ipython",
    "version": 3
   },
   "file_extension": ".py",
   "mimetype": "text/x-python",
   "name": "python",
   "nbconvert_exporter": "python",
   "pygments_lexer": "ipython3",
   "version": "3.9.7"
  }
 },
 "nbformat": 4,
 "nbformat_minor": 2
}
