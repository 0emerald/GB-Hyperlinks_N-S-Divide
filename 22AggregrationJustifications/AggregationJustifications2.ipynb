{
 "cells": [
  {
   "cell_type": "code",
   "execution_count": 32,
   "metadata": {},
   "outputs": [],
   "source": [
    "import numpy as np\n",
    "import pandas as pd\n",
    "from scipy.sparse import csr_matrix, hstack\n",
    "from scipy.io import mmread, mmwrite\n",
    "import matplotlib.pyplot as plt\n",
    "from scipy import sparse\n",
    "import plotly.express as px\n",
    "import random\n",
    "import math\n",
    "import seaborn as sns\n",
    "from plotly import graph_objects as go\n",
    "import matplotlib.patches as patches\n",
    "from tqdm.notebook import tqdm\n",
    "from scipy.sparse.csgraph import connected_components"
   ]
  },
  {
   "cell_type": "markdown",
   "metadata": {},
   "source": [
    "v5 matrices at LAD level are binary and for GB. (they are named Uk but for GB)"
   ]
  },
  {
   "cell_type": "markdown",
   "metadata": {},
   "source": [
    "MSOA matrices"
   ]
  },
  {
   "cell_type": "code",
   "execution_count": 33,
   "metadata": {},
   "outputs": [],
   "source": [
    "A_MSOA_list = []\n",
    "\n",
    "for year in range(2005,2011):\n",
    "    # does 2005-2010 inclusive\n",
    "    filepath = \"A_for_\" + str(year) + \"_binary_MSOA_UK.mtx\" # file name to read in \n",
    "    A = mmread(filepath).todense()[0:8483, 0:8483] # don't want the Northern Ireland MSOAs\n",
    "    \n",
    "    A_MSOA_list.append(A)"
   ]
  },
  {
   "cell_type": "markdown",
   "metadata": {},
   "source": [
    "LAD matrices"
   ]
  },
  {
   "cell_type": "code",
   "execution_count": 34,
   "metadata": {},
   "outputs": [],
   "source": [
    "A_LAD_list = []\n",
    "year_list = []\n",
    "\n",
    "for year in range(2005,2011):\n",
    "    # does 2005-2010 inclusive\n",
    "    filepath = \"A_LAD_\" + str(year) + \"_UK_v5.mtx\" # file name to read in \n",
    "    A = mmread(filepath).todense() # temporary\n",
    "    \n",
    "    year_list.append(year)\n",
    "    A_LAD_list.append(A)"
   ]
  },
  {
   "cell_type": "markdown",
   "metadata": {},
   "source": [
    "Region matrices"
   ]
  },
  {
   "cell_type": "code",
   "execution_count": 35,
   "metadata": {},
   "outputs": [],
   "source": [
    "A_Reg_list = []\n",
    "\n",
    "for year in range(2005,2011):\n",
    "    # does 2005-2010 inclusive\n",
    "    filepath = \"A_Reg_\" + str(year) + \"_GB.mtx\" # file name to read in \n",
    "    A = mmread(filepath).todense() # temporary\n",
    "    \n",
    "    A_Reg_list.append(A)"
   ]
  },
  {
   "cell_type": "code",
   "execution_count": 36,
   "metadata": {},
   "outputs": [],
   "source": [
    "T = len(year_list)"
   ]
  },
  {
   "cell_type": "markdown",
   "metadata": {},
   "source": [
    "### Number of connected components"
   ]
  },
  {
   "cell_type": "code",
   "execution_count": 41,
   "metadata": {},
   "outputs": [
    {
     "name": "stdout",
     "output_type": "stream",
     "text": [
      "MSOA:  [1539, 2441, 2019, 1152, 3053, 1472]\n",
      "LAD:  [1, 1, 1, 1, 1, 1]\n",
      "Region:  [1, 1, 1, 1, 1, 1]\n"
     ]
    }
   ],
   "source": [
    "## MSOA\n",
    "MSOA_n_components_list = []\n",
    "for t in range(T):\n",
    "    graph = csr_matrix(A_MSOA_list[t])\n",
    "    n_components, labels = connected_components(csgraph=graph, directed=True, return_labels=True)\n",
    "    MSOA_n_components_list.append(n_components)\n",
    "print(\"MSOA: \", MSOA_n_components_list)\n",
    "\n",
    "## LAD\n",
    "LAD_n_components_list = []\n",
    "for t in range(T):\n",
    "    graph = csr_matrix(A_LAD_list[t])\n",
    "    n_components, labels = connected_components(csgraph=graph, directed=True, return_labels=True)\n",
    "    LAD_n_components_list.append(n_components)\n",
    "print(\"LAD: \", LAD_n_components_list)\n",
    "\n",
    "## Region\n",
    "Reg_n_components_list = []\n",
    "for t in range(T):\n",
    "    graph = csr_matrix(A_Reg_list[t])\n",
    "    n_components, labels = connected_components(csgraph=graph, directed=True, return_labels=True)\n",
    "    Reg_n_components_list.append(n_components)\n",
    "print(\"Region: \", Reg_n_components_list)"
   ]
  },
  {
   "cell_type": "code",
   "execution_count": 42,
   "metadata": {},
   "outputs": [
    {
     "data": {
      "text/plain": [
       "1946.0"
      ]
     },
     "execution_count": 42,
     "metadata": {},
     "output_type": "execute_result"
    }
   ],
   "source": [
    "np.mean(MSOA_n_components_list)"
   ]
  },
  {
   "cell_type": "markdown",
   "metadata": {},
   "source": [
    "### Some new attempt to find spread\n",
    "\n",
    "\n",
    "11Oct2023 - I should've been doing something binomial not normal - i dont get what the point is tbh"
   ]
  },
  {
   "cell_type": "code",
   "execution_count": 23,
   "metadata": {},
   "outputs": [],
   "source": [
    "# ## MSOA\n",
    "\n",
    "# n_MSOA = A_MSOA_list[0].shape[0]\n",
    "\n",
    "# truevspred_MSOA = np.zeros((T, n_MSOA, n_MSOA))\n",
    "# meanMSOAmatrix = np.zeros((n_MSOA, n_MSOA))\n",
    "# MiMSOA_values = []\n",
    "\n",
    "# 'CALCULATE VALUES'\n",
    "# for i in tqdm(range(n_MSOA)): # wrap in tqdm for progress bar\n",
    "#     for j in range(n_MSOA):\n",
    "#         Aij_values = [] \n",
    "#         # collect Aij values for all years\n",
    "#         for t in range(len(year_list)):\n",
    "#             Aij_values.append(A_MSOA_list[t][i,j])\n",
    "#         # calculate mean and standard deviation\n",
    "#         mean_Aij = np.mean(Aij_values)\n",
    "#         meanMSOAmatrix[i,j] = mean_Aij\n",
    "\n",
    "#     # new stuff\n",
    "#     Ai_values = []\n",
    "#     for t in range(len(year_list)): \n",
    "#         Ai_values.append(A_MSOA_list[t][i,:])\n",
    "#     Mi = np.mean(Ai_values)\n",
    "#     # store in a global length n list\n",
    "#     MiMSOA_values.append(Mi)\n",
    "\n",
    "# 'MAKE PREDICTIONS AND STORE'\n",
    "# for i in tqdm(range(n_MSOA)):\n",
    "#     for j in range(n_MSOA):\n",
    "#         for t in range(T):\n",
    "#             # calculate prediction\n",
    "#             truevspred_MSOA[t,i,j] = A_MSOA_list[t][i,j] - (np.random.normal(meanMSOAmatrix[i,j] , MiMSOA_values[i], 1)) # true - pred"
   ]
  },
  {
   "cell_type": "code",
   "execution_count": 24,
   "metadata": {},
   "outputs": [],
   "source": [
    "# del meanMSOAmatrix\n",
    "# del MiMSOA_values"
   ]
  },
  {
   "cell_type": "code",
   "execution_count": 25,
   "metadata": {},
   "outputs": [],
   "source": [
    "# # Reshape the 3D array to a 1D array\n",
    "# truevspred_MSOA_flatten = truevspred_MSOA.flatten()\n",
    "\n",
    "# plt.hist((truevspred_MSOA_flatten), bins=21)\n",
    "# plt.title(\"Histogram of log10(difference between true and predicted value) for MSOA level graphs\")\n",
    "# plt.savefig(\"Histogram_of_difference_for_MSOA_level_graphs.png\")"
   ]
  },
  {
   "cell_type": "code",
   "execution_count": 26,
   "metadata": {},
   "outputs": [
    {
     "data": {
      "application/vnd.jupyter.widget-view+json": {
       "model_id": "3bc14bef429c477092d0a6266978d5ef",
       "version_major": 2,
       "version_minor": 0
      },
      "text/plain": [
       "  0%|          | 0/380 [00:00<?, ?it/s]"
      ]
     },
     "metadata": {},
     "output_type": "display_data"
    },
    {
     "data": {
      "application/vnd.jupyter.widget-view+json": {
       "model_id": "2e93f3185a3246bf832e909325195354",
       "version_major": 2,
       "version_minor": 0
      },
      "text/plain": [
       "  0%|          | 0/380 [00:00<?, ?it/s]"
      ]
     },
     "metadata": {},
     "output_type": "display_data"
    }
   ],
   "source": [
    "## LAD\n",
    "\n",
    "n_LAD = A_LAD_list[0].shape[0]\n",
    "\n",
    "truevspred_LAD = np.zeros((T, n_LAD, n_LAD))\n",
    "meanLADmatrix = np.zeros((n_LAD, n_LAD))\n",
    "MiLAD_values = []\n",
    "\n",
    "'CALCULATE VALUES'\n",
    "for i in tqdm(range(n_LAD)): # wrap in tqdm for progress bar\n",
    "    for j in range(n_LAD):\n",
    "        Aij_values = [] \n",
    "        # collect Aij values for all years\n",
    "        for t in range(len(year_list)):\n",
    "            Aij_values.append(A_LAD_list[t][i,j])\n",
    "        # calculate mean and standard deviation\n",
    "        mean_Aij = np.mean(Aij_values)\n",
    "        meanLADmatrix[i,j] = mean_Aij\n",
    "\n",
    "    # new stuff\n",
    "    Ai_values = []\n",
    "    for t in range(len(year_list)): \n",
    "        Ai_values.append(A_LAD_list[t][i,:])\n",
    "    Mi = np.mean(Ai_values)\n",
    "    # store in a global length n list\n",
    "    MiLAD_values.append(Mi)\n",
    "\n",
    "'MAKE PREDICTIONS AND STORE'\n",
    "for i in tqdm(range(n_LAD)):\n",
    "    for j in range(n_LAD):\n",
    "        for t in range(T):\n",
    "            # calculate prediction\n",
    "            truevspred_LAD[t,i,j] = A_LAD_list[t][i,j] - (np.random.normal(meanLADmatrix[i,j] , MiLAD_values[i], 1)) # true - pred"
   ]
  },
  {
   "cell_type": "code",
   "execution_count": 27,
   "metadata": {},
   "outputs": [],
   "source": [
    "del MiLAD_values\n",
    "del meanLADmatrix"
   ]
  },
  {
   "cell_type": "code",
   "execution_count": 28,
   "metadata": {},
   "outputs": [
    {
     "name": "stderr",
     "output_type": "stream",
     "text": [
      "/tmp/ipykernel_15321/4015963434.py:4: RuntimeWarning: invalid value encountered in log10\n",
      "  plt.hist(np.log10(truevspred_LAD_flatten), bins=21)\n"
     ]
    },
    {
     "data": {
      "image/png": "[encoded data removed]",
      "text/plain": [
       "<Figure size 432x288 with 1 Axes>"
      ]
     },
     "metadata": {
      "needs_background": "light"
     },
     "output_type": "display_data"
    }
   ],
   "source": [
    "# Reshape the 3D array to a 1D array\n",
    "truevspred_LAD_flatten = truevspred_LAD.flatten()\n",
    "\n",
    "plt.hist(np.log10(truevspred_LAD_flatten), bins=21)\n",
    "plt.title(\"Histogram of log10(difference between true and predicted value) for LAD level graphs\")\n",
    "plt.savefig(\"Histogram_of_difference_for_LAD_level_graphs.png\")"
   ]
  },
  {
   "cell_type": "code",
   "execution_count": 29,
   "metadata": {},
   "outputs": [
    {
     "data": {
      "text/plain": [
       "12203.127962455124"
      ]
     },
     "execution_count": 29,
     "metadata": {},
     "output_type": "execute_result"
    }
   ],
   "source": [
    "np.max(truevspred_LAD_flatten)"
   ]
  },
  {
   "cell_type": "code",
   "execution_count": 39,
   "metadata": {},
   "outputs": [
    {
     "data": {
      "application/vnd.jupyter.widget-view+json": {
       "model_id": "3a65551dacd6490a978e36e579795b10",
       "version_major": 2,
       "version_minor": 0
      },
      "text/plain": [
       "  0%|          | 0/11 [00:00<?, ?it/s]"
      ]
     },
     "metadata": {},
     "output_type": "display_data"
    },
    {
     "data": {
      "application/vnd.jupyter.widget-view+json": {
       "model_id": "6c95164fb5ad436cad838c77897784c9",
       "version_major": 2,
       "version_minor": 0
      },
      "text/plain": [
       "  0%|          | 0/11 [00:00<?, ?it/s]"
      ]
     },
     "metadata": {},
     "output_type": "display_data"
    }
   ],
   "source": [
    "## Reg\n",
    "\n",
    "n_Reg = A_Reg_list[0].shape[0]\n",
    "\n",
    "truevspred_Reg = np.zeros((T, n_Reg, n_Reg))\n",
    "meanRegmatrix = np.zeros((n_Reg, n_Reg))\n",
    "MiReg_values = []\n",
    "\n",
    "'CALCULATE VALUES'\n",
    "for i in tqdm(range(n_Reg)): # wrap in tqdm for progress bar\n",
    "    for j in range(n_Reg):\n",
    "        Aij_values = [] \n",
    "        # collect Aij values for all years\n",
    "        for t in range(len(year_list)):\n",
    "            Aij_values.append(A_Reg_list[t][i,j])\n",
    "        # calculate mean and standard deviation\n",
    "        mean_Aij = np.mean(Aij_values)\n",
    "        meanRegmatrix[i,j] = mean_Aij\n",
    "\n",
    "    # new stuff\n",
    "    Ai_values = []\n",
    "    for t in range(len(year_list)): \n",
    "        Ai_values.append(A_Reg_list[t][i,:])\n",
    "    Mi = np.mean(Ai_values)\n",
    "    # store in a global length n list\n",
    "    MiReg_values.append(Mi)\n",
    "\n",
    "'MAKE PREDICTIONS AND STORE'\n",
    "for i in tqdm(range(n_Reg)):\n",
    "    for j in range(n_Reg):\n",
    "        for t in range(T):\n",
    "            # calculate prediction\n",
    "            truevspred_Reg[t,i,j] = A_Reg_list[t][i,j] - (np.random.normal(meanRegmatrix[i,j] , MiReg_values[i], 1)) # true - pred"
   ]
  },
  {
   "cell_type": "code",
   "execution_count": 40,
   "metadata": {},
   "outputs": [
    {
     "name": "stderr",
     "output_type": "stream",
     "text": [
      "/tmp/ipykernel_15321/3429305744.py:4: RuntimeWarning: invalid value encountered in log10\n",
      "  plt.hist(np.log10(truevspred_Reg_flatten), bins=21)\n"
     ]
    },
    {
     "data": {
      "image/png": "[encoded data removed]",
      "text/plain": [
       "<Figure size 432x288 with 1 Axes>"
      ]
     },
     "metadata": {
      "needs_background": "light"
     },
     "output_type": "display_data"
    }
   ],
   "source": [
    "# Reshape the 3D array to a 1D array\n",
    "truevspred_Reg_flatten = truevspred_Reg.flatten()\n",
    "\n",
    "plt.hist(np.log10(truevspred_Reg_flatten), bins=21)\n",
    "plt.title(\"Histogram of log10(difference between true and predicted value) for Region level graphs\")\n",
    "plt.savefig(\"Histogram_of_difference_for_Reg_level_graphs.png\")"
   ]
  },
  {
   "cell_type": "code",
   "execution_count": null,
   "metadata": {},
   "outputs": [],
   "source": []
  }
 ],
 "metadata": {
  "kernelspec": {
   "display_name": "base",
   "language": "python",
   "name": "python3"
  },
  "language_info": {
   "codemirror_mode": {
    "name": "ipython",
    "version": 3
   },
   "file_extension": ".py",
   "mimetype": "text/x-python",
   "name": "python",
   "nbconvert_exporter": "python",
   "pygments_lexer": "ipython3",
   "version": "3.9.7"
  }
 },
 "nbformat": 4,
 "nbformat_minor": 2
}
